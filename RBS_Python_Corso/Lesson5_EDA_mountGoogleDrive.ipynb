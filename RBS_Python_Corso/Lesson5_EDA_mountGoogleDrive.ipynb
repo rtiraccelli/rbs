{
  "cells": [
    {
      "cell_type": "markdown",
      "metadata": {
        "id": "R9e111-fQHPY"
      },
      "source": [
        "# Data Grouping, Concatenation, Joining, and Merging with Pandas\n",
        "\n",
        "## Grouping Data\n",
        "\n",
        "In many data analyses, it is necessary to compute summaries not for the entire table but for specific groups of data, typically divided based on the distinct values of a categorical variable.\n",
        "\n",
        "\n"
      ]
    },
    {
      "cell_type": "code",
      "execution_count": null,
      "metadata": {
        "id": "0zPXSOuHZCNQ"
      },
      "outputs": [],
      "source": [
        "import pandas as pd\n",
        "import numpy as np"
      ]
    },
    {
      "cell_type": "code",
      "execution_count": null,
      "metadata": {
        "colab": {
          "base_uri": "https://localhost:8080/"
        },
        "id": "C2d1D_KCWMn1",
        "outputId": "cd5faca5-024c-474d-d277-498ef5e07799"
      },
      "outputs": [
        {
          "name": "stdout",
          "output_type": "stream",
          "text": [
            "  Football_team    Player  Price\n",
            "0         Milan   Inzaghi    240\n",
            "1         Milan   Gattuso    150\n",
            "2          Roma     Totti    280\n",
            "3          Roma  De Rossi    200\n",
            "4          Juve    Buffon    300\n",
            "5   Real_madrid    Zidane    290\n"
          ]
        }
      ],
      "source": [
        "# Creating a sample DataFrame\n",
        "football = {'Football_team': ['Milan', 'Milan', 'Roma', 'Roma', 'Juve', 'Real_madrid'],\n",
        "            'Player': ['Inzaghi', 'Gattuso', 'Totti', 'De Rossi', 'Buffon', 'Zidane'],\n",
        "            'Price': [240, 150, 280, 200, 300, 290]}\n",
        "football_df = pd.DataFrame(football)\n",
        "print(football_df)\n"
      ]
    },
    {
      "cell_type": "markdown",
      "metadata": {
        "id": "Sey7S_j2WJxX"
      },
      "source": [
        "### Grouping and Aggregating Data\n",
        "Grouping data and extracting statistics for football players.\n",
        "\n",
        "\n",
        "\n"
      ]
    },
    {
      "cell_type": "code",
      "execution_count": null,
      "metadata": {
        "id": "hiQ8GFN9WI6b"
      },
      "outputs": [],
      "source": [
        "# Grouping by 'Football_team'\n",
        "by_team = football_df.groupby('Football_team')"
      ]
    },
    {
      "cell_type": "code",
      "execution_count": null,
      "metadata": {
        "colab": {
          "base_uri": "https://localhost:8080/"
        },
        "id": "cLPOEo8Fo46-",
        "outputId": "a8ff6f6d-00e3-47c3-876a-a08b0e23406b"
      },
      "outputs": [
        {
          "data": {
            "text/plain": [
              "<pandas.core.groupby.generic.DataFrameGroupBy object at 0x7e250cd2d390>"
            ]
          },
          "execution_count": 22,
          "metadata": {},
          "output_type": "execute_result"
        }
      ],
      "source": [
        "by_team"
      ]
    },
    {
      "cell_type": "code",
      "execution_count": null,
      "metadata": {
        "colab": {
          "base_uri": "https://localhost:8080/"
        },
        "id": "KDlvVBRso0tg",
        "outputId": "cc0b9e40-f2a1-48ea-804d-eea6c3e383c4"
      },
      "outputs": [
        {
          "name": "stdout",
          "output_type": "stream",
          "text": [
            "Football_team\n",
            "Juve           1\n",
            "Milan          2\n",
            "Real_madrid    1\n",
            "Roma           2\n",
            "Name: Price, dtype: int64\n",
            "Football_team\n",
            "Juve           1\n",
            "Milan          2\n",
            "Real_madrid    1\n",
            "Roma           2\n",
            "Name: Price, dtype: int64\n"
          ]
        }
      ],
      "source": [
        "# Applying summary methods\n",
        "print(by_team.Price.count())\n",
        "print(football_df.groupby('Football_team').Price.count())"
      ]
    },
    {
      "cell_type": "code",
      "execution_count": null,
      "metadata": {
        "id": "wBlgFsWGpQTU"
      },
      "outputs": [],
      "source": [
        "#print(by_team.mean())\n"
      ]
    },
    {
      "cell_type": "code",
      "execution_count": null,
      "metadata": {
        "colab": {
          "base_uri": "https://localhost:8080/"
        },
        "id": "rw12JSeEpd8k",
        "outputId": "effac669-d689-4df2-a86b-4764214ff427"
      },
      "outputs": [
        {
          "name": "stdout",
          "output_type": "stream",
          "text": [
            "                Player  Price\n",
            "Football_team                \n",
            "Juve            Buffon    300\n",
            "Milan          Inzaghi    240\n",
            "Real_madrid     Zidane    290\n",
            "Roma             Totti    280\n",
            "              Price                                                     \n",
            "              count   mean        std    min    25%    50%    75%    max\n",
            "Football_team                                                           \n",
            "Juve            1.0  300.0        NaN  300.0  300.0  300.0  300.0  300.0\n",
            "Milan           2.0  195.0  63.639610  150.0  172.5  195.0  217.5  240.0\n",
            "Real_madrid     1.0  290.0        NaN  290.0  290.0  290.0  290.0  290.0\n",
            "Roma            2.0  240.0  56.568542  200.0  220.0  240.0  260.0  280.0\n"
          ]
        }
      ],
      "source": [
        "print(by_team.max())\n",
        "print(by_team.describe())\n"
      ]
    },
    {
      "cell_type": "markdown",
      "metadata": {
        "id": "pIFzf3lcWGE9"
      },
      "source": [
        "###Using the agg Method\n",
        "To avoid specifying operations one by one, you can use the agg method after groupby.\n",
        "\n",
        "\n",
        "\n"
      ]
    },
    {
      "cell_type": "code",
      "execution_count": null,
      "metadata": {
        "colab": {
          "base_uri": "https://localhost:8080/"
        },
        "id": "QrrYMZC0WFJN",
        "outputId": "8bc40543-1eba-4b01-80ff-0c89aa5b1954"
      },
      "outputs": [
        {
          "name": "stdout",
          "output_type": "stream",
          "text": [
            "              Price            \n",
            "              count   mean  max\n",
            "Football_team                  \n",
            "Juve              1  300.0  300\n",
            "Milan             2  195.0  240\n",
            "Real_madrid       1  290.0  290\n",
            "Roma              2  240.0  280\n"
          ]
        }
      ],
      "source": [
        "agg1 = by_team.agg({'Price': ['count', 'mean', 'max']})\n",
        "print(agg1)\n",
        "\n"
      ]
    },
    {
      "cell_type": "code",
      "execution_count": null,
      "metadata": {
        "colab": {
          "base_uri": "https://localhost:8080/"
        },
        "id": "bjIFwuJnqzwD",
        "outputId": "26981e7d-ab72-466b-e397-9af389c51a3b"
      },
      "outputs": [
        {
          "name": "stdout",
          "output_type": "stream",
          "text": [
            "Football_team\n",
            "Juve           300.0\n",
            "Milan          195.0\n",
            "Real_madrid    290.0\n",
            "Roma           240.0\n",
            "Name: mean, dtype: float64\n",
            "<class 'pandas.core.series.Series'>\n",
            "                mean\n",
            "Football_team       \n",
            "Juve           300.0\n",
            "Milan          195.0\n",
            "Real_madrid    290.0\n",
            "Roma           240.0\n",
            "<class 'pandas.core.frame.DataFrame'>\n"
          ]
        }
      ],
      "source": [
        "# Accessing hierarchical column names\n",
        "print(agg1['Price']['mean'])\n",
        "print(type(agg1['Price']['mean']))\n",
        "print(agg1['Price'][['mean']])\n",
        "print(type(agg1['Price'][['mean']]))\n",
        "\n"
      ]
    },
    {
      "cell_type": "markdown",
      "metadata": {
        "id": "31tuIVr9V_nJ"
      },
      "source": [
        "### Combining Multiple DataFrames\n",
        "In this section, we will learn how to combine multiple DataFrames using the concat and join and merge methods.\n",
        "\n"
      ]
    },
    {
      "cell_type": "markdown",
      "metadata": {
        "id": "9kfmaOdpV95d"
      },
      "source": [
        "Creating DataFrames\n",
        "\n",
        "\n"
      ]
    },
    {
      "cell_type": "code",
      "execution_count": null,
      "metadata": {
        "colab": {
          "base_uri": "https://localhost:8080/"
        },
        "id": "HiVXXVJ_V5kh",
        "outputId": "3421747e-f880-4c20-917e-d77c78d5c03a"
      },
      "outputs": [
        {
          "name": "stdout",
          "output_type": "stream",
          "text": [
            "       A       B        C         D\n",
            "0  Red_0  Blue_0  Green_0  Yellow_0\n",
            "1  Red_1  Blue_1  Green_1  Yellow_1\n",
            "2  Red_2  Blue_2  Green_2  Yellow_2\n",
            "3  Red_3  Blue_3  Green_3  Yellow_3\n",
            "       A       B        C         D\n",
            "4  Red_4  Blue_4  Green_4  Yellow_4\n",
            "5  Red_5  Blue_5  Green_5  Yellow_5\n",
            "6  Red_6  Blue_6  Green_6  Yellow_6\n",
            "7  Red_7  Blue_7  Green_7  Yellow_7\n",
            "         A        B         C          D\n",
            "8    Red_8   Blue_8   Green_8   Yellow_8\n",
            "9    Red_9   Blue_9   Green_9   Yellow_9\n",
            "10  Red_10  Blue_10  Green_10  Yellow_10\n",
            "11  Red_11  Blue_11  Green_11  Yellow_11\n"
          ]
        }
      ],
      "source": [
        "# Creating sample DataFrames\n",
        "df1 = pd.DataFrame({'A': ['Red_0', 'Red_1', 'Red_2', 'Red_3'],\n",
        "                    'B': ['Blue_0', 'Blue_1', 'Blue_2', 'Blue_3'],\n",
        "                    'C': ['Green_0', 'Green_1', 'Green_2', 'Green_3'],\n",
        "                    'D': ['Yellow_0', 'Yellow_1', 'Yellow_2', 'Yellow_3']},\n",
        "                   index=[0, 1, 2, 3])\n",
        "\n",
        "df2 = pd.DataFrame({'A': ['Red_4', 'Red_5', 'Red_6', 'Red_7'],\n",
        "                    'B': ['Blue_4', 'Blue_5', 'Blue_6', 'Blue_7'],\n",
        "                    'C': ['Green_4', 'Green_5', 'Green_6', 'Green_7'],\n",
        "                    'D': ['Yellow_4', 'Yellow_5', 'Yellow_6', 'Yellow_7']},\n",
        "                   index=[4, 5, 6, 7])\n",
        "\n",
        "df3 = pd.DataFrame({'A': ['Red_8', 'Red_9', 'Red_10', 'Red_11'],\n",
        "                    'B': ['Blue_8', 'Blue_9', 'Blue_10', 'Blue_11'],\n",
        "                    'C': ['Green_8', 'Green_9', 'Green_10', 'Green_11'],\n",
        "                    'D': ['Yellow_8', 'Yellow_9', 'Yellow_10', 'Yellow_11']},\n",
        "                   index=[8, 9, 10, 11])\n",
        "print(df1)\n",
        "print(df2)\n",
        "print(df3)\n"
      ]
    },
    {
      "cell_type": "markdown",
      "metadata": {
        "id": "zhzwIeZcV276"
      },
      "source": [
        "### Concatenating DataFrames\n",
        "Using the concat function to concatenate DataFrames vertically and horizontally.\n",
        "\n",
        "\n",
        "\n"
      ]
    },
    {
      "cell_type": "code",
      "execution_count": null,
      "metadata": {
        "colab": {
          "base_uri": "https://localhost:8080/"
        },
        "id": "Ly4TuAJkV0s4",
        "outputId": "3b34a6cc-111f-4428-9ccc-38df1a0d96d5"
      },
      "outputs": [
        {
          "name": "stdout",
          "output_type": "stream",
          "text": [
            "         A        B         C          D\n",
            "0    Red_0   Blue_0   Green_0   Yellow_0\n",
            "1    Red_1   Blue_1   Green_1   Yellow_1\n",
            "2    Red_2   Blue_2   Green_2   Yellow_2\n",
            "3    Red_3   Blue_3   Green_3   Yellow_3\n",
            "4    Red_4   Blue_4   Green_4   Yellow_4\n",
            "5    Red_5   Blue_5   Green_5   Yellow_5\n",
            "6    Red_6   Blue_6   Green_6   Yellow_6\n",
            "7    Red_7   Blue_7   Green_7   Yellow_7\n",
            "8    Red_8   Blue_8   Green_8   Yellow_8\n",
            "9    Red_9   Blue_9   Green_9   Yellow_9\n",
            "10  Red_10  Blue_10  Green_10  Yellow_10\n",
            "11  Red_11  Blue_11  Green_11  Yellow_11\n"
          ]
        }
      ],
      "source": [
        "# Concatenate vertically (default)\n",
        "print(pd.concat([df1, df2, df3]))\n",
        "\n"
      ]
    },
    {
      "cell_type": "code",
      "execution_count": null,
      "metadata": {
        "colab": {
          "base_uri": "https://localhost:8080/"
        },
        "id": "3VSnPpvvrgGc",
        "outputId": "c94af9f4-7082-46c1-a00e-030c79b8fec0"
      },
      "outputs": [
        {
          "name": "stdout",
          "output_type": "stream",
          "text": [
            "        A       B        C         D      A       B        C         D  \\\n",
            "0   Red_0  Blue_0  Green_0  Yellow_0    NaN     NaN      NaN       NaN   \n",
            "1   Red_1  Blue_1  Green_1  Yellow_1    NaN     NaN      NaN       NaN   \n",
            "2   Red_2  Blue_2  Green_2  Yellow_2    NaN     NaN      NaN       NaN   \n",
            "3   Red_3  Blue_3  Green_3  Yellow_3    NaN     NaN      NaN       NaN   \n",
            "4     NaN     NaN      NaN       NaN  Red_4  Blue_4  Green_4  Yellow_4   \n",
            "5     NaN     NaN      NaN       NaN  Red_5  Blue_5  Green_5  Yellow_5   \n",
            "6     NaN     NaN      NaN       NaN  Red_6  Blue_6  Green_6  Yellow_6   \n",
            "7     NaN     NaN      NaN       NaN  Red_7  Blue_7  Green_7  Yellow_7   \n",
            "8     NaN     NaN      NaN       NaN    NaN     NaN      NaN       NaN   \n",
            "9     NaN     NaN      NaN       NaN    NaN     NaN      NaN       NaN   \n",
            "10    NaN     NaN      NaN       NaN    NaN     NaN      NaN       NaN   \n",
            "11    NaN     NaN      NaN       NaN    NaN     NaN      NaN       NaN   \n",
            "\n",
            "         A        B         C          D  \n",
            "0      NaN      NaN       NaN        NaN  \n",
            "1      NaN      NaN       NaN        NaN  \n",
            "2      NaN      NaN       NaN        NaN  \n",
            "3      NaN      NaN       NaN        NaN  \n",
            "4      NaN      NaN       NaN        NaN  \n",
            "5      NaN      NaN       NaN        NaN  \n",
            "6      NaN      NaN       NaN        NaN  \n",
            "7      NaN      NaN       NaN        NaN  \n",
            "8    Red_8   Blue_8   Green_8   Yellow_8  \n",
            "9    Red_9   Blue_9   Green_9   Yellow_9  \n",
            "10  Red_10  Blue_10  Green_10  Yellow_10  \n",
            "11  Red_11  Blue_11  Green_11  Yellow_11  \n"
          ]
        }
      ],
      "source": [
        "# Concatenate horizontally\n",
        "print(pd.concat([df1, df2, df3], axis=1))\n",
        "\n"
      ]
    },
    {
      "cell_type": "code",
      "execution_count": null,
      "metadata": {
        "colab": {
          "base_uri": "https://localhost:8080/"
        },
        "id": "8NJJkcgCrluu",
        "outputId": "346273c7-6c5e-4d8c-91a0-3b9e8d46bc3f"
      },
      "outputs": [
        {
          "name": "stdout",
          "output_type": "stream",
          "text": [
            "Empty DataFrame\n",
            "Columns: [A, B, C, D, A, B, C, D, A, B, C, D]\n",
            "Index: []\n"
          ]
        }
      ],
      "source": [
        "# Concatenate horizontally with inner join\n",
        "print(pd.concat([df1, df2, df3], axis=1, join='inner'))"
      ]
    },
    {
      "cell_type": "markdown",
      "metadata": {
        "id": "4GnBZ5QPVuvX"
      },
      "source": [
        "Handling Different Indexes\n"
      ]
    },
    {
      "cell_type": "code",
      "execution_count": null,
      "metadata": {
        "colab": {
          "base_uri": "https://localhost:8080/"
        },
        "id": "77o3thNBVvTk",
        "outputId": "6ee5dd35-e8b9-4c46-84b8-eec5a48c52af"
      },
      "outputs": [
        {
          "name": "stdout",
          "output_type": "stream",
          "text": [
            "       A       B        C         D      A       B        C         D      A  \\\n",
            "1  Red_1  Blue_1  Green_1  Yellow_1  Red_4  Blue_4  Green_4  Yellow_4  Red_8   \n",
            "3  Red_3  Blue_3  Green_3  Yellow_3  Red_5  Blue_5  Green_5  Yellow_5  Red_9   \n",
            "\n",
            "        B        C         D  \n",
            "1  Blue_8  Green_8  Yellow_8  \n",
            "3  Blue_9  Green_9  Yellow_9  \n"
          ]
        }
      ],
      "source": [
        "# Adjusting indexes and concatenating with inner join\n",
        "df2.index = [1, 3, 6, 7]\n",
        "df3.index = [1, 3, 8, 9]\n",
        "print(pd.concat([df1, df2, df3], axis=1, join='inner'))\n"
      ]
    },
    {
      "cell_type": "code",
      "execution_count": null,
      "metadata": {
        "colab": {
          "base_uri": "https://localhost:8080/"
        },
        "id": "_6Wowo-stE7N",
        "outputId": "d7406ea8-9699-4639-e35b-c3c2213fe1e3"
      },
      "outputs": [
        {
          "name": "stdout",
          "output_type": "stream",
          "text": [
            "        A        B         C          D\n",
            "0   Red_0   Blue_0   Green_0   Yellow_0\n",
            "1   Red_1   Blue_1   Green_1   Yellow_1\n",
            "2   Red_2   Blue_2   Green_2   Yellow_2\n",
            "3   Red_3   Blue_3   Green_3   Yellow_3\n",
            "1   Red_4   Blue_4   Green_4   Yellow_4\n",
            "3   Red_5   Blue_5   Green_5   Yellow_5\n",
            "6   Red_6   Blue_6   Green_6   Yellow_6\n",
            "7   Red_7   Blue_7   Green_7   Yellow_7\n",
            "1   Red_8   Blue_8   Green_8   Yellow_8\n",
            "3   Red_9   Blue_9   Green_9   Yellow_9\n",
            "8  Red_10  Blue_10  Green_10  Yellow_10\n",
            "9  Red_11  Blue_11  Green_11  Yellow_11\n"
          ]
        }
      ],
      "source": [
        "print(pd.concat([df1, df2, df3], axis=0, join='inner'))\n"
      ]
    },
    {
      "cell_type": "code",
      "execution_count": null,
      "metadata": {
        "colab": {
          "base_uri": "https://localhost:8080/"
        },
        "id": "uIJmv8WQtGDf",
        "outputId": "899cc01a-e3e5-4167-ef55-e1b92a42148a"
      },
      "outputs": [
        {
          "name": "stdout",
          "output_type": "stream",
          "text": [
            "       A       B        C         D      A       B        C         D       A  \\\n",
            "0  Red_0  Blue_0  Green_0  Yellow_0    NaN     NaN      NaN       NaN     NaN   \n",
            "1  Red_1  Blue_1  Green_1  Yellow_1  Red_4  Blue_4  Green_4  Yellow_4   Red_8   \n",
            "2  Red_2  Blue_2  Green_2  Yellow_2    NaN     NaN      NaN       NaN     NaN   \n",
            "3  Red_3  Blue_3  Green_3  Yellow_3  Red_5  Blue_5  Green_5  Yellow_5   Red_9   \n",
            "6    NaN     NaN      NaN       NaN  Red_6  Blue_6  Green_6  Yellow_6     NaN   \n",
            "7    NaN     NaN      NaN       NaN  Red_7  Blue_7  Green_7  Yellow_7     NaN   \n",
            "8    NaN     NaN      NaN       NaN    NaN     NaN      NaN       NaN  Red_10   \n",
            "9    NaN     NaN      NaN       NaN    NaN     NaN      NaN       NaN  Red_11   \n",
            "\n",
            "         B         C          D  \n",
            "0      NaN       NaN        NaN  \n",
            "1   Blue_8   Green_8   Yellow_8  \n",
            "2      NaN       NaN        NaN  \n",
            "3   Blue_9   Green_9   Yellow_9  \n",
            "6      NaN       NaN        NaN  \n",
            "7      NaN       NaN        NaN  \n",
            "8  Blue_10  Green_10  Yellow_10  \n",
            "9  Blue_11  Green_11  Yellow_11  \n"
          ]
        }
      ],
      "source": [
        "print(pd.concat([df1, df2, df3], axis=1, join='outer'))"
      ]
    },
    {
      "cell_type": "markdown",
      "metadata": {
        "id": "H9SZTQsDVKCt"
      },
      "source": [
        "### Using the join Method\n",
        "The join method is used to merge two DataFrames by their indexes. If columns have the same name, rsuffix and lsuffix parameters can be used to manage this.\n",
        "\n",
        "\n",
        "\n"
      ]
    },
    {
      "cell_type": "code",
      "execution_count": null,
      "metadata": {
        "colab": {
          "base_uri": "https://localhost:8080/"
        },
        "id": "jTOsnQA1VI42",
        "outputId": "6388b068-4ea9-4bf3-d514-ce1ae4056450"
      },
      "outputs": [
        {
          "name": "stdout",
          "output_type": "stream",
          "text": [
            "       A       B        C         D    A.1     B.1      C.1       D.1\n",
            "0  Red_0  Blue_0  Green_0  Yellow_0    NaN     NaN      NaN       NaN\n",
            "1  Red_1  Blue_1  Green_1  Yellow_1  Red_4  Blue_4  Green_4  Yellow_4\n",
            "2  Red_2  Blue_2  Green_2  Yellow_2    NaN     NaN      NaN       NaN\n",
            "3  Red_3  Blue_3  Green_3  Yellow_3  Red_5  Blue_5  Green_5  Yellow_5\n"
          ]
        }
      ],
      "source": [
        "# Joining DataFrames\n",
        "print(df1.join(df2, rsuffix='.1'))\n"
      ]
    },
    {
      "cell_type": "code",
      "execution_count": null,
      "metadata": {
        "id": "XVEAoBCut37Z"
      },
      "outputs": [],
      "source": [
        "print(df1.join(df2, lsuffix='.0', how='right'))\n",
        "print(df1.join(df2, rsuffix='.1', how='inner'))\n",
        "print(df1.join(df2, lsuffix='.0', how='outer'))"
      ]
    },
    {
      "cell_type": "markdown",
      "metadata": {
        "id": "m5oIAaPXVDu2"
      },
      "source": [
        "## Using the merge Method\n",
        "The merge method is used for merging DataFrames on a key or multiple keys.\n",
        "\n"
      ]
    },
    {
      "cell_type": "markdown",
      "metadata": {
        "id": "Ii6kCWZFVA8K"
      },
      "source": [
        "Creating DataFrames for Merging\n",
        "\n",
        "\n"
      ]
    },
    {
      "cell_type": "code",
      "execution_count": null,
      "metadata": {
        "colab": {
          "base_uri": "https://localhost:8080/"
        },
        "id": "zr2_ULQwU_0H",
        "outputId": "8db110d4-d897-472b-c72f-e20d8dd769e5"
      },
      "outputs": [
        {
          "name": "stdout",
          "output_type": "stream",
          "text": [
            "  stationery furniture   A   B\n",
            "0     pencil  wardrobe  A0  B0\n",
            "1       glue     table  A1  B1\n",
            "2    markers       bed  A2  B2\n",
            "3   scissors      desk  A3  B3\n",
            "  stationery furniture   C   D\n",
            "0     pencil  wardrobe  C0  D0\n",
            "1       glue  wardrobe  C1  D1\n",
            "2       glue  wardrobe  C2  D2\n",
            "3    markers  wardrobe  C3  D3\n"
          ]
        }
      ],
      "source": [
        "left = pd.DataFrame({'stationery': ['pencil', 'glue', 'markers', 'scissors'],\n",
        "                     'furniture': ['wardrobe', 'table', 'bed', 'desk'],\n",
        "                     'A': ['A0', 'A1', 'A2', 'A3'],\n",
        "                     'B': ['B0', 'B1', 'B2', 'B3']})\n",
        "\n",
        "right = pd.DataFrame({'stationery': ['pencil', 'glue', 'glue', 'markers'],\n",
        "                      'furniture': ['wardrobe', 'wardrobe', 'wardrobe', 'wardrobe'],\n",
        "                      'C': ['C0', 'C1', 'C2', 'C3'],\n",
        "                      'D': ['D0', 'D1', 'D2', 'D3']})\n",
        "print(left)\n",
        "print(right)\n"
      ]
    },
    {
      "cell_type": "markdown",
      "metadata": {
        "id": "Dhghq5S5U5-F"
      },
      "source": [
        "Merging DataFrames\n",
        "\n",
        "\n"
      ]
    },
    {
      "cell_type": "code",
      "execution_count": null,
      "metadata": {
        "colab": {
          "base_uri": "https://localhost:8080/"
        },
        "id": "fTbB0zDeU8g4",
        "outputId": "7f637800-2b03-40bd-bd37-ee5a2e7492f0"
      },
      "outputs": [
        {
          "name": "stdout",
          "output_type": "stream",
          "text": [
            "  stationery furniture   A   B   C   D\n",
            "0     pencil  wardrobe  A0  B0  C0  D0\n"
          ]
        }
      ],
      "source": [
        "# Merging on multiple keys\n",
        "#print(pd.merge(left, right, on=['furniture']))\n",
        "print(pd.merge(left, right, on=['furniture', 'stationery']))\n"
      ]
    },
    {
      "cell_type": "code",
      "execution_count": null,
      "metadata": {
        "colab": {
          "base_uri": "https://localhost:8080/"
        },
        "id": "oiMdKTfBuVkd",
        "outputId": "195b1858-806b-45de-d8af-f7f932a0f1b2"
      },
      "outputs": [
        {
          "name": "stdout",
          "output_type": "stream",
          "text": [
            "  stationery furniture   A   B   C   D\n",
            "0     pencil  wardrobe  A0  B0  C0  D0\n"
          ]
        }
      ],
      "source": [
        "print(pd.merge(left, right, on=['stationery', 'furniture']))\n",
        "\n"
      ]
    },
    {
      "cell_type": "code",
      "execution_count": null,
      "metadata": {
        "colab": {
          "base_uri": "https://localhost:8080/"
        },
        "id": "-SPxip03uS5K",
        "outputId": "b0347100-3ffc-4696-9f3c-85d1c8e504f1"
      },
      "outputs": [
        {
          "name": "stdout",
          "output_type": "stream",
          "text": [
            "  stationery furniture    A    B    C    D\n",
            "0     pencil  wardrobe   A0   B0   C0   D0\n",
            "1       glue     table   A1   B1  NaN  NaN\n",
            "2    markers       bed   A2   B2  NaN  NaN\n",
            "3   scissors      desk   A3   B3  NaN  NaN\n",
            "4       glue  wardrobe  NaN  NaN   C1   D1\n",
            "5       glue  wardrobe  NaN  NaN   C2   D2\n",
            "6    markers  wardrobe  NaN  NaN   C3   D3\n"
          ]
        }
      ],
      "source": [
        "# Different types of joins\n",
        "print(pd.merge(left, right, on=['furniture', 'stationery'], how='outer'))\n"
      ]
    },
    {
      "cell_type": "code",
      "execution_count": null,
      "metadata": {
        "colab": {
          "base_uri": "https://localhost:8080/"
        },
        "id": "cdev4RJ2vEYl",
        "outputId": "c34d55b7-74fa-4272-a5ea-9f2c022973b2"
      },
      "outputs": [
        {
          "name": "stdout",
          "output_type": "stream",
          "text": [
            "  stationery furniture   A   B    C    D\n",
            "0     pencil  wardrobe  A0  B0   C0   D0\n",
            "1       glue     table  A1  B1  NaN  NaN\n",
            "2    markers       bed  A2  B2  NaN  NaN\n",
            "3   scissors      desk  A3  B3  NaN  NaN\n"
          ]
        }
      ],
      "source": [
        "print(pd.merge(left, right, on=['furniture', 'stationery'], how='left'))\n"
      ]
    },
    {
      "cell_type": "markdown",
      "metadata": {
        "id": "RCii3aYTU4E6"
      },
      "source": [
        "Matching Elements of Lists/Arrays/Series\n",
        "\n",
        "\n"
      ]
    },
    {
      "cell_type": "code",
      "execution_count": null,
      "metadata": {
        "id": "zXYNeGtNU3AB"
      },
      "outputs": [],
      "source": [
        "list1 = list(range(10, 18))\n",
        "list2 = [13, 17, 19]\n"
      ]
    },
    {
      "cell_type": "code",
      "execution_count": null,
      "metadata": {
        "colab": {
          "base_uri": "https://localhost:8080/"
        },
        "id": "OXD9Np1zvb70",
        "outputId": "8f4126ca-aec8-4407-bf71-b6f97e6efc1f"
      },
      "outputs": [
        {
          "data": {
            "text/plain": [
              "[3, 7, None]"
            ]
          },
          "execution_count": 58,
          "metadata": {},
          "output_type": "execute_result"
        }
      ],
      "source": [
        "[list1.index(x) if x in list1 else None for x in list2]"
      ]
    },
    {
      "cell_type": "code",
      "execution_count": null,
      "metadata": {
        "id": "d3r6hK1vvXyj"
      },
      "outputs": [],
      "source": [
        "print([list1.index(x) if x in list1 else None for x in list2])"
      ]
    },
    {
      "cell_type": "code",
      "execution_count": null,
      "metadata": {
        "colab": {
          "base_uri": "https://localhost:8080/"
        },
        "id": "DE3OKnawvUJJ",
        "outputId": "1d709f75-21aa-4124-8500-13b45294a65e"
      },
      "outputs": [
        {
          "name": "stdout",
          "output_type": "stream",
          "text": [
            "[3, 7, None]\n"
          ]
        }
      ],
      "source": [
        "list1 = pd.Series(np.arange(10, 18))\n",
        "list2 = pd.Series(np.array([13, 17, 19]))\n",
        "print([list1.index[list1 == x][0] if x in list1.values else None for x in list2])\n"
      ]
    },
    {
      "cell_type": "code",
      "execution_count": null,
      "metadata": {
        "colab": {
          "base_uri": "https://localhost:8080/"
        },
        "id": "GI160M6qvU_0",
        "outputId": "6395633f-c533-475d-981f-d61068d01cb2"
      },
      "outputs": [
        {
          "name": "stdout",
          "output_type": "stream",
          "text": [
            "[ 3  7 -1]\n"
          ]
        }
      ],
      "source": [
        "\n",
        "print(pd.Index(list1).get_indexer(list2))"
      ]
    },
    {
      "cell_type": "markdown",
      "metadata": {
        "id": "-Smytr6TWRYs"
      },
      "source": [
        "# Mount Google Drive\n",
        "To access files stored in your Google Drive, you need to mount it first.\n"
      ]
    },
    {
      "cell_type": "code",
      "execution_count": null,
      "metadata": {
        "colab": {
          "base_uri": "https://localhost:8080/"
        },
        "id": "L-hIJfFzXWME",
        "outputId": "b8cd9530-c6f8-472f-a9a7-27010217ab1c"
      },
      "outputs": [
        {
          "name": "stdout",
          "output_type": "stream",
          "text": [
            "Drive already mounted at /content/drive; to attempt to forcibly remount, call drive.mount(\"/content/drive\", force_remount=True).\n"
          ]
        }
      ],
      "source": [
        "#from google.colab import drive\n",
        "#drive.mount('/content/drive')"
      ]
    },
    {
      "cell_type": "markdown",
      "metadata": {
        "id": "BPtzjINYXZTj"
      },
      "source": [
        "### Read Data from Google Drive\n",
        "\n"
      ]
    },
    {
      "cell_type": "code",
      "execution_count": 5,
      "metadata": {
        "id": "9iVSVaVZX2-q"
      },
      "outputs": [],
      "source": [
        "# Specify the path to your data file in Google Drive\n",
        "#data_path = '/content/drive/MyDrive/Data Science giacomo scettri/Rome business school/Python e R/drinks.csv'\n",
        "#data_path_cartel1 = '/content/drive/MyDrive/Data Science giacomo scettri/Rome business school/Python for Data Analytics/Cartel1.csv'\n",
        "data_path = 'drinks.csv'\n",
        "data_path_cartel1 = 'Cartel1.csv'"
      ]
    },
    {
      "cell_type": "code",
      "execution_count": 6,
      "metadata": {
        "id": "Ve_5HqduY72o"
      },
      "outputs": [],
      "source": [
        "import numpy as np\n",
        "import pandas as pd\n",
        "# Read the data\n",
        "drinks = pd.read_csv(data_path, delimiter = (','))\n",
        "# Read the data\n",
        "data_cartel1 = pd.read_csv(data_path_cartel1, delimiter = (';'))"
      ]
    },
    {
      "cell_type": "code",
      "execution_count": 7,
      "metadata": {
        "colab": {
          "base_uri": "https://localhost:8080/"
        },
        "id": "USCOqrZ4ZOhP",
        "outputId": "03cce567-9788-4cf3-9511-f9934ed7e34b"
      },
      "outputs": [
        {
          "name": "stdout",
          "output_type": "stream",
          "text": [
            "### Data Preview\n",
            "### Data Head\n",
            "             country  beer_servings  spirit_servings  wine_servings  \\\n",
            "0        Afghanistan              0                0              0   \n",
            "1            Albania             89              132             54   \n",
            "2            Algeria             25                0             14   \n",
            "3            Andorra            245              138            312   \n",
            "4             Angola            217               57             45   \n",
            "5  Antigua & Barbuda            102              128             45   \n",
            "6          Argentina            193               25            221   \n",
            "7            Armenia             21              179             11   \n",
            "\n",
            "   total_litres_of_pure_alcohol      continent  \n",
            "0                           0.0           Asia  \n",
            "1                           4.9         Europe  \n",
            "2                           0.7         Africa  \n",
            "3                          12.4         Europe  \n",
            "4                           5.9         Africa  \n",
            "5                           4.9  North America  \n",
            "6                           8.3  South America  \n",
            "7                           3.8         Europe  \n",
            "    title  year  pages\n",
            "0  harry1  1997    207\n",
            "1  harry2  1999    214\n",
            "2  harry3  1999    220\n",
            "3  harry4  2000    400\n",
            "### Data Tail\n",
            "        country  beer_servings  spirit_servings  wine_servings  \\\n",
            "185     Uruguay            115               35            220   \n",
            "186  Uzbekistan             25              101              8   \n",
            "187     Vanuatu             21               18             11   \n",
            "188   Venezuela            333              100              3   \n",
            "189     Vietnam            111                2              1   \n",
            "190       Yemen              6                0              0   \n",
            "191      Zambia             32               19              4   \n",
            "192    Zimbabwe             64               18              4   \n",
            "\n",
            "     total_litres_of_pure_alcohol      continent  \n",
            "185                           6.6  South America  \n",
            "186                           2.4           Asia  \n",
            "187                           0.9        Oceania  \n",
            "188                           7.7  South America  \n",
            "189                           2.0           Asia  \n",
            "190                           0.1           Asia  \n",
            "191                           2.5         Africa  \n",
            "192                           4.7         Africa  \n",
            "    title  year  pages\n",
            "0  harry1  1997    207\n",
            "1  harry2  1999    214\n",
            "2  harry3  1999    220\n",
            "3  harry4  2000    400\n"
          ]
        }
      ],
      "source": [
        "# Display the first few rows of the DataFrame\n",
        "print(\"### Data Preview\")\n",
        "print(\"### Data Head\")\n",
        "print(drinks.head(8))\n",
        "print(data_cartel1.head(8))\n",
        "\n",
        "print(\"### Data Tail\")\n",
        "print(drinks.tail(8))\n",
        "print(data_cartel1.tail(8))"
      ]
    },
    {
      "cell_type": "markdown",
      "metadata": {
        "id": "J-_t2lb1X-Su"
      },
      "source": [
        "### Save Processed Data to Google Drive\n"
      ]
    },
    {
      "cell_type": "code",
      "execution_count": 9,
      "metadata": {
        "colab": {
          "base_uri": "https://localhost:8080/"
        },
        "id": "ECFGQP0eX9Zr",
        "outputId": "c525cef9-762a-45f0-a83a-ba24aa0f0627"
      },
      "outputs": [
        {
          "name": "stdout",
          "output_type": "stream",
          "text": [
            "Processed data saved to drinks2.csv\n"
          ]
        }
      ],
      "source": [
        "# Save the processed DataFrame back to Google Drive.\n",
        "processed_data_path = 'drinks2.csv'\n",
        "drinks.to_csv(processed_data_path, index=False)\n",
        "\n",
        "print(f\"Processed data saved to {processed_data_path}\")"
      ]
    },
    {
      "cell_type": "markdown",
      "metadata": {
        "id": "Vp5tRX7yXHk6"
      },
      "source": [
        "### Share Results\n",
        "To share the processed data with collaborators, go to Google Drive, locate `processed_data.csv`,and use Google Drive's sharing options to share the file."
      ]
    },
    {
      "cell_type": "markdown",
      "metadata": {
        "id": "Nu4xdhrXXL3f"
      },
      "source": [
        "# Exploratory Data Analysis `drinks.csv`\n",
        "\n"
      ]
    },
    {
      "cell_type": "markdown",
      "metadata": {
        "id": "D02dJyI0erB6"
      },
      "source": [
        "### 1: Import & Exploration\n",
        "\n",
        "- How many records does it contain?\n",
        "- How many features does it contain?\n",
        "- What are the names of the columns?\n",
        "- What type of data does each column contain?\n",
        "- Display the first 10 rows."
      ]
    },
    {
      "cell_type": "code",
      "execution_count": 10,
      "metadata": {
        "colab": {
          "base_uri": "https://localhost:8080/",
          "height": 211
        },
        "id": "GRCfe7WPeoI-",
        "outputId": "52cf9fcb-8531-426a-f316-7412ab4af009"
      },
      "outputs": [
        {
          "name": "stdout",
          "output_type": "stream",
          "text": [
            "The dataset contains 193 records\n",
            "Each record contains 6 features\n",
            "['country', 'beer_servings', 'spirit_servings', 'wine_servings', 'total_litres_of_pure_alcohol', 'continent']\n",
            "country                          object\n",
            "beer_servings                     int64\n",
            "spirit_servings                   int64\n",
            "wine_servings                     int64\n",
            "total_litres_of_pure_alcohol    float64\n",
            "continent                        object\n",
            "dtype: object\n",
            "             country  beer_servings  spirit_servings  wine_servings  \\\n",
            "0        Afghanistan              0                0              0   \n",
            "1            Albania             89              132             54   \n",
            "2            Algeria             25                0             14   \n",
            "3            Andorra            245              138            312   \n",
            "4             Angola            217               57             45   \n",
            "5  Antigua & Barbuda            102              128             45   \n",
            "6          Argentina            193               25            221   \n",
            "7            Armenia             21              179             11   \n",
            "8          Australia            261               72            212   \n",
            "9            Austria            279               75            191   \n",
            "\n",
            "   total_litres_of_pure_alcohol      continent  \n",
            "0                           0.0           Asia  \n",
            "1                           4.9         Europe  \n",
            "2                           0.7         Africa  \n",
            "3                          12.4         Europe  \n",
            "4                           5.9         Africa  \n",
            "5                           4.9  North America  \n",
            "6                           8.3  South America  \n",
            "7                           3.8         Europe  \n",
            "8                          10.4        Oceania  \n",
            "9                           9.7         Europe  \n"
          ]
        }
      ],
      "source": [
        "# Import the dataset\n",
        "drinks = drinks\n",
        "\n",
        "# Number of records\n",
        "print(f'The dataset contains {drinks.shape[0]} records')\n",
        "\n",
        "# Number of features\n",
        "print(f'Each record contains {drinks.shape[1]} features')\n",
        "\n",
        "# Column names\n",
        "print(list(drinks.columns))\n",
        "\n",
        "# Data types of each column\n",
        "print(drinks.dtypes)\n",
        "\n",
        "# First 10 rows\n",
        "print(drinks.head(10))\n"
      ]
    },
    {
      "cell_type": "markdown",
      "metadata": {
        "id": "EEUeKozYejKc"
      },
      "source": [
        "###2: Cleaning\n",
        "- Rename the columns with shorter names.\n",
        "- Display the dataset without the total_litres_of_pure_alcohol column.\n",
        "- Permanently remove the total_litres_of_pure_alcohol column.\n",
        "- Change the order of columns so that continent comes first, followed by country, and then the rest.\n",
        "\n",
        "\n",
        "\n"
      ]
    },
    {
      "cell_type": "code",
      "execution_count": 21,
      "metadata": {
        "colab": {
          "base_uri": "https://localhost:8080/"
        },
        "id": "Hazu80jLehYr",
        "outputId": "d9ef12fa-f707-43e3-b8d2-00e1a880b011"
      },
      "outputs": [
        {
          "name": "stdout",
          "output_type": "stream",
          "text": [
            "       country  beer_servings  spirit_servings  wine_servings  \\\n",
            "0  Afghanistan              0                0              0   \n",
            "1      Albania             89              132             54   \n",
            "2      Algeria             25                0             14   \n",
            "3      Andorra            245              138            312   \n",
            "4       Angola            217               57             45   \n",
            "\n",
            "   total_litres_of_pure_alcohol continent  \n",
            "0                           0.0      Asia  \n",
            "1                           4.9    Europe  \n",
            "2                           0.7    Africa  \n",
            "3                          12.4    Europe  \n",
            "4                           5.9    Africa  \n",
            "             country  Beer  Spirit  Wine      continent\n",
            "0        Afghanistan     0       0     0           Asia\n",
            "1            Albania    89     132    54         Europe\n",
            "2            Algeria    25       0    14         Africa\n",
            "3            Andorra   245     138   312         Europe\n",
            "4             Angola   217      57    45         Africa\n",
            "5  Antigua & Barbuda   102     128    45  North America\n",
            "6          Argentina   193      25   221  South America\n",
            "7            Armenia    21     179    11         Europe\n",
            "8          Australia   261      72   212        Oceania\n",
            "9            Austria   279      75   191         Europe\n",
            "       country  Beer  Spirit  Wine  total_litres_of_pure_alcohol continent\n",
            "0  Afghanistan     0       0     0                           0.0      Asia\n",
            "1      Albania    89     132    54                           4.9    Europe\n",
            "2      Algeria    25       0    14                           0.7    Africa\n",
            "3      Andorra   245     138   312                          12.4    Europe\n",
            "4       Angola   217      57    45                           5.9    Africa\n"
          ]
        }
      ],
      "source": [
        "# Import the dataset\n",
        "drinks = pd.read_csv(data_path, delimiter = (','))\n",
        "print(drinks.head() )\n",
        "# Rename columns\n",
        "drinks.rename(columns={'beer_servings': 'Beer', #birra\n",
        "                       'spirit_servings': 'Spirit', #liquori\n",
        "                       'wine_servings': 'Wine'}, inplace=True) #vino, #country=paese #continent=continente\n",
        "\n",
        "# Rename columns\n",
        "#drinks.rename(columns={'beer_servings': 'Birra', #birra\n",
        "#                       'spirit_servings': 'Liquori', #liquori\n",
        "#                       'wine_servings': 'Vino',\n",
        "#                       'country':'paese',\n",
        "#                       'continent':'continente'}, inplace=True) #vino, #country=paese #continent=continente\n",
        "\n",
        "#drinks.rename(columns={'Birra': 'beer_servings', #birra\n",
        "#                       'Liquori': 'spirit_servings', #liquori\n",
        "#                       'Vino': 'wine_servings',\n",
        "#                       'paese': 'country',\n",
        "#                       'continente': 'continent'}, inplace=True) #vino, #country=paese #continent=continente\n",
        "\n",
        "\n",
        "# Display without 'total_litres_of_pure_alcohol'\n",
        "print(drinks.drop(columns='total_litres_of_pure_alcohol').head(10))\n",
        "\n",
        "# Permanently remove 'total_litres_of_pure_alcohol'\n",
        "#drinks.drop(columns='total_litres_of_pure_alcohol', inplace=True)\n",
        "\n",
        "# Change column order\n",
        "#drinks = drinks[['continent', 'country', 'Beer', 'Spirit', 'Wine']] #birra, vino, liquori, paese, continente\n",
        "#drinks = drinks[['Birra', 'Vino', 'Liquori', 'paese', 'continente']] #\n",
        "print(drinks.head())"
      ]
    },
    {
      "cell_type": "markdown",
      "metadata": {
        "id": "8yW20aLwea1n"
      },
      "source": [
        "### Exercise 3: Exploration (2)\n",
        "- How many unique values does the continent column have?\n",
        "- Are there any duplicate records?\n",
        "- Are there any missing values (NA)?\n",
        "\n",
        "\n",
        "\n"
      ]
    },
    {
      "cell_type": "code",
      "execution_count": 22,
      "metadata": {
        "colab": {
          "base_uri": "https://localhost:8080/"
        },
        "id": "pv6tNa7EAZV7",
        "outputId": "c122b211-b03c-4c24-987a-ea1294348cab"
      },
      "outputs": [
        {
          "data": {
            "text/plain": [
              "0      False\n",
              "1      False\n",
              "2      False\n",
              "3      False\n",
              "4      False\n",
              "       ...  \n",
              "188    False\n",
              "189    False\n",
              "190    False\n",
              "191    False\n",
              "192    False\n",
              "Length: 193, dtype: bool"
            ]
          },
          "execution_count": 22,
          "metadata": {},
          "output_type": "execute_result"
        }
      ],
      "source": [
        "drinks.duplicated()"
      ]
    },
    {
      "cell_type": "code",
      "execution_count": 23,
      "metadata": {
        "colab": {
          "base_uri": "https://localhost:8080/"
        },
        "id": "2ZvEQQvjeZ15",
        "outputId": "9ca93566-05b4-47b0-9c6b-1ce34e5d59b1"
      },
      "outputs": [
        {
          "name": "stdout",
          "output_type": "stream",
          "text": [
            "['Asia', 'Europe', 'Africa', 'North America', 'South America', 'Oceania']\n",
            "Number of duplicate records: 0\n",
            "country                         0\n",
            "Beer                            0\n",
            "Spirit                          0\n",
            "Wine                            0\n",
            "total_litres_of_pure_alcohol    0\n",
            "continent                       0\n",
            "dtype: int64\n",
            "Empty DataFrame\n",
            "Columns: [country, Beer, Spirit, Wine, total_litres_of_pure_alcohol, continent]\n",
            "Index: []\n"
          ]
        }
      ],
      "source": [
        "# Unique values in 'continent'\n",
        "print(list(drinks.continent.unique()))\n",
        "\n",
        "# Number of duplicate records\n",
        "print(f'Number of duplicate records: {drinks.duplicated().sum()}')\n",
        "\n",
        "# Check for missing values\n",
        "print(drinks.isna().sum())\n",
        "\n",
        "# Display records with NA values\n",
        "print(drinks[drinks.isna().any(axis=1)])\n"
      ]
    },
    {
      "cell_type": "markdown",
      "metadata": {
        "id": "mi4cmtc5eWrE"
      },
      "source": [
        "###4: New Column\n",
        "- Create a new column with the number of pints of beer consumed (1 pint = 0.56826125 liters).\n",
        "- Display the first 10 rows.\n",
        "- Remove the newly created column to return to the original DataFrame.\n",
        "\n",
        "\n",
        "\n"
      ]
    },
    {
      "cell_type": "code",
      "execution_count": 24,
      "metadata": {
        "colab": {
          "base_uri": "https://localhost:8080/"
        },
        "id": "QYEvIwl6eUot",
        "outputId": "28d8e4d8-36cc-4ca8-edcb-0772dde525c7"
      },
      "outputs": [
        {
          "name": "stdout",
          "output_type": "stream",
          "text": [
            "             country  Beer  Spirit  Wine  total_litres_of_pure_alcohol  \\\n",
            "0        Afghanistan     0       0     0                           0.0   \n",
            "1            Albania    89     132    54                           4.9   \n",
            "2            Algeria    25       0    14                           0.7   \n",
            "3            Andorra   245     138   312                          12.4   \n",
            "4             Angola   217      57    45                           5.9   \n",
            "5  Antigua & Barbuda   102     128    45                           4.9   \n",
            "6          Argentina   193      25   221                           8.3   \n",
            "7            Armenia    21     179    11                           3.8   \n",
            "8          Australia   261      72   212                          10.4   \n",
            "9            Austria   279      75   191                           9.7   \n",
            "\n",
            "       continent  Beer (Pint)  \n",
            "0           Asia          0.0  \n",
            "1         Europe        157.0  \n",
            "2         Africa         44.0  \n",
            "3         Europe        431.0  \n",
            "4         Africa        382.0  \n",
            "5  North America        179.0  \n",
            "6  South America        340.0  \n",
            "7         Europe         37.0  \n",
            "8        Oceania        459.0  \n",
            "9         Europe        491.0  \n"
          ]
        }
      ],
      "source": [
        "# Create new column for pints of beer\n",
        "drinks['Beer (Pint)'] = round(drinks['Beer'] / 0.56826125)\n",
        "print(drinks.head(10))\n",
        "\n",
        "# Remove the new column\n",
        "drinks.drop(columns='Beer (Pint)', inplace=True)\n"
      ]
    },
    {
      "cell_type": "markdown",
      "metadata": {
        "id": "MgvJV3I9eQmY"
      },
      "source": [
        "###5: Filtering Data\n",
        "- Select countries that consume more than 300 liters of wine per capita per year.\n",
        "- Select countries that consume between 30 and 60 liters of spirits per capita per year (inclusive).\n",
        "- Select countries that consume more than 300 liters per capita per year of any category of alcohol.\n",
        "\n",
        "\n",
        "\n"
      ]
    },
    {
      "cell_type": "code",
      "execution_count": 25,
      "metadata": {
        "colab": {
          "base_uri": "https://localhost:8080/",
          "height": 332
        },
        "id": "ca29oqvJeO_N",
        "outputId": "7f3909ab-5141-4c3b-cdc6-232826345c60"
      },
      "outputs": [
        {
          "name": "stdout",
          "output_type": "stream",
          "text": [
            "      country  Beer  Spirit  Wine  total_litres_of_pure_alcohol continent\n",
            "3     Andorra   245     138   312                          12.4    Europe\n",
            "61     France   127     151   370                          11.8    Europe\n",
            "136  Portugal   194      67   339                          11.0    Europe\n",
            "                 country  Beer  Spirit  Wine  total_litres_of_pure_alcohol  \\\n",
            "4                 Angola   217      57    45                           5.9   \n",
            "10            Azerbaijan    21      46     5                           1.3   \n",
            "20               Bolivia   167      41     8                           3.8   \n",
            "22              Botswana   173      35    35                           5.4   \n",
            "29            Cabo Verde   144      56    16                           4.0   \n",
            "49              Djibouti    15      44     3                           1.1   \n",
            "59                  Fiji    77      35     1                           2.0   \n",
            "71         Guinea-Bissau    28      31    21                           2.5   \n",
            "83                 Italy    85      42   237                           6.5   \n",
            "89              Kiribati    21      34     1                           1.0   \n",
            "94               Lebanon    20      55    31                           1.9   \n",
            "108            Mauritius    98      31    18                           2.6   \n",
            "110           Micronesia    62      50    18                           2.3   \n",
            "131     Papua New Guinea    44      39     1                           1.5   \n",
            "137                Qatar     1      42     7                           0.9   \n",
            "148  Sao Tome & Principe    56      38   140                           4.2   \n",
            "156             Slovenia   270      51   276                          10.6   \n",
            "165               Sweden   152      60   186                           7.2   \n",
            "167                Syria     5      35    16                           1.0   \n",
            "178               Tuvalu     6      41     9                           1.0   \n",
            "185              Uruguay   115      35   220                           6.6   \n",
            "\n",
            "         continent  \n",
            "4           Africa  \n",
            "10          Europe  \n",
            "20   South America  \n",
            "22          Africa  \n",
            "29          Africa  \n",
            "49          Africa  \n",
            "59         Oceania  \n",
            "71          Africa  \n",
            "83          Europe  \n",
            "89         Oceania  \n",
            "94            Asia  \n",
            "108         Africa  \n",
            "110        Oceania  \n",
            "131        Oceania  \n",
            "137           Asia  \n",
            "148         Africa  \n",
            "156         Europe  \n",
            "165         Europe  \n",
            "167           Asia  \n",
            "178        Oceania  \n",
            "185  South America  \n",
            "                country  Beer  Spirit  Wine  total_litres_of_pure_alcohol  \\\n",
            "3               Andorra   245     138   312                          12.4   \n",
            "15              Belarus   142     373    42                          14.4   \n",
            "45       Czech Republic   361     170   134                          11.8   \n",
            "61               France   127     151   370                          11.8   \n",
            "62                Gabon   347      98    59                           8.9   \n",
            "65              Germany   346     117   175                          11.3   \n",
            "68              Grenada   199     438    28                          11.9   \n",
            "72               Guyana    93     302     1                           7.1   \n",
            "73                Haiti     1     326     1                           5.9   \n",
            "81              Ireland   313     118   165                          11.4   \n",
            "98            Lithuania   343     244    56                          12.9   \n",
            "117             Namibia   376       3     1                           6.8   \n",
            "129               Palau   306      63    23                           6.9   \n",
            "135              Poland   343     215    56                          10.9   \n",
            "136            Portugal   194      67   339                          11.0   \n",
            "141  Russian Federation   247     326    73                          11.5   \n",
            "144           St. Lucia   171     315    71                          10.1   \n",
            "188           Venezuela   333     100     3                           7.7   \n",
            "\n",
            "         continent  \n",
            "3           Europe  \n",
            "15          Europe  \n",
            "45          Europe  \n",
            "61          Europe  \n",
            "62          Africa  \n",
            "65          Europe  \n",
            "68   North America  \n",
            "72   South America  \n",
            "73   North America  \n",
            "81          Europe  \n",
            "98          Europe  \n",
            "117         Africa  \n",
            "129        Oceania  \n",
            "135         Europe  \n",
            "136         Europe  \n",
            "141           Asia  \n",
            "144  North America  \n",
            "188  South America  \n",
            "         country  Beer  Spirit  Wine  total_litres_of_pure_alcohol  \\\n",
            "0    Afghanistan     0       0     0                           0.0   \n",
            "1        Albania    89     132    54                           4.9   \n",
            "2        Algeria    25       0    14                           0.7   \n",
            "3        Andorra   245     138   312                          12.4   \n",
            "4         Angola   217      57    45                           5.9   \n",
            "..           ...   ...     ...   ...                           ...   \n",
            "188    Venezuela   333     100     3                           7.7   \n",
            "189      Vietnam   111       2     1                           2.0   \n",
            "190        Yemen     6       0     0                           0.1   \n",
            "191       Zambia    32      19     4                           2.5   \n",
            "192     Zimbabwe    64      18     4                           4.7   \n",
            "\n",
            "         continent  \n",
            "0             Asia  \n",
            "1           Europe  \n",
            "2           Africa  \n",
            "3           Europe  \n",
            "4           Africa  \n",
            "..             ...  \n",
            "188  South America  \n",
            "189           Asia  \n",
            "190           Asia  \n",
            "191         Africa  \n",
            "192         Africa  \n",
            "\n",
            "[193 rows x 6 columns]\n"
          ]
        }
      ],
      "source": [
        "# Countries consuming more than 300 liters of wine\n",
        "print(drinks[drinks.Wine > 300])\n",
        "\n",
        "# Countries consuming between 30 and 60 liters of spirits\n",
        "condition = (drinks.Spirit >= 30) & (drinks.Spirit <= 60)\n",
        "print(drinks[condition])\n",
        "\n",
        "# Countries consuming more than 300 liters of any alcohol category\n",
        "condition_wine = drinks.Wine > 300\n",
        "condition_beer = drinks.Beer > 300\n",
        "condition_spirit = drinks.Spirit > 300\n",
        "print(drinks[condition_wine | condition_beer | condition_spirit])\n",
        "\n",
        "#remove duplicated\n",
        "condition_duplicated = drinks.duplicated()\n",
        "print(drinks[~condition_duplicated])"
      ]
    },
    {
      "cell_type": "markdown",
      "metadata": {
        "id": "v_sfcbDBeNfU"
      },
      "source": [
        "###6: Exploration (3)\n",
        "- Calculate the minimum, maximum, and average beer consumption across the dataset.\n",
        "\n",
        "\n",
        "\n"
      ]
    },
    {
      "cell_type": "code",
      "execution_count": 26,
      "metadata": {
        "colab": {
          "base_uri": "https://localhost:8080/"
        },
        "id": "GbHalLqCeK_t",
        "outputId": "d8349f9a-aeb9-45d4-dfa5-5f0b1fac316a"
      },
      "outputs": [
        {
          "name": "stdout",
          "output_type": "stream",
          "text": [
            "Minimum beer consumption: 0\n",
            "Maximum beer consumption: 376\n",
            "Average beer consumption: 106.16062176165804\n"
          ]
        }
      ],
      "source": [
        "# Minimum beer consumption\n",
        "print(f'Minimum beer consumption: {drinks.Beer.min()}')\n",
        "\n",
        "# Maximum beer consumption\n",
        "print(f'Maximum beer consumption: {drinks.Beer.max()}')\n",
        "\n",
        "# Average beer consumption\n",
        "print(f'Average beer consumption: {drinks.Beer.mean()}')\n"
      ]
    },
    {
      "cell_type": "markdown",
      "metadata": {
        "id": "Ea2p-EIAeJ1O"
      },
      "source": [
        "###7: Grouping Data\n",
        "- Calculate the average beer consumption among African countries.\n",
        "- Calculate the average and maximum beer consumption for each continent.\n",
        "\n",
        "\n",
        "\n"
      ]
    },
    {
      "cell_type": "code",
      "execution_count": null,
      "metadata": {
        "id": "Dkk6LgsXJTYF"
      },
      "outputs": [],
      "source": []
    },
    {
      "cell_type": "code",
      "execution_count": 27,
      "metadata": {
        "colab": {
          "base_uri": "https://localhost:8080/"
        },
        "id": "dLB7Coe2eGfd",
        "outputId": "09d1953d-cd52-44ae-f25e-fdb82c9bfa0b"
      },
      "outputs": [
        {
          "name": "stdout",
          "output_type": "stream",
          "text": [
            "Average beer consumption in Africa: 61.471698113207545\n",
            "                     mean  max  somma\n",
            "continent                            \n",
            "Africa          61.471698  376   3258\n",
            "Asia            37.045455  247   1630\n",
            "Europe         193.777778  361   8720\n",
            "North America  145.434783  285   3345\n",
            "Oceania         89.687500  306   1435\n",
            "South America  175.083333  333   2101\n"
          ]
        }
      ],
      "source": [
        "# Average beer consumption in Africa\n",
        "in_africa = drinks.continent == 'Africa'\n",
        "africa_drinks = drinks[in_africa]\n",
        "print(f'Average beer consumption in Africa: {africa_drinks.Beer.mean()}')\n",
        "\n",
        "def somma(elements):\n",
        "  return elements.sum()\n",
        "\n",
        "# Average and maximum beer consumption by continent\n",
        "print(drinks.groupby('continent')['Beer'].agg(['mean', 'max', somma]))\n"
      ]
    },
    {
      "cell_type": "markdown",
      "metadata": {
        "id": "VmJE4aWReCAG"
      },
      "source": [
        "###8: Grouping Data (2)\n",
        "- Find the country that consumes the most beer.\n",
        "- Find the country that consumes the most beer in Europe.\n",
        "- Find the country that consumes the most beer in Asia.\n",
        "- Are there any records where all numerical features are 0? If so, which ones?\n",
        "\n"
      ]
    },
    {
      "cell_type": "code",
      "execution_count": null,
      "metadata": {
        "id": "Is9aEdjkd9fd"
      },
      "outputs": [],
      "source": [
        "# Country with the highest beer consumption\n",
        "print(drinks.loc[drinks.Beer.idxmax()])\n",
        "\n",
        "# Country with the highest beer consumption in Europe\n",
        "in_europe = drinks.continent == 'Europe'\n",
        "europe_drinks = drinks[in_europe]\n",
        "print(europe_drinks.loc[europe_drinks.Beer.idxmax()])\n",
        "\n",
        "# Country with the highest beer consumption in Asia\n",
        "in_asia = drinks.continent == 'Asia'\n",
        "asia_drinks = drinks[in_asia]\n",
        "print(asia_drinks.loc[asia_drinks.Beer.idxmax()])\n",
        "\n",
        "# Records with all numerical features as 0\n",
        "print(drinks[(drinks[['Beer', 'Spirit', 'Wine']] == 0).all(axis=1)])\n"
      ]
    },
    {
      "cell_type": "markdown",
      "metadata": {
        "id": "YLsvRlwXd8AN"
      },
      "source": [
        "###9: Visualize Data (1)\n",
        "- Add a column Rand Flat with random values uniformly distributed between 0 and 1.\n",
        "- Add a column Rand Norm with random values normally distributed with mean 45 and standard deviation 5.\n",
        "- Use the .hist() method to visualize the distributions of Rand Flat and Rand Norm, then delete them.\n",
        "\n",
        "\n",
        "\n"
      ]
    },
    {
      "cell_type": "code",
      "execution_count": 28,
      "metadata": {
        "id": "NS6980DBd3Qd"
      },
      "outputs": [
        {
          "data": {
            "image/png": "[encoded data removed]",
            "text/plain": [
              "<Figure size 1200x800 with 1 Axes>"
            ]
          },
          "metadata": {},
          "output_type": "display_data"
        }
      ],
      "source": [
        "import numpy as np\n",
        "\n",
        "# Add 'Rand Flat' column\n",
        "drinks['Rand Flat'] = np.random.rand(len(drinks.index))\n",
        "drinks['Rand Flat'].hist(edgecolor='black', bins=np.linspace(0, 1, 15), width=0.06, figsize=(12, 8), grid=False)\n",
        "\n",
        "# Add 'Rand Norm' column\n",
        "sigma = 5\n",
        "mu = 45\n",
        "drinks['Rand Norm'] = sigma * np.random.randn(len(drinks.index)) + mu\n",
        "drinks['Rand Norm'].hist(edgecolor='black', bins=20, width=2, figsize=(12, 8), grid=False)\n",
        "\n",
        "# Remove the columns\n",
        "drinks.drop(columns=['Rand Norm', 'Rand Flat'], inplace=True)\n"
      ]
    },
    {
      "cell_type": "markdown",
      "metadata": {
        "id": "g0gl4S-hdrad"
      },
      "source": [
        "###10: Visualize Data (2)\n",
        "- Create a bar plot showing the number of countries per continent.\n",
        "- Create a bar plot with the total alcohol consumption per continent divided by type of beverage.\n",
        "\n",
        "\n",
        "\n"
      ]
    },
    {
      "cell_type": "code",
      "execution_count": 29,
      "metadata": {
        "colab": {
          "base_uri": "https://localhost:8080/",
          "height": 1000
        },
        "id": "oNw6V8DudpaU",
        "outputId": "10a83087-44e2-4ccc-e692-5b6161df3ad7"
      },
      "outputs": [
        {
          "data": {
            "image/png": "[encoded data removed]",
            "text/plain": [
              "<Figure size 1200x800 with 1 Axes>"
            ]
          },
          "metadata": {},
          "output_type": "display_data"
        },
        {
          "ename": "TypeError",
          "evalue": "Axes.bar() missing 2 required positional arguments: 'x' and 'height'",
          "output_type": "error",
          "traceback": [
            "\u001b[31m---------------------------------------------------------------------------\u001b[39m",
            "\u001b[31mTypeError\u001b[39m                                 Traceback (most recent call last)",
            "\u001b[36mCell\u001b[39m\u001b[36m \u001b[39m\u001b[32mIn[29]\u001b[39m\u001b[32m, line 8\u001b[39m\n\u001b[32m      5\u001b[39m plt.show()\n\u001b[32m      7\u001b[39m \u001b[38;5;66;03m# Bar plot: total alcohol consumption per continent by beverage type\u001b[39;00m\n\u001b[32m----> \u001b[39m\u001b[32m8\u001b[39m \u001b[43mdrinks\u001b[49m\u001b[43m.\u001b[49m\u001b[43mgroupby\u001b[49m\u001b[43m(\u001b[49m\u001b[33;43m'\u001b[39;49m\u001b[33;43mcontinent\u001b[39;49m\u001b[33;43m'\u001b[39;49m\u001b[43m)\u001b[49m\u001b[43m.\u001b[49m\u001b[43msum\u001b[49m\u001b[43m(\u001b[49m\u001b[43m)\u001b[49m\u001b[43m.\u001b[49m\u001b[43mplot\u001b[49m\u001b[43m(\u001b[49m\u001b[43m)\u001b[49m\u001b[43m.\u001b[49m\u001b[43mbar\u001b[49m\u001b[43m(\u001b[49m\u001b[43mstacked\u001b[49m\u001b[43m=\u001b[49m\u001b[38;5;28;43;01mTrue\u001b[39;49;00m\u001b[43m,\u001b[49m\u001b[43m \u001b[49m\u001b[43medgecolor\u001b[49m\u001b[43m=\u001b[49m\u001b[33;43m'\u001b[39;49m\u001b[33;43mblack\u001b[39;49m\u001b[33;43m'\u001b[39;49m\u001b[43m,\u001b[49m\u001b[43m \u001b[49m\u001b[43mwidth\u001b[49m\u001b[43m=\u001b[49m\u001b[32;43m0.8\u001b[39;49m\u001b[43m,\u001b[49m\u001b[43m \u001b[49m\u001b[43mfigsize\u001b[49m\u001b[43m=\u001b[49m\u001b[43m(\u001b[49m\u001b[32;43m12\u001b[39;49m\u001b[43m,\u001b[49m\u001b[43m \u001b[49m\u001b[32;43m8\u001b[39;49m\u001b[43m)\u001b[49m\u001b[43m)\u001b[49m\n\u001b[32m      9\u001b[39m plt.show()\n",
            "\u001b[36mFile \u001b[39m\u001b[32m~\\AppData\\Roaming\\Python\\Python313\\site-packages\\matplotlib\\__init__.py:1521\u001b[39m, in \u001b[36m_preprocess_data.<locals>.inner\u001b[39m\u001b[34m(ax, data, *args, **kwargs)\u001b[39m\n\u001b[32m   1518\u001b[39m \u001b[38;5;129m@functools\u001b[39m.wraps(func)\n\u001b[32m   1519\u001b[39m \u001b[38;5;28;01mdef\u001b[39;00m\u001b[38;5;250m \u001b[39m\u001b[34minner\u001b[39m(ax, *args, data=\u001b[38;5;28;01mNone\u001b[39;00m, **kwargs):\n\u001b[32m   1520\u001b[39m     \u001b[38;5;28;01mif\u001b[39;00m data \u001b[38;5;129;01mis\u001b[39;00m \u001b[38;5;28;01mNone\u001b[39;00m:\n\u001b[32m-> \u001b[39m\u001b[32m1521\u001b[39m         \u001b[38;5;28;01mreturn\u001b[39;00m \u001b[43mfunc\u001b[49m\u001b[43m(\u001b[49m\n\u001b[32m   1522\u001b[39m \u001b[43m            \u001b[49m\u001b[43max\u001b[49m\u001b[43m,\u001b[49m\n\u001b[32m   1523\u001b[39m \u001b[43m            \u001b[49m\u001b[43m*\u001b[49m\u001b[38;5;28;43mmap\u001b[39;49m\u001b[43m(\u001b[49m\u001b[43mcbook\u001b[49m\u001b[43m.\u001b[49m\u001b[43msanitize_sequence\u001b[49m\u001b[43m,\u001b[49m\u001b[43m \u001b[49m\u001b[43margs\u001b[49m\u001b[43m)\u001b[49m\u001b[43m,\u001b[49m\n\u001b[32m   1524\u001b[39m \u001b[43m            \u001b[49m\u001b[43m*\u001b[49m\u001b[43m*\u001b[49m\u001b[43m{\u001b[49m\u001b[43mk\u001b[49m\u001b[43m:\u001b[49m\u001b[43m \u001b[49m\u001b[43mcbook\u001b[49m\u001b[43m.\u001b[49m\u001b[43msanitize_sequence\u001b[49m\u001b[43m(\u001b[49m\u001b[43mv\u001b[49m\u001b[43m)\u001b[49m\u001b[43m \u001b[49m\u001b[38;5;28;43;01mfor\u001b[39;49;00m\u001b[43m \u001b[49m\u001b[43mk\u001b[49m\u001b[43m,\u001b[49m\u001b[43m \u001b[49m\u001b[43mv\u001b[49m\u001b[43m \u001b[49m\u001b[38;5;129;43;01min\u001b[39;49;00m\u001b[43m \u001b[49m\u001b[43mkwargs\u001b[49m\u001b[43m.\u001b[49m\u001b[43mitems\u001b[49m\u001b[43m(\u001b[49m\u001b[43m)\u001b[49m\u001b[43m}\u001b[49m\u001b[43m)\u001b[49m\n\u001b[32m   1526\u001b[39m     bound = new_sig.bind(ax, *args, **kwargs)\n\u001b[32m   1527\u001b[39m     auto_label = (bound.arguments.get(label_namer)\n\u001b[32m   1528\u001b[39m                   \u001b[38;5;129;01mor\u001b[39;00m bound.kwargs.get(label_namer))\n",
            "\u001b[31mTypeError\u001b[39m: Axes.bar() missing 2 required positional arguments: 'x' and 'height'"
          ]
        },
        {
          "data": {
            "image/png": "[encoded data removed]",
            "text/plain": [
              "<Figure size 640x480 with 1 Axes>"
            ]
          },
          "metadata": {},
          "output_type": "display_data"
        }
      ],
      "source": [
        "import matplotlib.pyplot as plt\n",
        "\n",
        "# Bar plot: number of countries per continent\n",
        "drinks[['country', 'continent']].groupby('continent').count().plot.bar(edgecolor='black', width=0.8, figsize=(12, 8))\n",
        "plt.show()\n",
        "\n",
        "# Bar plot: total alcohol consumption per continent by beverage type\n",
        "drinks.groupby('continent').sum().plot().bar(stacked=True, edgecolor='black', width=0.8, figsize=(12, 8))\n",
        "plt.show()\n"
      ]
    },
    {
      "cell_type": "markdown",
      "metadata": {
        "id": "yh0kG-4EdgJ7"
      },
      "source": [
        "### 11: Regularize Data\n",
        "- Save the records for North America in a new DataFrame using the .copy() method.\n",
        "- Create a new column in this DataFrame containing the sum of Beer, Wine, and Spirit.\n",
        "- Plot a histogram of this new column with 10 bins between 0 and 900.\n",
        "- Write a function to normalize a column to have a mean of 0 and variance of 1.\n",
        "- Apply this function to the new column and plot a histogram of the normalized data with 10 bins between -2.5 and 3."
      ]
    },
    {
      "cell_type": "code",
      "execution_count": 30,
      "metadata": {
        "id": "z6JKojKkddZr"
      },
      "outputs": [
        {
          "ename": "_IncompleteInputError",
          "evalue": "incomplete input (1669736152.py, line 16)",
          "output_type": "error",
          "traceback": [
            "  \u001b[36mCell\u001b[39m\u001b[36m \u001b[39m\u001b[32mIn[30]\u001b[39m\u001b[32m, line 16\u001b[39m\n\u001b[31m    \u001b[39m\u001b[31mregularize(drinks_north_america['total']).hist(bins=np.linspace(-2.5, 3.5,\u001b[39m\n                                                                              ^\n\u001b[31m_IncompleteInputError\u001b[39m\u001b[31m:\u001b[39m incomplete input\n"
          ]
        }
      ],
      "source": [
        "# Save North American records\n",
        "drinks_north_america = drinks[drinks['continent'] == 'North America'].copy()\n",
        "\n",
        "# Create 'total' column\n",
        "drinks_north_america['total'] = drinks_north_america['Beer'] + drinks_north_america['Wine'] + drinks_north_america['Spirit']\n",
        "print(drinks_north_america['total'])\n",
        "\n",
        "# Histogram of 'total' column\n",
        "drinks_north_america['total'].hist(bins=range(0, 900, 90), edgecolor='black', grid=False, color='#86bf91', rwidth=0.9, figsize=(12, 8))\n",
        "\n",
        "# Normalization function\n",
        "def regularize(col):\n",
        "    return (col - col.mean()) / col.std()\n",
        "\n",
        "# Apply normalization and plot histogram\n",
        "regularize(drinks_north_america['total']).hist(bins=np.linspace(-2.5, 3.5,"
      ]
    }
  ],
  "metadata": {
    "colab": {
      "provenance": []
    },
    "kernelspec": {
      "display_name": "Python 3",
      "name": "python3"
    },
    "language_info": {
      "codemirror_mode": {
        "name": "ipython",
        "version": 3
      },
      "file_extension": ".py",
      "mimetype": "text/x-python",
      "name": "python",
      "nbconvert_exporter": "python",
      "pygments_lexer": "ipython3",
      "version": "3.13.2"
    }
  },
  "nbformat": 4,
  "nbformat_minor": 0
}
