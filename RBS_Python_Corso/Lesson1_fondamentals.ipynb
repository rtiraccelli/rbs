{
  "nbformat": 4,
  "nbformat_minor": 0,
  "metadata": {
    "colab": {
      "provenance": []
    },
    "kernelspec": {
      "name": "python3",
      "display_name": "Python 3"
    },
    "language_info": {
      "name": "python"
    }
  },
  "cells": [
    {
      "cell_type": "markdown",
      "source": [
        "# Lesson 1: Introduction to Python\n",
        "## **Installation and Setup**\n",
        "### _On Google Colab, Python is already installed. Let's start with a simple print statement to verify everything is working._\n"
      ],
      "metadata": {
        "id": "zUm12DbWehtl"
      }
    },
    {
      "cell_type": "code",
      "source": [
        "print(\"Hello, welcome to your first Python lesson!\")"
      ],
      "metadata": {
        "id": "s3dF7xILep_1"
      },
      "execution_count": null,
      "outputs": []
    },
    {
      "cell_type": "markdown",
      "source": [
        "## **Basic Syntax: Variables, Data Types, Arithmetic Operations**\n"
      ],
      "metadata": {
        "id": "M1sHoMQsaSyh"
      }
    },
    {
      "cell_type": "markdown",
      "source": [
        "## Variables and Data Types\n"
      ],
      "metadata": {
        "id": "7F3VOrcRgy4O"
      }
    },
    {
      "cell_type": "code",
      "source": [
        "x = 10\n",
        "x"
      ],
      "metadata": {
        "id": "_47udHyKhBh0"
      },
      "execution_count": null,
      "outputs": []
    },
    {
      "cell_type": "code",
      "source": [
        "y = 3.14\n",
        "y"
      ],
      "metadata": {
        "id": "kjhLb-IRhVkk"
      },
      "execution_count": null,
      "outputs": []
    },
    {
      "cell_type": "code",
      "source": [
        "name = \"Giacomo\"\n",
        "name"
      ],
      "metadata": {
        "id": "Hup6SAEShYuK"
      },
      "execution_count": null,
      "outputs": []
    },
    {
      "cell_type": "code",
      "source": [
        "is_student = True\n",
        "is_student"
      ],
      "metadata": {
        "id": "kKpZXOEQhbDO"
      },
      "execution_count": null,
      "outputs": []
    },
    {
      "cell_type": "code",
      "source": [
        "type(x)"
      ],
      "metadata": {
        "id": "x0A54KFnhnPK"
      },
      "execution_count": null,
      "outputs": []
    },
    {
      "cell_type": "code",
      "source": [
        "type(y) #float number has 15 to 17 digit"
      ],
      "metadata": {
        "id": "6HZhhP7rhoOj"
      },
      "execution_count": null,
      "outputs": []
    },
    {
      "cell_type": "code",
      "source": [
        "type(name)\n",
        "name"
      ],
      "metadata": {
        "id": "WECzrsqTm4sw"
      },
      "execution_count": null,
      "outputs": []
    },
    {
      "cell_type": "code",
      "source": [
        "print(x, type(x))\n",
        "print(y, type(y))\n",
        "print(name, type(name))\n",
        "print(is_student, type(is_student))\n"
      ],
      "metadata": {
        "id": "CXrTHXmGhd2v"
      },
      "execution_count": null,
      "outputs": []
    },
    {
      "cell_type": "code",
      "source": [
        "3+4+a"
      ],
      "metadata": {
        "id": "BPjsuCtcWLpY"
      },
      "execution_count": null,
      "outputs": []
    },
    {
      "cell_type": "markdown",
      "source": [
        "## **Arithmetic Operations**"
      ],
      "metadata": {
        "id": "YsBSnMY2m8Y-"
      }
    },
    {
      "cell_type": "code",
      "source": [
        "a = 12\n",
        "b = 5\n",
        "\n",
        "print(\"Addition:\", a + b)\n",
        "print(\"Subtraction:\", a - b)\n",
        "print(\"Multiplication:\", a * b)\n",
        "print(\"Division:\", a / b)\n",
        "print(\"Integer Division:\", a // b)\n",
        "print(\"Exponentiation:\", a ** b)\n",
        "print(\"Module:\", 12 % b)\n",
        "\n"
      ],
      "metadata": {
        "id": "jsTWzu19ow_k"
      },
      "execution_count": null,
      "outputs": []
    },
    {
      "cell_type": "markdown",
      "source": [
        "## Control Structures: Conditionals\n"
      ],
      "metadata": {
        "id": "orKWzUWMnGOK"
      }
    },
    {
      "cell_type": "code",
      "source": [
        "a = 10\n",
        "b = 5\n",
        "\n",
        "# Conditionals\n",
        "\n",
        "\n",
        "if a > b:\n",
        "    print(\"a is greater than b\")\n",
        "elif a == b: #else if\n",
        "    print(\"a is equal to b\")\n",
        "else:\n",
        "    print(\"a is less than b\")\n"
      ],
      "metadata": {
        "id": "PArd20y5oHh4"
      },
      "execution_count": null,
      "outputs": []
    },
    {
      "cell_type": "code",
      "source": [
        "a = -5\n",
        "b = 5\n",
        "\n",
        "# Nested Conditionals\n",
        "if a > 0:\n",
        "    if a > b:\n",
        "        print(\"a is positive and greater than b\")\n",
        "    else:\n",
        "        print(\"a is positive but not greater than b\")\n",
        "else:\n",
        "    print(\"a is not positive\")\n"
      ],
      "metadata": {
        "id": "gjzrrNZKoQKo"
      },
      "execution_count": null,
      "outputs": []
    },
    {
      "cell_type": "markdown",
      "source": [
        "## **Loops**\n"
      ],
      "metadata": {
        "id": "jmV6bUS6ofe_"
      }
    },
    {
      "cell_type": "code",
      "source": [
        "range(5)"
      ],
      "metadata": {
        "id": "-xryRkVJYfqZ"
      },
      "execution_count": null,
      "outputs": []
    },
    {
      "cell_type": "code",
      "source": [
        "# For Loop\n",
        "for i in range(5):\n",
        "    print(\"For Loop, Iteration:\", i)"
      ],
      "metadata": {
        "id": "DiJfFmw4p8Tg"
      },
      "execution_count": null,
      "outputs": []
    },
    {
      "cell_type": "code",
      "source": [
        "# While Loop\n",
        "count = 0 # in a while loop you could need a counter, a variable that is possible to increment in every step of the loop\n",
        "while count < 5:\n",
        "    print(\"While Loop, Count:\", count)\n",
        "    count += 1\n",
        "    #count = count + 1\n"
      ],
      "metadata": {
        "id": "Pae2ReqnqFJD"
      },
      "execution_count": null,
      "outputs": []
    },
    {
      "cell_type": "code",
      "source": [
        "# More Complex Loop Example\n",
        "# Printing prime numbers between 2 and 20\n",
        "print(\"Prime numbers between 2 and 20:\")\n",
        "for num in range(2, 21):\n",
        "    is_prime = True\n",
        "    for i in range(2, num):\n",
        "        if num % i == 0:\n",
        "            is_prime = False\n",
        "            break\n",
        "    if is_prime:\n",
        "        print(num)"
      ],
      "metadata": {
        "id": "yxRXxVI_qKvE"
      },
      "execution_count": null,
      "outputs": []
    },
    {
      "cell_type": "code",
      "source": [
        "num = 10\n",
        "is_prime = True\n",
        "for i in range(2, num):\n",
        "  print(i)\n",
        "  if num % i == 0:\n",
        "      is_prime = False\n",
        "      break\n",
        "if is_prime == True:\n",
        "    print(num)"
      ],
      "metadata": {
        "id": "bpNWaCAtaYwY"
      },
      "execution_count": null,
      "outputs": []
    },
    {
      "cell_type": "markdown",
      "source": [
        "## Input"
      ],
      "metadata": {
        "id": "gxDrGSKG10H8"
      }
    },
    {
      "cell_type": "code",
      "source": [
        "name = input(\"Enter your name: \")\n",
        "print(\"Hello, \" + name + \"!\")"
      ],
      "metadata": {
        "id": "w3-7gEe-1w9P"
      },
      "execution_count": null,
      "outputs": []
    },
    {
      "cell_type": "markdown",
      "source": [
        "\n",
        "## Functions in Python\n"
      ],
      "metadata": {
        "id": "r4mDF2cXomhC"
      }
    },
    {
      "cell_type": "code",
      "source": [
        "# Defining a Function\n",
        "def greet(name):\n",
        "    return f\"Hello, {name}!\"\n"
      ],
      "metadata": {
        "id": "TuvPjeHeooNl"
      },
      "execution_count": null,
      "outputs": []
    },
    {
      "cell_type": "code",
      "source": [
        "# Calling a Function\n",
        "name = \"Giacomo\"\n",
        "greet(name)"
      ],
      "metadata": {
        "id": "8R3sDu4iuErA"
      },
      "execution_count": null,
      "outputs": []
    },
    {
      "cell_type": "code",
      "source": [
        "# Function with Multiple Parameters\n",
        "def add(a, b):\n",
        "  sum = a + b\n",
        "  return sum"
      ],
      "metadata": {
        "id": "YpNprr3muG_T"
      },
      "execution_count": null,
      "outputs": []
    },
    {
      "cell_type": "code",
      "source": [
        "# Calling the Function\n",
        "print(\"Sum of 10 and 5 is:\", add(10, 5))"
      ],
      "metadata": {
        "id": "wiFv_bAcuJXH"
      },
      "execution_count": null,
      "outputs": []
    },
    {
      "cell_type": "code",
      "source": [
        "# Function with Default Parameter\n",
        "def power(base, exponent=2):\n",
        "    return base ** exponent"
      ],
      "metadata": {
        "id": "sohVsbQAuLcj"
      },
      "execution_count": null,
      "outputs": []
    },
    {
      "cell_type": "code",
      "source": [
        "# Calling the Function with and without the default parameter\n",
        "print(\"2 to the power of 3 is:\", power(2, 3))\n",
        "print(\"3 squared is:\", power(3))\n",
        "\n"
      ],
      "metadata": {
        "id": "bQdiAakhuM5B"
      },
      "execution_count": null,
      "outputs": []
    },
    {
      "cell_type": "code",
      "source": [
        "# Function with Variable Number of Arguments\n",
        "def sum_all(*args):\n",
        "    return sum(args)"
      ],
      "metadata": {
        "id": "ER4KThaHuQ3V"
      },
      "execution_count": null,
      "outputs": []
    },
    {
      "cell_type": "code",
      "source": [
        "# Calling the Function with multiple arguments\n",
        "print(\"Sum of 1, 2, 3, 4 is:\", sum_all(1, 2, 3, 4))\n"
      ],
      "metadata": {
        "id": "9lh2xLvIuU3Y"
      },
      "execution_count": null,
      "outputs": []
    },
    {
      "cell_type": "code",
      "source": [
        "# More Complex Function Example\n",
        "def fibonacci(n):\n",
        "    fib_sequence = [0, 1]\n",
        "    while len(fib_sequence) < n:\n",
        "        fib_sequence.append(fib_sequence[-1] + fib_sequence[-2])\n",
        "    return fib_sequence\n"
      ],
      "metadata": {
        "id": "Iyz0rgDCuW_R"
      },
      "execution_count": null,
      "outputs": []
    },
    {
      "cell_type": "code",
      "source": [
        "# Calling the Function to generate the first 10 Fibonacci numbers\n",
        "print(\"First 10 Fibonacci numbers:\", fibonacci(15))\n"
      ],
      "metadata": {
        "id": "BZnYcSgiudI0"
      },
      "execution_count": null,
      "outputs": []
    },
    {
      "cell_type": "markdown",
      "source": [
        "## Reading and Writing Files with `open`\n"
      ],
      "metadata": {
        "id": "Oj6RGhrMuerf"
      }
    },
    {
      "cell_type": "code",
      "source": [
        "# Creating a sample file and writing text to it\n",
        "with open('example.txt', 'w') as file:\n",
        "    file.write(\"Hello, this is a sample file.\\n\")\n",
        "    file.write(\"Python is a fantastic programming language!\")\n",
        "print(\"File 'example.txt' created and written successfully!\")"
      ],
      "metadata": {
        "id": "0Qz1RWEXuf12"
      },
      "execution_count": null,
      "outputs": []
    },
    {
      "cell_type": "code",
      "source": [
        "# Reading the content of the file we just created\n",
        "with open('example.txt', 'r') as file:\n",
        "    content = file.read()\n",
        "    print(\"File content:\")\n",
        "    print(content)\n"
      ],
      "metadata": {
        "id": "BBBBMQqRuzxL"
      },
      "execution_count": null,
      "outputs": []
    },
    {
      "cell_type": "code",
      "source": [
        "# Appending more lines to the file\n",
        "with open('example.txt', 'a') as file:\n",
        "    file.write(\"\\nLet's add a new line to the file.\")\n"
      ],
      "metadata": {
        "id": "XY4jiWflu_8P"
      },
      "execution_count": null,
      "outputs": []
    },
    {
      "cell_type": "code",
      "source": [
        "# Reading the content again to see the changes\n",
        "with open('example.txt', 'r') as file:\n",
        "    content = file.read()\n",
        "    print(\"Updated file content:\")\n",
        "    print(content)\n"
      ],
      "metadata": {
        "id": "F2jb-RmAvKrE"
      },
      "execution_count": null,
      "outputs": []
    },
    {
      "cell_type": "markdown",
      "source": [
        "# Markdown Basics\n",
        "\n",
        "#### Markdown is a lightweight markup language for creating formatted text using a plain-text editor. It is often used for writing documentation, notes, and readme files. Here are some basic elements of Markdown:\n",
        "\n",
        "## Headers\n",
        "#### You can create headers using the `#` symbol. The number of `#` symbols indicates the level of the header.\n",
        "\n",
        "# This is an H1 header\n",
        "## This is an H2 header\n",
        "### This is an H3 header\n",
        "#### This is an H4 header\n",
        "##### This is an H5 header\n",
        "\n",
        "\n",
        "# Emphasis\n",
        "## You can add emphasis using `*` or `_` for italics and `**` or `__` for bold.\n",
        "\n",
        "*This text is italicized*\n",
        "_This text is also italicized_\n",
        "\n",
        "**This text is bold**\n",
        "__This text is also bold__\n",
        "\n",
        "# Lists\n",
        "## You can create ordered and unordered lists.\n",
        "\n",
        "### Unordered List\n",
        "- Item 1\n",
        "- Item 2\n",
        "- Item 3\n",
        "\n",
        "### Ordered List\n",
        "1. First item\n",
        "2. Second item\n",
        "3. Third item\n",
        "\n",
        "# Links\n",
        "## You can add links using the following syntax:\n",
        "[Rome Business School](http://romebusinessschool.com/)\n",
        "\n",
        "# Images\n",
        "## You can add images using the following syntax:\n",
        "![Alt text](https://via.placeholder.com/150)\n"
      ],
      "metadata": {
        "id": "ghoIXxqqvNYY"
      }
    },
    {
      "cell_type": "markdown",
      "source": [
        "# Lists, Tuples, and Dictionaries in Python\n"
      ],
      "metadata": {
        "id": "QUqG535uyPOz"
      }
    },
    {
      "cell_type": "markdown",
      "source": [
        "## Lists\n",
        "Lists in Python are mutable, ordered sequences of elements. They can contain elements of different data types. Lists are implemented as dynamic arrays in Python.\n"
      ],
      "metadata": {
        "id": "STVpKmmXv6qg"
      }
    },
    {
      "cell_type": "code",
      "source": [
        "# Creating a list\n",
        "fruits = [\"apple\", \"banana\", \"cherry\"]\n",
        "print(\"List of fruits:\", fruits)\n",
        "fruits"
      ],
      "metadata": {
        "id": "9qysgJudv9tJ",
        "colab": {
          "base_uri": "https://localhost:8080/"
        },
        "outputId": "88709f69-5528-4923-9ef6-e32e726a5203"
      },
      "execution_count": null,
      "outputs": [
        {
          "output_type": "stream",
          "name": "stdout",
          "text": [
            "List of fruits: ['apple', 'banana', 'cherry']\n"
          ]
        },
        {
          "output_type": "execute_result",
          "data": {
            "text/plain": [
              "['apple', 'banana', 'cherry']"
            ]
          },
          "metadata": {},
          "execution_count": 1
        }
      ]
    },
    {
      "cell_type": "code",
      "source": [
        "# Accessing elements\n",
        "print(\"First fruit:\", fruits[0:2])\n",
        "len(fruits)"
      ],
      "metadata": {
        "id": "Tog3gDafwOiR",
        "colab": {
          "base_uri": "https://localhost:8080/"
        },
        "outputId": "db18c76f-0b6c-4d29-ebca-aedf3ddd32b7"
      },
      "execution_count": null,
      "outputs": [
        {
          "output_type": "stream",
          "name": "stdout",
          "text": [
            "First fruit: ['apple', 'banana']\n"
          ]
        },
        {
          "output_type": "execute_result",
          "data": {
            "text/plain": [
              "3"
            ]
          },
          "metadata": {},
          "execution_count": 13
        }
      ]
    },
    {
      "cell_type": "code",
      "source": [
        "# Adding an element\n",
        "mixed_list = [1, \"apple\", 3.14, True]\n",
        "\n",
        "fruits.append(mixed_list)\n",
        "print(\"After adding an element:\", fruits)\n"
      ],
      "metadata": {
        "id": "PQsNpu--wP5C",
        "colab": {
          "base_uri": "https://localhost:8080/"
        },
        "outputId": "8a113932-8c1a-494c-b828-737d8108bebe"
      },
      "execution_count": null,
      "outputs": [
        {
          "output_type": "stream",
          "name": "stdout",
          "text": [
            "After adding an element: ['apple', 'banana', 'cherry', [1, 'apple', 3.14, True]]\n"
          ]
        }
      ]
    },
    {
      "cell_type": "code",
      "source": [
        "# Removing an element\n",
        "fruits.remove(mixed_list)\n",
        "print(\"After removing an element:\", fruits)\n"
      ],
      "metadata": {
        "id": "cZug5MhXwQ9Q",
        "colab": {
          "base_uri": "https://localhost:8080/"
        },
        "outputId": "d0159649-a266-48f1-819a-4d254eec5006"
      },
      "execution_count": null,
      "outputs": [
        {
          "output_type": "stream",
          "name": "stdout",
          "text": [
            "After removing an element: ['apple', 'banana', 'cherry']\n"
          ]
        }
      ]
    },
    {
      "cell_type": "code",
      "source": [
        "for i in range(15):\n",
        "  fruits.append(i)"
      ],
      "metadata": {
        "id": "lNF_XCIZrf70"
      },
      "execution_count": null,
      "outputs": []
    },
    {
      "cell_type": "code",
      "source": [
        "fruits"
      ],
      "metadata": {
        "colab": {
          "base_uri": "https://localhost:8080/"
        },
        "id": "v6Hpparnrxis",
        "outputId": "dad922e7-3231-4607-9770-2f76fa1e5f42"
      },
      "execution_count": null,
      "outputs": [
        {
          "output_type": "execute_result",
          "data": {
            "text/plain": [
              "['apple', 'banana', 'cherry', 0, 1, 2, 3, 4, 5, 6, 7, 8, 9, 10, 11, 12, 13, 14]"
            ]
          },
          "metadata": {},
          "execution_count": 17
        }
      ]
    },
    {
      "cell_type": "code",
      "source": [
        "fruits[1:17:3]"
      ],
      "metadata": {
        "colab": {
          "base_uri": "https://localhost:8080/"
        },
        "id": "2n0ZHorrr5fS",
        "outputId": "10cc5b09-5c5c-4339-e715-b85b2dbfe2ab"
      },
      "execution_count": null,
      "outputs": [
        {
          "output_type": "execute_result",
          "data": {
            "text/plain": [
              "['banana', 1, 4, 7, 10, 13]"
            ]
          },
          "metadata": {},
          "execution_count": 18
        }
      ]
    },
    {
      "cell_type": "code",
      "source": [
        "my_list = []\n",
        "for i in range(26):\n",
        "  my_list.append(i)\n",
        "\n",
        "my_list[0:26:5]\n"
      ],
      "metadata": {
        "colab": {
          "base_uri": "https://localhost:8080/"
        },
        "id": "6bzrruoDtYLW",
        "outputId": "9eb760ea-ec7e-4805-d3dd-35169fb5941e"
      },
      "execution_count": null,
      "outputs": [
        {
          "output_type": "execute_result",
          "data": {
            "text/plain": [
              "[0, 5, 10, 15, 20, 25]"
            ]
          },
          "metadata": {},
          "execution_count": 19
        }
      ]
    },
    {
      "cell_type": "code",
      "source": [
        "# Slicing a list\n",
        "\n",
        "print(\"Sliced list (first two elements):\", fruits[:2])\n",
        "fruits"
      ],
      "metadata": {
        "id": "2B0If47MwSuk",
        "colab": {
          "base_uri": "https://localhost:8080/"
        },
        "outputId": "ccfe6899-6cba-4ee7-88da-7ad60f4268e0"
      },
      "execution_count": null,
      "outputs": [
        {
          "output_type": "stream",
          "name": "stdout",
          "text": [
            "Sliced list (first two elements): ['apple', 'banana']\n"
          ]
        },
        {
          "output_type": "execute_result",
          "data": {
            "text/plain": [
              "['apple', 'banana', 'cherry']"
            ]
          },
          "metadata": {},
          "execution_count": 10
        }
      ]
    },
    {
      "cell_type": "code",
      "source": [
        "# List of mixed data types\n",
        "mixed_list = [1, \"apple\", 3.14, True]\n",
        "print(\"Mixed list:\", mixed_list)\n"
      ],
      "metadata": {
        "id": "SxdQA-FrwXi-"
      },
      "execution_count": null,
      "outputs": []
    },
    {
      "cell_type": "code",
      "source": [
        "# Nested lists\n",
        "nested_list = [[1, 2, 3], [\"a\", \"b\", \"c\"], [True, False]]\n",
        "print(\"Nested list:\", nested_list)"
      ],
      "metadata": {
        "id": "hVhtKw14wh66"
      },
      "execution_count": null,
      "outputs": []
    },
    {
      "cell_type": "code",
      "source": [
        "my_list[0]= \"pippo\"\n",
        "my_list"
      ],
      "metadata": {
        "colab": {
          "base_uri": "https://localhost:8080/"
        },
        "id": "ET-JeAENt59J",
        "outputId": "89591428-0f8c-409e-eb0d-1d1b8583444b"
      },
      "execution_count": null,
      "outputs": [
        {
          "output_type": "execute_result",
          "data": {
            "text/plain": [
              "['pippo',\n",
              " 1,\n",
              " 2,\n",
              " 3,\n",
              " 4,\n",
              " 5,\n",
              " 6,\n",
              " 7,\n",
              " 8,\n",
              " 9,\n",
              " 10,\n",
              " 11,\n",
              " 12,\n",
              " 13,\n",
              " 14,\n",
              " 15,\n",
              " 16,\n",
              " 17,\n",
              " 18,\n",
              " 19,\n",
              " 20,\n",
              " 21,\n",
              " 22,\n",
              " 23,\n",
              " 24,\n",
              " 25]"
            ]
          },
          "metadata": {},
          "execution_count": 20
        }
      ]
    },
    {
      "cell_type": "markdown",
      "source": [
        "### Lists\n",
        " - Mutable: Lists can be modified after creation (e.g., adding, removing, or changing elements).\n",
        " - Ordered: Elements in a list have a defined order, and you can access elements by their index.\n",
        " - Underlying Implementation: Lists are implemented as dynamic arrays, meaning they can grow or shrink in size as needed."
      ],
      "metadata": {
        "id": "T7qGTbbXw2NL"
      }
    },
    {
      "cell_type": "markdown",
      "source": [
        "# Tuples\n",
        "Tuples in Python are immutable, ordered sequences of elements. They are similar to lists but cannot be modified after creation. Tuples are implemented as arrays with fixed size.\n"
      ],
      "metadata": {
        "id": "DuPWgX5kwc6F"
      }
    },
    {
      "cell_type": "code",
      "source": [
        "# Creating a tuple\n",
        "colors = (\"red\", \"green\", \"blue\")\n",
        "print(\"Tuple of colors:\", colors)\n",
        "colors"
      ],
      "metadata": {
        "id": "PVPuX5AWwvUL",
        "colab": {
          "base_uri": "https://localhost:8080/"
        },
        "outputId": "792d7ccb-558d-48fe-d584-2e7ceb16f34e"
      },
      "execution_count": null,
      "outputs": [
        {
          "output_type": "stream",
          "name": "stdout",
          "text": [
            "Tuple of colors: ('red', 'green', 'blue')\n"
          ]
        },
        {
          "output_type": "execute_result",
          "data": {
            "text/plain": [
              "('red', 'green', 'blue')"
            ]
          },
          "metadata": {},
          "execution_count": 21
        }
      ]
    },
    {
      "cell_type": "code",
      "source": [
        "# Accessing elements\n",
        "print(\"First color:\", colors[0])\n"
      ],
      "metadata": {
        "id": "aH0c7qXGx2MH",
        "colab": {
          "base_uri": "https://localhost:8080/"
        },
        "outputId": "1af60a5f-2016-42d2-f53a-495fa44df867"
      },
      "execution_count": null,
      "outputs": [
        {
          "output_type": "stream",
          "name": "stdout",
          "text": [
            "First color: red\n"
          ]
        }
      ]
    },
    {
      "cell_type": "code",
      "source": [
        "# Tuples are immutable; trying to modify them will raise an error\n",
        "colors[0] = \"yellow\"  # Uncommenting this line will raise a TypeError\n"
      ],
      "metadata": {
        "id": "TvdzCF_Ix3YK",
        "colab": {
          "base_uri": "https://localhost:8080/",
          "height": 159
        },
        "outputId": "8fbf378b-4570-4449-ee8b-d1a02f6e5bff"
      },
      "execution_count": null,
      "outputs": [
        {
          "output_type": "error",
          "ename": "TypeError",
          "evalue": "'tuple' object does not support item assignment",
          "traceback": [
            "\u001b[0;31m---------------------------------------------------------------------------\u001b[0m",
            "\u001b[0;31mTypeError\u001b[0m                                 Traceback (most recent call last)",
            "\u001b[0;32m<ipython-input-23-5868c7fee322>\u001b[0m in \u001b[0;36m<cell line: 2>\u001b[0;34m()\u001b[0m\n\u001b[1;32m      1\u001b[0m \u001b[0;31m# Tuples are immutable; trying to modify them will raise an error\u001b[0m\u001b[0;34m\u001b[0m\u001b[0;34m\u001b[0m\u001b[0m\n\u001b[0;32m----> 2\u001b[0;31m \u001b[0mcolors\u001b[0m\u001b[0;34m[\u001b[0m\u001b[0;36m0\u001b[0m\u001b[0;34m]\u001b[0m \u001b[0;34m=\u001b[0m \u001b[0;34m\"yellow\"\u001b[0m  \u001b[0;31m# Uncommenting this line will raise a TypeError\u001b[0m\u001b[0;34m\u001b[0m\u001b[0;34m\u001b[0m\u001b[0m\n\u001b[0m",
            "\u001b[0;31mTypeError\u001b[0m: 'tuple' object does not support item assignment"
          ]
        }
      ]
    },
    {
      "cell_type": "code",
      "source": [
        "# Slicing a tuple\n",
        "print(\"Sliced tuple (first two elements):\", colors[:2])\n"
      ],
      "metadata": {
        "id": "LDr93-Gjx5XA"
      },
      "execution_count": null,
      "outputs": []
    },
    {
      "cell_type": "code",
      "source": [
        "# Tuple of mixed data types\n",
        "mixed_tuple = (1, \"apple\", 3.14, True)\n",
        "print(\"Mixed tuple:\", mixed_tuple)\n"
      ],
      "metadata": {
        "id": "npD8-bW6x9T5"
      },
      "execution_count": null,
      "outputs": []
    },
    {
      "cell_type": "code",
      "source": [
        "# Nested tuples\n",
        "nested_tuple = ((1, 2, 3), (\"a\", \"b\", \"c\"), (True, False))\n",
        "print(\"Nested tuple:\", nested_tuple)\n",
        "\n",
        "numbers, letters, booleans = nested_tuple\n",
        "print(numbers, letters, booleans)"
      ],
      "metadata": {
        "id": "BEEZeP9hx_XI",
        "colab": {
          "base_uri": "https://localhost:8080/"
        },
        "outputId": "9f73101e-f834-4ebe-f9bf-7ccc42604904"
      },
      "execution_count": null,
      "outputs": [
        {
          "output_type": "stream",
          "name": "stdout",
          "text": [
            "Nested tuple: ((1, 2, 3), ('a', 'b', 'c'), (True, False))\n",
            "(1, 2, 3) ('a', 'b', 'c') (True, False)\n"
          ]
        }
      ]
    },
    {
      "cell_type": "code",
      "source": [
        "# Tuple unpacking\n",
        "a, b, c = (1, 2, 3)\n",
        "print(\"Unpacked values:\", a, b, c)"
      ],
      "metadata": {
        "id": "6rUaSe-6yBWj"
      },
      "execution_count": null,
      "outputs": []
    },
    {
      "cell_type": "code",
      "source": [
        "list_1 = []\n",
        "for i in range(20):\n",
        "  list_1.append(i)\n",
        "tuple_1 = tuple(list_1)"
      ],
      "metadata": {
        "id": "oY9Gkahqwuri"
      },
      "execution_count": null,
      "outputs": []
    },
    {
      "cell_type": "code",
      "source": [
        "tuple_1"
      ],
      "metadata": {
        "colab": {
          "base_uri": "https://localhost:8080/"
        },
        "id": "SR6GujI2xF2P",
        "outputId": "3845f8ec-43f4-48d3-c2db-b8645265a62e"
      },
      "execution_count": null,
      "outputs": [
        {
          "output_type": "execute_result",
          "data": {
            "text/plain": [
              "(0, 1, 2, 3, 4, 5, 6, 7, 8, 9, 10, 11, 12, 13, 14, 15, 16, 17, 18, 19)"
            ]
          },
          "metadata": {},
          "execution_count": 27
        }
      ]
    },
    {
      "cell_type": "markdown",
      "source": [
        "#### How can we modify a tuple?\n",
        "Concatenating Tuples"
      ],
      "metadata": {
        "id": "8MHqyJr53pi-"
      }
    },
    {
      "cell_type": "code",
      "source": [
        "# Original tuple\n",
        "original_tuple = (1, 2, 3)\n",
        "print(\"Original tuple:\", original_tuple)\n",
        "\n",
        "# New tuple with elements to add\n",
        "new_elements = (4, 5)\n",
        "\n",
        "# Concatenate the tuples to create a new tuple\n",
        "new_tuple = original_tuple + new_elements\n",
        "print(\"New tuple:\", new_tuple)"
      ],
      "metadata": {
        "id": "yLqU5pPn3ws7",
        "colab": {
          "base_uri": "https://localhost:8080/"
        },
        "outputId": "84e4984a-414d-427e-cb85-13dded6642d2"
      },
      "execution_count": null,
      "outputs": [
        {
          "output_type": "stream",
          "name": "stdout",
          "text": [
            "Original tuple: (1, 2, 3)\n",
            "New tuple: (1, 2, 3, 4, 5)\n"
          ]
        }
      ]
    },
    {
      "cell_type": "code",
      "source": [
        "original_tuple2 = (0, 1)\n",
        "print(\"Original tuple:\", original_tuple2)\n",
        "print(type(original_tuple2))\n",
        "\n",
        "for i in range(2,10):\n",
        "  print(i)\n",
        "  original_tuple2 = original_tuple2 + (i, )\n",
        "\n",
        "original_tuple2"
      ],
      "metadata": {
        "colab": {
          "base_uri": "https://localhost:8080/"
        },
        "id": "oaeAc0jWxVnd",
        "outputId": "dad8ec74-076a-4019-9aeb-174c9c875448"
      },
      "execution_count": null,
      "outputs": [
        {
          "output_type": "stream",
          "name": "stdout",
          "text": [
            "Original tuple: (0, 1)\n",
            "<class 'tuple'>\n",
            "2\n",
            "3\n",
            "4\n",
            "5\n",
            "6\n",
            "7\n",
            "8\n",
            "9\n"
          ]
        },
        {
          "output_type": "execute_result",
          "data": {
            "text/plain": [
              "(0, 1, 2, 3, 4, 5, 6, 7, 8, 9)"
            ]
          },
          "metadata": {},
          "execution_count": 41
        }
      ]
    },
    {
      "cell_type": "markdown",
      "source": [
        "Converting to a List, Modifying, and Converting Back to a Tuple\n"
      ],
      "metadata": {
        "id": "uwwhHcEt4E-u"
      }
    },
    {
      "cell_type": "code",
      "source": [
        "# Original tuple\n",
        "original_tuple = (1, 2, 3)\n",
        "print(\"Original tuple:\", original_tuple)\n",
        "\n",
        "# Convert tuple to list\n",
        "temp_list = list(original_tuple)\n",
        "\n",
        "# Add elements to the list\n",
        "temp_list.append(4)\n",
        "temp_list.append(5)\n",
        "\n",
        "# Convert list back to tuple\n",
        "new_tuple = tuple(temp_list)\n",
        "print(\"New tuple:\", new_tuple)"
      ],
      "metadata": {
        "id": "-uPjPsKv4JRe"
      },
      "execution_count": null,
      "outputs": []
    },
    {
      "cell_type": "markdown",
      "source": [
        "### Tuples\n",
        " - Immutable: Tuples cannot be modified after creation. This immutability makes them suitable for use as keys in dictionaries.\n",
        " - Ordered: Elements in a tuple have a defined order, and you can access elements by their index.\n",
        " - Underlying Implementation: Tuples are implemented as fixed-size arrays, providing faster access times compared to lists due to their immutability."
      ],
      "metadata": {
        "id": "y0q5X7d7yE9k"
      }
    },
    {
      "cell_type": "markdown",
      "source": [
        "# Dictionaries\n",
        "Dictionaries in Python are mutable, unordered collections of key-value pairs. They are implemented as hash tables. Keys must be immutable types (e.g., strings, numbers, tuples).\n"
      ],
      "metadata": {
        "id": "yU7MRe7fyLLr"
      }
    },
    {
      "cell_type": "code",
      "source": [
        "# Creating a dictionary\n",
        "person = {\"name\": \"Alice\", \"age\": 25, \"city\": \"New York\"}\n",
        "print(\"Dictionary:\", person)\n"
      ],
      "metadata": {
        "id": "c4nBMW5yyeZS",
        "colab": {
          "base_uri": "https://localhost:8080/"
        },
        "outputId": "07bf4b4a-80dc-433c-d6d9-af442af09390"
      },
      "execution_count": null,
      "outputs": [
        {
          "output_type": "stream",
          "name": "stdout",
          "text": [
            "Dictionary: {'name': 'Alice', 'age': 25, 'city': 'New York'}\n"
          ]
        }
      ]
    },
    {
      "cell_type": "code",
      "source": [
        "# Accessing values\n",
        "print(\"age:\", person[\"age\"])\n"
      ],
      "metadata": {
        "id": "uW3llxAJytQw"
      },
      "execution_count": null,
      "outputs": []
    },
    {
      "cell_type": "code",
      "source": [
        "book = {\"title\":\"Harry Potter\", \"n. of pages\": 300, \"editor\": \"Salani\"}\n",
        "book[\"n. of pages\"] = 350\n",
        "book[\"author\"]= \"J.K. Rowling\"\n",
        "book"
      ],
      "metadata": {
        "colab": {
          "base_uri": "https://localhost:8080/"
        },
        "id": "H7WpDCAG1YrN",
        "outputId": "7613be0c-3484-4475-9801-1ec45c26256a"
      },
      "execution_count": null,
      "outputs": [
        {
          "output_type": "execute_result",
          "data": {
            "text/plain": [
              "{'title': 'Harry Potter',\n",
              " 'n. of pages': 350,\n",
              " 'editor': 'Salani',\n",
              " 'author': 'J.K. Rowling'}"
            ]
          },
          "metadata": {},
          "execution_count": 45
        }
      ]
    },
    {
      "cell_type": "code",
      "source": [
        "# Adding a new key-value pair\n",
        "person[\"email\"] = \"alice@example.com\"\n",
        "print(\"After adding email:\", person)\n"
      ],
      "metadata": {
        "id": "4uHEU0flyxMT"
      },
      "execution_count": null,
      "outputs": []
    },
    {
      "cell_type": "code",
      "source": [
        "# Removing a key-value pair\n",
        "del person[\"age\"]\n",
        "print(\"After removing age:\", person)\n",
        "del book[\"editor\"]\n",
        "book"
      ],
      "metadata": {
        "id": "rHZdMv3ryye0",
        "colab": {
          "base_uri": "https://localhost:8080/"
        },
        "outputId": "3f9dbd0a-f36b-402b-f0b5-55a5bedd0279"
      },
      "execution_count": null,
      "outputs": [
        {
          "output_type": "stream",
          "name": "stdout",
          "text": [
            "After removing age: {'name': 'Alice', 'city': 'New York'}\n"
          ]
        },
        {
          "output_type": "execute_result",
          "data": {
            "text/plain": [
              "{'title': 'Harry Potter', 'n. of pages': 350, 'author': 'J.K. Rowling'}"
            ]
          },
          "metadata": {},
          "execution_count": 46
        }
      ]
    },
    {
      "cell_type": "code",
      "source": [
        "# Dictionary with mixed data types\n",
        "mixed_dict = {\"integer\": 1, \"float\": 3.14, \"string\": \"hello\", \"list\": [1, 2, 3]}\n",
        "print(\"Mixed dictionary:\", mixed_dict)\n"
      ],
      "metadata": {
        "id": "b9Sqn7wdy2eL",
        "colab": {
          "base_uri": "https://localhost:8080/"
        },
        "outputId": "b63b04c8-9469-4e6e-ad7c-0a62c12a9c63"
      },
      "execution_count": null,
      "outputs": [
        {
          "output_type": "stream",
          "name": "stdout",
          "text": [
            "Mixed dictionary: {'integer': 1, 'float': 3.14, 'string': 'hello', 'list': [1, 2, 3]}\n"
          ]
        }
      ]
    },
    {
      "cell_type": "code",
      "source": [
        "# Nested dictionaries\n",
        "nested_dict = {\n",
        "    \"person1\": {\"name\": \"Alice\", \"age\": 25},\n",
        "    \"person2\": {\"name\": \"Bob\", \"age\": 30}\n",
        "}\n",
        "print(\"Nested dictionary:\", nested_dict)\n"
      ],
      "metadata": {
        "id": "KhngkfLay3VP"
      },
      "execution_count": null,
      "outputs": []
    },
    {
      "cell_type": "code",
      "source": [
        "# harry potter saga\n",
        "\n",
        "harry_potter = {\"harry1\" : {\"year of publication\" : 1997, \"n of pages\":300},\n",
        "                \"harry2\" : {\"year of publication\" : 1999, \"n of pages\":350},\n",
        "                \"harry3\" : {\"year of publication\" : 1999, \"n of pages\":390},\n",
        "                \"harry4\" : {\"year of publication\" : 2000, \"n of pages\":450},\n",
        "                \"harry5\" : {\"year of publication\" : 2003, \"n of pages\":800},\n",
        "                \"harry6\" : {\"year of publication\" : 2005, \"n of pages\":650},\n",
        "                \"harry7\" : {\"year of publication\" : 2007, \"n of pages\":700},\n",
        "}\n",
        "harry_potter[\"harry7\"][\"n of pages\"] + harry_potter[\"harry3\"][\"n of pages\"]"
      ],
      "metadata": {
        "colab": {
          "base_uri": "https://localhost:8080/"
        },
        "id": "S8S31SZN4qv3",
        "outputId": "0868a821-7814-477a-945d-c3f3193de112"
      },
      "execution_count": null,
      "outputs": [
        {
          "output_type": "execute_result",
          "data": {
            "text/plain": [
              "1090"
            ]
          },
          "metadata": {},
          "execution_count": 52
        }
      ]
    },
    {
      "cell_type": "markdown",
      "source": [
        "### Dictionaries\n",
        " - Mutable: Dictionaries can be modified by adding, removing, or changing key-value pairs.\n",
        " - Unordered: Dictionaries do not maintain the order of elements. Access to elements is based on keys, not indexes.\n",
        " - Underlying Implementation: Dictionaries are implemented as hash tables, providing fast access to values based on their keys."
      ],
      "metadata": {
        "id": "o8InFzRry5Do"
      }
    },
    {
      "cell_type": "markdown",
      "source": [
        "Exercixes"
      ],
      "metadata": {
        "id": "ry_h_aeZ0F2e"
      }
    },
    {
      "cell_type": "code",
      "source": [
        "X = 23\n",
        "x\n"
      ],
      "metadata": {
        "id": "87GGqfi4yI0c"
      },
      "execution_count": null,
      "outputs": []
    },
    {
      "cell_type": "markdown",
      "source": [
        "# Python Exercises\n",
        "\n",
        "## If, Else, Elif\n",
        "\n",
        "1. **Basic If Statement**\n",
        "   - Write a program that checks if a number is negative and prints \"Negative\".\n",
        "\n",
        "2. **If-Else Statement**\n",
        "   - Write a program that checks if a number is even or odd and prints the result.\n",
        "\n",
        "3. **If-Elif-Else Statement**\n",
        "   - Write a program that assigns a letter grade (A, B, C, D, or F) based on a numeric score. Starts by defining the range of the numeric score.\n",
        "\n",
        "## For Loops\n",
        "\n",
        "4. **Simple For Loop**\n",
        "   - Write a program that prints the numbers from 1 to 10 using a for loop.\n",
        "\n",
        "5. **For Loop with List**\n",
        "   - Write a program that iterates through a list of fruits and prints each fruit.\n",
        "\n",
        "6. **Sum of List Elements**\n",
        "   - Write a program that calculates the sum of all elements in a list of numbers.\n",
        "\n",
        "## While Loops\n",
        "\n",
        "7. **Basic While Loop**\n",
        "   - Write a program that prints the numbers from 1 to 5 using a while loop.\n",
        "\n",
        "8. **While Loop with Condition**\n",
        "   - Write a program that asks the user for input until they enter \"stop\".\n",
        "\n",
        "9. **Sum of Digits**\n",
        "   - Write a program that calculates the sum of the digits of a given number using a while loop.\n",
        "\n",
        "## Dictionaries\n",
        "\n",
        "10. **Create and Access Dictionary**\n",
        "    - Write a program that creates a dictionary with keys \"name\", \"age\", and \"city\", and prints each value.\n",
        "\n",
        "11. **Add and Remove Dictionary Items**\n",
        "    - Write a program that adds a new key-value pair to a dictionary and then removes an existing key.\n",
        "\n",
        "12. **Iterate Through Dictionary**\n",
        "    - Write a program that iterates through a dictionary and prints each key-value pair. Note that you can fill the dictionary in the way you prefer.\n",
        "\n",
        "## Tuples\n",
        "\n",
        "13. **Basic Tuple Operations**\n",
        "    - Write a program that creates a tuple of colors and prints the first color.\n",
        "\n",
        "14. **Tuple Unpacking**\n",
        "    - Write a program that unpacks a tuple of three elements into three variables and prints them.\n",
        "\n",
        "15. **Nested Tuple Access**\n",
        "    - Write a program that creates a nested tuple and prints an element from the nested tuple. Let the user choose which element.\n",
        "\n",
        "## Lists\n",
        "\n",
        "16. **Basic List Operations**\n",
        "    - Write a program that creates a list of numbers, adds a number, and then removes a number.\n",
        "\n",
        "17. **List Slicing**\n",
        "    - Write a program that slices a list of numbers to get the first three elements and prints them.\n",
        "\n",
        "18. **List Comprehension**\n",
        "    - Write a program that creates a list of squares of numbers from 1 to 10.\n",
        "\n",
        "## File Reading/Writing\n",
        "\n",
        "19. **Write to a File**\n",
        "    - Write a program that writes the string \"Hello, world!\" to a file named `hello.txt`.\n",
        "\n",
        "20. **Read from a File**\n",
        "    - Write a program that reads the content of `hello.txt` and prints it.\n",
        "\n",
        "21. **Append to a File**\n",
        "    - Write a program that appends the string \"Rome is fun!\" to `hello.txt` and then reads and prints the content.\n",
        "\n",
        "## Combined Concepts\n",
        "\n",
        "22. **Filter Even Numbers**\n",
        "    - Write a program that filters even numbers from a list using a for loop and if statement, and stores them in a new list.\n",
        "\n",
        "23. **Count Words in File**\n",
        "    - Write a program that reads a text file and counts the number of words in the file.\n",
        "\n",
        "24. **Dictionary of Squares**\n",
        "    - Write a program that creates a dictionary where the keys are numbers from 1 to 10 and the values are their squares.\n",
        "\n",
        "\n"
      ],
      "metadata": {
        "id": "zmEj-Gn30wuG"
      }
    },
    {
      "cell_type": "code",
      "source": [],
      "metadata": {
        "id": "P9ZbxNVrJwTj"
      },
      "execution_count": null,
      "outputs": []
    }
  ]
}