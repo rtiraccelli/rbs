{
  "cells": [
    {
      "cell_type": "markdown",
      "metadata": {
        "id": "zUm12DbWehtl"
      },
      "source": [
        "# Lesson 1: Introduction to Python\n",
        "## **Installation and Setup**\n",
        "### _On Google Colab, Python is already installed. Let's start with a simple print statement to verify everything is working._\n"
      ]
    },
    {
      "cell_type": "code",
      "execution_count": 5,
      "metadata": {
        "id": "s3dF7xILep_1"
      },
      "outputs": [
        {
          "name": "stdout",
          "output_type": "stream",
          "text": [
            "Hello, welcome to your first Python lesson!\n",
            "Hello, my name is Roberto\n"
          ]
        }
      ],
      "source": [
        "print(\"Hello, welcome to your first Python lesson!\")\n",
        "print(\"Hello, my name is Roberto\")"
      ]
    },
    {
      "cell_type": "markdown",
      "metadata": {
        "id": "M1sHoMQsaSyh"
      },
      "source": [
        "## **Basic Syntax: Variables, Data Types, Arithmetic Operations**\n"
      ]
    },
    {
      "cell_type": "markdown",
      "metadata": {
        "id": "7F3VOrcRgy4O"
      },
      "source": [
        "## Variables and Data Types\n"
      ]
    },
    {
      "cell_type": "code",
      "execution_count": 6,
      "metadata": {
        "id": "_47udHyKhBh0"
      },
      "outputs": [
        {
          "data": {
            "text/plain": [
              "10"
            ]
          },
          "execution_count": 6,
          "metadata": {},
          "output_type": "execute_result"
        }
      ],
      "source": [
        "x = 10 #int\n",
        "x"
      ]
    },
    {
      "cell_type": "code",
      "execution_count": 7,
      "metadata": {
        "id": "kjhLb-IRhVkk"
      },
      "outputs": [
        {
          "name": "stdout",
          "output_type": "stream",
          "text": [
            "3.14\n"
          ]
        }
      ],
      "source": [
        "y = 3.14 #float\n",
        "print(y)"
      ]
    },
    {
      "cell_type": "code",
      "execution_count": 8,
      "metadata": {
        "id": "Hup6SAEShYuK"
      },
      "outputs": [
        {
          "data": {
            "text/plain": [
              "'3.14'"
            ]
          },
          "execution_count": 8,
          "metadata": {},
          "output_type": "execute_result"
        }
      ],
      "source": [
        "name = \"3.14\" #character, string\n",
        "name"
      ]
    },
    {
      "cell_type": "code",
      "execution_count": 9,
      "metadata": {
        "id": "kKpZXOEQhbDO"
      },
      "outputs": [
        {
          "data": {
            "text/plain": [
              "False"
            ]
          },
          "execution_count": 9,
          "metadata": {},
          "output_type": "execute_result"
        }
      ],
      "source": [
        "is_student = False\n",
        "is_student"
      ]
    },
    {
      "cell_type": "code",
      "execution_count": 11,
      "metadata": {
        "id": "x0A54KFnhnPK"
      },
      "outputs": [
        {
          "data": {
            "text/plain": [
              "10.375"
            ]
          },
          "execution_count": 11,
          "metadata": {},
          "output_type": "execute_result"
        }
      ],
      "source": [
        "type(x)\n",
        "\n",
        "3+4+5.4*5/8"
      ]
    },
    {
      "cell_type": "code",
      "execution_count": 12,
      "metadata": {
        "id": "6HZhhP7rhoOj"
      },
      "outputs": [
        {
          "data": {
            "text/plain": [
              "float"
            ]
          },
          "execution_count": 12,
          "metadata": {},
          "output_type": "execute_result"
        }
      ],
      "source": [
        "type(y) #float number has 15 to 17 digit"
      ]
    },
    {
      "cell_type": "code",
      "execution_count": 13,
      "metadata": {
        "id": "WECzrsqTm4sw"
      },
      "outputs": [
        {
          "data": {
            "text/plain": [
              "'3.14'"
            ]
          },
          "execution_count": 13,
          "metadata": {},
          "output_type": "execute_result"
        }
      ],
      "source": [
        "type(name)\n",
        "name"
      ]
    },
    {
      "cell_type": "code",
      "execution_count": 14,
      "metadata": {
        "id": "CXrTHXmGhd2v"
      },
      "outputs": [
        {
          "name": "stdout",
          "output_type": "stream",
          "text": [
            "10 <class 'int'>\n",
            "3.14 <class 'float'>\n",
            "3.14 <class 'str'>\n",
            "False <class 'bool'>\n"
          ]
        }
      ],
      "source": [
        "print(x, type(x))\n",
        "print(y, type(y))\n",
        "print(name, type(name))\n",
        "print(is_student, type(is_student))\n"
      ]
    },
    {
      "cell_type": "code",
      "execution_count": null,
      "metadata": {
        "id": "BPjsuCtcWLpY"
      },
      "outputs": [],
      "source": [
        "3+4+a"
      ]
    },
    {
      "cell_type": "markdown",
      "metadata": {
        "id": "YsBSnMY2m8Y-"
      },
      "source": [
        "## **Arithmetic Operations**"
      ]
    },
    {
      "cell_type": "code",
      "execution_count": 15,
      "metadata": {
        "id": "jsTWzu19ow_k"
      },
      "outputs": [
        {
          "name": "stdout",
          "output_type": "stream",
          "text": [
            "Addition: 17\n",
            "Subtraction: 7\n",
            "Multiplication: 60\n",
            "Division: 2.4\n",
            "Integer Division: 2\n",
            "Exponentiation: 248832\n",
            "Module: 2\n"
          ]
        }
      ],
      "source": [
        "a = 12\n",
        "b = 5\n",
        "\n",
        "print(\"Addition:\", a + b)\n",
        "print(\"Subtraction:\", a - b)\n",
        "print(\"Multiplication:\", a * b)\n",
        "print(\"Division:\", a / b)\n",
        "print(\"Integer Division:\", a // b)\n",
        "print(\"Exponentiation:\", a ** b)\n",
        "print(\"Module:\", 12 % b)\n",
        "\n"
      ]
    },
    {
      "cell_type": "markdown",
      "metadata": {
        "id": "orKWzUWMnGOK"
      },
      "source": [
        "## Control Structures: Conditionals\n"
      ]
    },
    {
      "cell_type": "code",
      "execution_count": 22,
      "metadata": {
        "id": "PArd20y5oHh4"
      },
      "outputs": [
        {
          "name": "stdout",
          "output_type": "stream",
          "text": [
            "a is greater than b\n",
            "Bruno is the oldest\n"
          ]
        }
      ],
      "source": [
        "a = 10\n",
        "b = 5\n",
        "\n",
        "# Conditionals\n",
        "\n",
        "\n",
        "if a > b:\n",
        "    print(\"a is greater than b\")\n",
        "elif a == b: #else if\n",
        "    print(\"a is equal to b\")\n",
        "else:\n",
        "    print(\"a is less than b\")\n",
        "\n",
        "\n",
        "Roberto = 51\n",
        "Daniel = 51\n",
        "Bruno = 51\n",
        "\n",
        "if Roberto > Daniel and Roberto > Bruno:\n",
        "    print(\"Roberto is the oldest\")\n",
        "elif Daniel > Roberto and Daniel > Bruno:\n",
        "    print(\"Daniel is the oldest\")\n",
        "else:\n",
        "    print(\"Bruno is the oldest\")\n",
        "\n"
      ]
    },
    {
      "cell_type": "code",
      "execution_count": 38,
      "metadata": {
        "id": "gjzrrNZKoQKo"
      },
      "outputs": [
        {
          "name": "stdout",
          "output_type": "stream",
          "text": [
            "a is not positive\n"
          ]
        }
      ],
      "source": [
        "a = -5\n",
        "b = 5\n",
        "\n",
        "# Nested Conditionals\n",
        "if a > 0:\n",
        "    if a > b:\n",
        "        print(\"a is positive and greater than b\")\n",
        "    else:\n",
        "        print(\"a is positive but not greater than b\")\n",
        "else:\n",
        "    print(\"a is not positive\")\n",
        "\n",
        "\n",
        "Roberto = 53\n",
        "Daniel = 53\n",
        "Bruno = 58\n",
        "\n",
        "if Roberto > Daniel:\n",
        "    if Roberto > Bruno:\n",
        "        print(\"Roberto is the oldest\")\n",
        "elif Daniel > Roberto:\n",
        "    if Daniel > Bruno:\n",
        "        print(\"Daniel is the oldest\")\n",
        "    else:\n",
        "        print(\"Bruno is the oldest\")\n"
      ]
    },
    {
      "cell_type": "markdown",
      "metadata": {
        "id": "jmV6bUS6ofe_"
      },
      "source": [
        "## **Loops**\n"
      ]
    },
    {
      "cell_type": "code",
      "execution_count": null,
      "metadata": {
        "id": "-xryRkVJYfqZ"
      },
      "outputs": [],
      "source": [
        "range(5)"
      ]
    },
    {
      "cell_type": "code",
      "execution_count": 41,
      "metadata": {
        "id": "DiJfFmw4p8Tg"
      },
      "outputs": [
        {
          "name": "stdout",
          "output_type": "stream",
          "text": [
            "Sum of first 100 even numbers: 2450\n"
          ]
        }
      ],
      "source": [
        "# For Loop\n",
        "#for i in range(5):\n",
        "#    print(\"For Loop, Iteration:\", i)\n",
        "\n",
        "sum_of_even = 0\n",
        "\n",
        "\n",
        "for i in range(0, 100, 2):\n",
        "    sum_of_even += i\n",
        "\n",
        "print(\"Sum of first 100 even numbers:\", sum_of_even)\n",
        "    "
      ]
    },
    {
      "cell_type": "code",
      "execution_count": 1,
      "metadata": {
        "id": "Pae2ReqnqFJD"
      },
      "outputs": [
        {
          "name": "stdout",
          "output_type": "stream",
          "text": [
            "While Loop, Count: 0\n",
            "While Loop, Count: 1\n",
            "While Loop, Count: 2\n",
            "While Loop, Count: 3\n",
            "While Loop, Count: 4\n"
          ]
        }
      ],
      "source": [
        "# While Loop\n",
        "count = 0 # in a while loop you could need a counter, a variable that is possible to increment in every step of the loop\n",
        "while count < 5:\n",
        "    print(\"While Loop, Count:\", count)\n",
        "    count += 1\n",
        "    #count = count + 1\n"
      ]
    },
    {
      "cell_type": "code",
      "execution_count": 3,
      "metadata": {
        "id": "yxRXxVI_qKvE"
      },
      "outputs": [
        {
          "name": "stdout",
          "output_type": "stream",
          "text": [
            "Prime numbers between 2 and 20:\n",
            "2\n",
            "3\n",
            "5\n",
            "7\n",
            "11\n",
            "13\n",
            "17\n",
            "19\n"
          ]
        }
      ],
      "source": [
        "# More Complex Loop Example\n",
        "# Printing prime numbers between 2 and 20\n",
        "print(\"Prime numbers between 2 and 20:\")\n",
        "for num in range(2, 21):\n",
        "    is_prime = True\n",
        "    for i in range(2, num):\n",
        "        if num % i == 0:\n",
        "            is_prime = False\n",
        "            break\n",
        "    if is_prime:\n",
        "        print(num)"
      ]
    },
    {
      "cell_type": "code",
      "execution_count": 2,
      "metadata": {
        "id": "bpNWaCAtaYwY"
      },
      "outputs": [
        {
          "name": "stdout",
          "output_type": "stream",
          "text": [
            "2\n"
          ]
        }
      ],
      "source": [
        "num = 10\n",
        "is_prime = True\n",
        "for i in range(2, num):\n",
        "  print(i)\n",
        "  if num % i == 0:\n",
        "      is_prime = False\n",
        "      break\n",
        "if is_prime == True:\n",
        "    print(num)"
      ]
    },
    {
      "cell_type": "markdown",
      "metadata": {
        "id": "gxDrGSKG10H8"
      },
      "source": [
        "## Input"
      ]
    },
    {
      "cell_type": "code",
      "execution_count": null,
      "metadata": {
        "id": "w3-7gEe-1w9P"
      },
      "outputs": [
        {
          "name": "stdout",
          "output_type": "stream",
          "text": [
            "Hello, Roberto!\n",
            "the sum of the two numbers is: 3\n"
          ]
        }
      ],
      "source": [
        "name = input(\"Enter your name: \")\n",
        "print(\"Hello, \" + name + \"!\")\n",
        "\n",
        "a = int(input(\"enter the first number\"))\n",
        "b = int(input(\"enter the second number\"))\n",
        "\n",
        "print(\"the sum of the two numbers is: \", a+b)"
      ]
    },
    {
      "cell_type": "markdown",
      "metadata": {
        "id": "r4mDF2cXomhC"
      },
      "source": [
        "\n",
        "## Functions in Python\n"
      ]
    },
    {
      "cell_type": "code",
      "execution_count": 4,
      "metadata": {
        "id": "TuvPjeHeooNl"
      },
      "outputs": [],
      "source": [
        "# Defining a Function\n",
        "def greet(person_name):\n",
        "    return f\"Hello, {person_name}!\"\n"
      ]
    },
    {
      "cell_type": "code",
      "execution_count": 6,
      "metadata": {
        "id": "8R3sDu4iuErA"
      },
      "outputs": [
        {
          "data": {
            "text/plain": [
              "'Hello, Roberto Francisco!'"
            ]
          },
          "execution_count": 6,
          "metadata": {},
          "output_type": "execute_result"
        }
      ],
      "source": [
        "# Calling a Function\n",
        "name = \"Roberto Francisco\"\n",
        "greet(name)"
      ]
    },
    {
      "cell_type": "code",
      "execution_count": 7,
      "metadata": {
        "id": "YpNprr3muG_T"
      },
      "outputs": [],
      "source": [
        "# Function with Multiple Parameters\n",
        "def add(a, b):\n",
        "  sum = a + b\n",
        "  return sum"
      ]
    },
    {
      "cell_type": "code",
      "execution_count": 8,
      "metadata": {
        "id": "wiFv_bAcuJXH"
      },
      "outputs": [
        {
          "name": "stdout",
          "output_type": "stream",
          "text": [
            "Sum of 10 and 5 is: 15\n"
          ]
        }
      ],
      "source": [
        "# Calling the Function\n",
        "print(\"Sum of 10 and 5 is:\", add(10, 5))"
      ]
    },
    {
      "cell_type": "code",
      "execution_count": 9,
      "metadata": {
        "id": "sohVsbQAuLcj"
      },
      "outputs": [],
      "source": [
        "# Function with Default Parameter\n",
        "def power(base, exponent=2):\n",
        "    return base ** exponent"
      ]
    },
    {
      "cell_type": "code",
      "execution_count": 10,
      "metadata": {
        "id": "bQdiAakhuM5B"
      },
      "outputs": [
        {
          "name": "stdout",
          "output_type": "stream",
          "text": [
            "2 to the power of 3 is: 8\n",
            "3 squared is: 9\n"
          ]
        }
      ],
      "source": [
        "# Calling the Function with and without the default parameter\n",
        "print(\"2 to the power of 3 is:\", power(2, 3))\n",
        "print(\"3 squared is:\", power(3))\n",
        "\n"
      ]
    },
    {
      "cell_type": "code",
      "execution_count": 11,
      "metadata": {
        "id": "ER4KThaHuQ3V"
      },
      "outputs": [],
      "source": [
        "# Function with Variable Number of Arguments\n",
        "def sum_all(*args):\n",
        "    return sum(args)"
      ]
    },
    {
      "cell_type": "code",
      "execution_count": 12,
      "metadata": {
        "id": "9lh2xLvIuU3Y"
      },
      "outputs": [
        {
          "name": "stdout",
          "output_type": "stream",
          "text": [
            "Sum of 1, 2, 3, 4 is: 10\n"
          ]
        }
      ],
      "source": [
        "# Calling the Function with multiple arguments\n",
        "print(\"Sum of 1, 2, 3, 4 is:\", sum_all(1, 2, 3, 4))\n"
      ]
    },
    {
      "cell_type": "code",
      "execution_count": 13,
      "metadata": {
        "id": "Iyz0rgDCuW_R"
      },
      "outputs": [],
      "source": [
        "# More Complex Function Example\n",
        "def fibonacci(n):\n",
        "    fib_sequence = [0, 1]\n",
        "    while len(fib_sequence) < n:\n",
        "        fib_sequence.append(fib_sequence[-1] + fib_sequence[-2])\n",
        "    return fib_sequence\n"
      ]
    },
    {
      "cell_type": "code",
      "execution_count": 14,
      "metadata": {
        "id": "BZnYcSgiudI0"
      },
      "outputs": [
        {
          "name": "stdout",
          "output_type": "stream",
          "text": [
            "First 10 Fibonacci numbers: [0, 1, 1, 2, 3, 5, 8, 13, 21, 34, 55, 89, 144, 233, 377]\n"
          ]
        }
      ],
      "source": [
        "# Calling the Function to generate the first 10 Fibonacci numbers\n",
        "print(\"First 10 Fibonacci numbers:\", fibonacci(15))\n"
      ]
    },
    {
      "cell_type": "markdown",
      "metadata": {
        "id": "Oj6RGhrMuerf"
      },
      "source": [
        "## Reading and Writing Files with `open`\n"
      ]
    },
    {
      "cell_type": "code",
      "execution_count": 15,
      "metadata": {
        "id": "0Qz1RWEXuf12"
      },
      "outputs": [
        {
          "name": "stdout",
          "output_type": "stream",
          "text": [
            "File 'example.txt' created and written successfully!\n"
          ]
        }
      ],
      "source": [
        "# Creating a sample file and writing text to it\n",
        "with open('example.txt', 'w') as file:\n",
        "    file.write(\"Hello, this is a sample file.\\n\")\n",
        "    file.write(\"Python is a fantastic programming language!\")\n",
        "print(\"File 'example.txt' created and written successfully!\")"
      ]
    },
    {
      "cell_type": "code",
      "execution_count": 16,
      "metadata": {
        "id": "BBBBMQqRuzxL"
      },
      "outputs": [
        {
          "name": "stdout",
          "output_type": "stream",
          "text": [
            "File content:\n",
            "Hello, this is a sample file.\n",
            "Python is a fantastic programming language!\n"
          ]
        }
      ],
      "source": [
        "# Reading the content of the file we just created\n",
        "with open('example.txt', 'r') as file:\n",
        "    content = file.read()\n",
        "    print(\"File content:\")\n",
        "    print(content)\n"
      ]
    },
    {
      "cell_type": "code",
      "execution_count": 17,
      "metadata": {
        "id": "XY4jiWflu_8P"
      },
      "outputs": [],
      "source": [
        "# Appending more lines to the file\n",
        "with open('example.txt', 'a') as file:\n",
        "    file.write(\"\\nLet's add a new line to the file.\")\n"
      ]
    },
    {
      "cell_type": "code",
      "execution_count": 18,
      "metadata": {
        "id": "F2jb-RmAvKrE"
      },
      "outputs": [
        {
          "name": "stdout",
          "output_type": "stream",
          "text": [
            "Updated file content:\n",
            "Hello, this is a sample file.\n",
            "Python is a fantastic programming language!\n",
            "Let's add a new line to the file.\n"
          ]
        }
      ],
      "source": [
        "# Reading the content again to see the changes\n",
        "with open('example.txt', 'r') as file:\n",
        "    content = file.read()\n",
        "    print(\"Updated file content:\")\n",
        "    print(content)\n"
      ]
    },
    {
      "cell_type": "markdown",
      "metadata": {
        "id": "ghoIXxqqvNYY"
      },
      "source": [
        "# Markdown Basics\n",
        "\n",
        "#### Markdown is a lightweight markup language for creating formatted text using a plain-text editor. It is often used for writing documentation, notes, and readme files. Here are some basic elements of Markdown:\n",
        "\n",
        "## Headers\n",
        "#### You can create headers using the `#` symbol. The number of `#` symbols indicates the level of the header.\n",
        "\n",
        "# This is an H1 header\n",
        "## This is an H2 header\n",
        "### This is an H3 header\n",
        "#### This is an H4 header\n",
        "##### This is an H5 header\n",
        "\n",
        "\n",
        "# Emphasis\n",
        "## You can add emphasis using `*` or `_` for italics and `**` or `__` for bold.\n",
        "\n",
        "*This text is italicized*\n",
        "_This text is also italicized_\n",
        "\n",
        "**This text is bold**\n",
        "__This text is also bold__\n",
        "\n",
        "# Lists\n",
        "## You can create ordered and unordered lists.\n",
        "\n",
        "### Unordered List\n",
        "- Item 1\n",
        "- Item 2\n",
        "- Item 3\n",
        "\n",
        "### Ordered List\n",
        "1. First item\n",
        "2. Second item\n",
        "3. Third item\n",
        "\n",
        "# Links\n",
        "## You can add links using the following syntax:\n",
        "[Rome Business School](http://romebusinessschool.com/)\n",
        "\n",
        "# Images\n",
        "## You can add images using the following syntax:\n",
        "![Alt text](https://via.placeholder.com/150)\n"
      ]
    },
    {
      "cell_type": "markdown",
      "metadata": {
        "id": "QUqG535uyPOz"
      },
      "source": [
        "# Lists, Tuples, and Dictionaries in Python\n"
      ]
    },
    {
      "cell_type": "markdown",
      "metadata": {
        "id": "STVpKmmXv6qg"
      },
      "source": [
        "## Lists\n",
        "Lists in Python are mutable, ordered sequences of elements. They can contain elements of different data types. Lists are implemented as dynamic arrays in Python.\n"
      ]
    },
    {
      "cell_type": "code",
      "execution_count": 36,
      "metadata": {
        "colab": {
          "base_uri": "https://localhost:8080/"
        },
        "id": "9qysgJudv9tJ",
        "outputId": "88709f69-5528-4923-9ef6-e32e726a5203"
      },
      "outputs": [
        {
          "name": "stdout",
          "output_type": "stream",
          "text": [
            "List of fruits: ['apple', 'banana', 'cherry']\n",
            "Ice cream flavors: ['chocolate', 'vanilla', 'strawberry', 'Giacomo']\n"
          ]
        },
        {
          "data": {
            "text/plain": [
              "['chocolate', 'vanilla', 'strawberry', 'Giacomo']"
            ]
          },
          "execution_count": 36,
          "metadata": {},
          "output_type": "execute_result"
        }
      ],
      "source": [
        "# Creating a list\n",
        "fruits = [\"apple\", \"banana\", \"cherry\"]\n",
        "print(\"List of fruits:\", fruits)\n",
        "fruits\n",
        "\n",
        "ice_cream = [\"chocolate\", \"vanilla\", \"strawberry\", \"Giacomo\"]\n",
        "print(\"Ice cream flavors:\", ice_cream)\n",
        "ice_cream"
      ]
    },
    {
      "cell_type": "code",
      "execution_count": 34,
      "metadata": {
        "colab": {
          "base_uri": "https://localhost:8080/"
        },
        "id": "Tog3gDafwOiR",
        "outputId": "db18c76f-0b6c-4d29-ebca-aedf3ddd32b7"
      },
      "outputs": [
        {
          "name": "stdout",
          "output_type": "stream",
          "text": [
            "First fruit: ['apple', 'banana', 'cherry']\n"
          ]
        },
        {
          "data": {
            "text/plain": [
              "3"
            ]
          },
          "execution_count": 34,
          "metadata": {},
          "output_type": "execute_result"
        }
      ],
      "source": [
        "# Accessing elements\n",
        "print(\"First fruit:\", fruits[0:3])\n",
        "len(fruits)"
      ]
    },
    {
      "cell_type": "code",
      "execution_count": 37,
      "metadata": {
        "colab": {
          "base_uri": "https://localhost:8080/"
        },
        "id": "PQsNpu--wP5C",
        "outputId": "8a113932-8c1a-494c-b828-737d8108bebe"
      },
      "outputs": [
        {
          "name": "stdout",
          "output_type": "stream",
          "text": [
            "After adding an element: ['apple', 'banana', 'cherry', [1, 'apple', 3.14, True]]\n"
          ]
        }
      ],
      "source": [
        "# Adding an element\n",
        "mixed_list = [1, \"apple\", 3.14, True]\n",
        "\n",
        "fruits.append(mixed_list)\n",
        "print(\"After adding an element:\", fruits)\n"
      ]
    },
    {
      "cell_type": "code",
      "execution_count": 38,
      "metadata": {
        "colab": {
          "base_uri": "https://localhost:8080/"
        },
        "id": "cZug5MhXwQ9Q",
        "outputId": "d0159649-a266-48f1-819a-4d254eec5006"
      },
      "outputs": [
        {
          "name": "stdout",
          "output_type": "stream",
          "text": [
            "After removing an element: ['apple', 'banana', 'cherry']\n"
          ]
        }
      ],
      "source": [
        "# Removing an element\n",
        "fruits.remove(mixed_list)\n",
        "print(\"After removing an element:\", fruits)\n"
      ]
    },
    {
      "cell_type": "code",
      "execution_count": 39,
      "metadata": {
        "id": "lNF_XCIZrf70"
      },
      "outputs": [],
      "source": [
        "for i in range(15):\n",
        "  fruits.append(i)"
      ]
    },
    {
      "cell_type": "code",
      "execution_count": 40,
      "metadata": {
        "colab": {
          "base_uri": "https://localhost:8080/"
        },
        "id": "v6Hpparnrxis",
        "outputId": "dad922e7-3231-4607-9770-2f76fa1e5f42"
      },
      "outputs": [
        {
          "data": {
            "text/plain": [
              "['apple', 'banana', 'cherry', 0, 1, 2, 3, 4, 5, 6, 7, 8, 9, 10, 11, 12, 13, 14]"
            ]
          },
          "execution_count": 40,
          "metadata": {},
          "output_type": "execute_result"
        }
      ],
      "source": [
        "fruits"
      ]
    },
    {
      "cell_type": "code",
      "execution_count": null,
      "metadata": {
        "colab": {
          "base_uri": "https://localhost:8080/"
        },
        "id": "2n0ZHorrr5fS",
        "outputId": "10cc5b09-5c5c-4339-e715-b85b2dbfe2ab"
      },
      "outputs": [
        {
          "data": {
            "text/plain": [
              "['banana', 1, 4, 7, 10, 13]"
            ]
          },
          "execution_count": 18,
          "metadata": {},
          "output_type": "execute_result"
        }
      ],
      "source": [
        "fruits[1:17:3]"
      ]
    },
    {
      "cell_type": "code",
      "execution_count": 49,
      "metadata": {
        "colab": {
          "base_uri": "https://localhost:8080/"
        },
        "id": "6bzrruoDtYLW",
        "outputId": "9eb760ea-ec7e-4805-d3dd-35169fb5941e"
      },
      "outputs": [
        {
          "data": {
            "text/plain": [
              "[0,\n",
              " 1,\n",
              " 2,\n",
              " 3,\n",
              " 4,\n",
              " 5,\n",
              " 6,\n",
              " 7,\n",
              " 8,\n",
              " 9,\n",
              " 10,\n",
              " 11,\n",
              " 12,\n",
              " 13,\n",
              " 14,\n",
              " 15,\n",
              " 16,\n",
              " 17,\n",
              " 18,\n",
              " 19,\n",
              " 20,\n",
              " 21,\n",
              " 22,\n",
              " 23,\n",
              " 24,\n",
              " 25,\n",
              " 26,\n",
              " 27,\n",
              " 28,\n",
              " 29,\n",
              " 30,\n",
              " 31,\n",
              " 32,\n",
              " 33,\n",
              " 34,\n",
              " 35,\n",
              " 36,\n",
              " 37,\n",
              " 38,\n",
              " 39,\n",
              " 40,\n",
              " 41,\n",
              " 42,\n",
              " 43,\n",
              " 44,\n",
              " 45,\n",
              " 46,\n",
              " 47,\n",
              " 48,\n",
              " 49,\n",
              " 50]"
            ]
          },
          "execution_count": 49,
          "metadata": {},
          "output_type": "execute_result"
        }
      ],
      "source": [
        "my_list = []\n",
        "for i in range(26):\n",
        "  my_list.append(i)\n",
        "\n",
        "my_list[0:26:5]\n",
        "\n",
        "my_other_list = []\n",
        "for i in range(51):\n",
        "  my_other_list.append(i)\n",
        "\n",
        "my_other_list[0:51]"
      ]
    },
    {
      "cell_type": "code",
      "execution_count": null,
      "metadata": {
        "colab": {
          "base_uri": "https://localhost:8080/"
        },
        "id": "2B0If47MwSuk",
        "outputId": "ccfe6899-6cba-4ee7-88da-7ad60f4268e0"
      },
      "outputs": [
        {
          "name": "stdout",
          "output_type": "stream",
          "text": [
            "Sliced list (first two elements): ['apple', 'banana']\n"
          ]
        },
        {
          "data": {
            "text/plain": [
              "['apple', 'banana', 'cherry']"
            ]
          },
          "execution_count": 10,
          "metadata": {},
          "output_type": "execute_result"
        }
      ],
      "source": [
        "# Slicing a list\n",
        "\n",
        "print(\"Sliced list (first two elements):\", fruits[:2])\n",
        "fruits"
      ]
    },
    {
      "cell_type": "code",
      "execution_count": 50,
      "metadata": {
        "id": "SxdQA-FrwXi-"
      },
      "outputs": [
        {
          "name": "stdout",
          "output_type": "stream",
          "text": [
            "Mixed list: [1, 'apple', 3.14, True]\n"
          ]
        }
      ],
      "source": [
        "# List of mixed data types\n",
        "mixed_list = [1, \"apple\", 3.14, True]\n",
        "print(\"Mixed list:\", mixed_list)\n"
      ]
    },
    {
      "cell_type": "code",
      "execution_count": 51,
      "metadata": {
        "id": "hVhtKw14wh66"
      },
      "outputs": [
        {
          "name": "stdout",
          "output_type": "stream",
          "text": [
            "Nested list: [[1, 2, 3], ['a', 'b', 'c'], [True, False]]\n"
          ]
        }
      ],
      "source": [
        "# Nested lists\n",
        "nested_list = [[1, 2, 3], [\"a\", \"b\", \"c\"], [True, False]]\n",
        "print(\"Nested list:\", nested_list)"
      ]
    },
    {
      "cell_type": "code",
      "execution_count": 52,
      "metadata": {
        "colab": {
          "base_uri": "https://localhost:8080/"
        },
        "id": "ET-JeAENt59J",
        "outputId": "89591428-0f8c-409e-eb0d-1d1b8583444b"
      },
      "outputs": [
        {
          "data": {
            "text/plain": [
              "['pippo',\n",
              " 1,\n",
              " 2,\n",
              " 3,\n",
              " 4,\n",
              " 5,\n",
              " 6,\n",
              " 7,\n",
              " 8,\n",
              " 9,\n",
              " 10,\n",
              " 11,\n",
              " 12,\n",
              " 13,\n",
              " 14,\n",
              " 15,\n",
              " 16,\n",
              " 17,\n",
              " 18,\n",
              " 19,\n",
              " 20,\n",
              " 21,\n",
              " 22,\n",
              " 23,\n",
              " 24,\n",
              " 25]"
            ]
          },
          "execution_count": 52,
          "metadata": {},
          "output_type": "execute_result"
        }
      ],
      "source": [
        "my_list[0]= \"pippo\"\n",
        "my_list"
      ]
    },
    {
      "cell_type": "markdown",
      "metadata": {
        "id": "T7qGTbbXw2NL"
      },
      "source": [
        "### Lists\n",
        " - Mutable: Lists can be modified after creation (e.g., adding, removing, or changing elements).\n",
        " - Ordered: Elements in a list have a defined order, and you can access elements by their index.\n",
        " - Underlying Implementation: Lists are implemented as dynamic arrays, meaning they can grow or shrink in size as needed."
      ]
    },
    {
      "cell_type": "markdown",
      "metadata": {
        "id": "DuPWgX5kwc6F"
      },
      "source": [
        "# Tuples\n",
        "Tuples in Python are immutable, ordered sequences of elements. They are similar to lists but cannot be modified after creation. Tuples are implemented as arrays with fixed size.\n"
      ]
    },
    {
      "cell_type": "code",
      "execution_count": 53,
      "metadata": {
        "colab": {
          "base_uri": "https://localhost:8080/"
        },
        "id": "PVPuX5AWwvUL",
        "outputId": "792d7ccb-558d-48fe-d584-2e7ceb16f34e"
      },
      "outputs": [
        {
          "name": "stdout",
          "output_type": "stream",
          "text": [
            "Tuple of colors: ('red', 'green', 'blue')\n"
          ]
        },
        {
          "data": {
            "text/plain": [
              "('red', 'green', 'blue')"
            ]
          },
          "execution_count": 53,
          "metadata": {},
          "output_type": "execute_result"
        }
      ],
      "source": [
        "# Creating a tuple\n",
        "colors = (\"red\", \"green\", \"blue\")\n",
        "print(\"Tuple of colors:\", colors)\n",
        "colors"
      ]
    },
    {
      "cell_type": "code",
      "execution_count": 54,
      "metadata": {
        "colab": {
          "base_uri": "https://localhost:8080/"
        },
        "id": "aH0c7qXGx2MH",
        "outputId": "1af60a5f-2016-42d2-f53a-495fa44df867"
      },
      "outputs": [
        {
          "name": "stdout",
          "output_type": "stream",
          "text": [
            "First color: red\n"
          ]
        }
      ],
      "source": [
        "# Accessing elements\n",
        "print(\"First color:\", colors[0])\n"
      ]
    },
    {
      "cell_type": "code",
      "execution_count": 55,
      "metadata": {
        "colab": {
          "base_uri": "https://localhost:8080/",
          "height": 159
        },
        "id": "TvdzCF_Ix3YK",
        "outputId": "8fbf378b-4570-4449-ee8b-d1a02f6e5bff"
      },
      "outputs": [
        {
          "ename": "TypeError",
          "evalue": "'tuple' object does not support item assignment",
          "output_type": "error",
          "traceback": [
            "\u001b[31m---------------------------------------------------------------------------\u001b[39m",
            "\u001b[31mTypeError\u001b[39m                                 Traceback (most recent call last)",
            "\u001b[36mCell\u001b[39m\u001b[36m \u001b[39m\u001b[32mIn[55]\u001b[39m\u001b[32m, line 2\u001b[39m\n\u001b[32m      1\u001b[39m \u001b[38;5;66;03m# Tuples are immutable; trying to modify them will raise an error\u001b[39;00m\n\u001b[32m----> \u001b[39m\u001b[32m2\u001b[39m \u001b[43mcolors\u001b[49m\u001b[43m[\u001b[49m\u001b[32;43m0\u001b[39;49m\u001b[43m]\u001b[49m = \u001b[33m\"\u001b[39m\u001b[33myellow\u001b[39m\u001b[33m\"\u001b[39m  \u001b[38;5;66;03m# Uncommenting this line will raise a TypeError\u001b[39;00m\n",
            "\u001b[31mTypeError\u001b[39m: 'tuple' object does not support item assignment"
          ]
        }
      ],
      "source": [
        "# Tuples are immutable; trying to modify them will raise an error\n",
        "colors[0] = \"yellow\"  # Uncommenting this line will raise a TypeError\n"
      ]
    },
    {
      "cell_type": "code",
      "execution_count": 56,
      "metadata": {
        "id": "LDr93-Gjx5XA"
      },
      "outputs": [
        {
          "name": "stdout",
          "output_type": "stream",
          "text": [
            "Sliced tuple (first two elements): ('red', 'green')\n"
          ]
        }
      ],
      "source": [
        "# Slicing a tuple\n",
        "print(\"Sliced tuple (first two elements):\", colors[:2])\n"
      ]
    },
    {
      "cell_type": "code",
      "execution_count": 57,
      "metadata": {
        "id": "npD8-bW6x9T5"
      },
      "outputs": [
        {
          "name": "stdout",
          "output_type": "stream",
          "text": [
            "Mixed tuple: (1, 'apple', 3.14, True)\n"
          ]
        }
      ],
      "source": [
        "# Tuple of mixed data types\n",
        "mixed_tuple = (1, \"apple\", 3.14, True)\n",
        "print(\"Mixed tuple:\", mixed_tuple)\n"
      ]
    },
    {
      "cell_type": "code",
      "execution_count": 58,
      "metadata": {
        "colab": {
          "base_uri": "https://localhost:8080/"
        },
        "id": "BEEZeP9hx_XI",
        "outputId": "9f73101e-f834-4ebe-f9bf-7ccc42604904"
      },
      "outputs": [
        {
          "name": "stdout",
          "output_type": "stream",
          "text": [
            "Nested tuple: ((1, 2, 3), ('a', 'b', 'c'), (True, False))\n",
            "(1, 2, 3) ('a', 'b', 'c') (True, False)\n"
          ]
        }
      ],
      "source": [
        "# Nested tuples\n",
        "nested_tuple = ((1, 2, 3), (\"a\", \"b\", \"c\"), (True, False))\n",
        "print(\"Nested tuple:\", nested_tuple)\n",
        "\n",
        "numbers, letters, booleans = nested_tuple\n",
        "print(numbers, letters, booleans)"
      ]
    },
    {
      "cell_type": "code",
      "execution_count": 59,
      "metadata": {
        "id": "6rUaSe-6yBWj"
      },
      "outputs": [
        {
          "name": "stdout",
          "output_type": "stream",
          "text": [
            "Unpacked values: 1 2 3\n"
          ]
        }
      ],
      "source": [
        "# Tuple unpacking\n",
        "a, b, c = (1, 2, 3)\n",
        "print(\"Unpacked values:\", a, b, c)"
      ]
    },
    {
      "cell_type": "code",
      "execution_count": 60,
      "metadata": {
        "id": "oY9Gkahqwuri"
      },
      "outputs": [],
      "source": [
        "list_1 = []\n",
        "for i in range(20):\n",
        "  list_1.append(i)\n",
        "tuple_1 = tuple(list_1)"
      ]
    },
    {
      "cell_type": "code",
      "execution_count": 61,
      "metadata": {
        "colab": {
          "base_uri": "https://localhost:8080/"
        },
        "id": "SR6GujI2xF2P",
        "outputId": "3845f8ec-43f4-48d3-c2db-b8645265a62e"
      },
      "outputs": [
        {
          "data": {
            "text/plain": [
              "(0, 1, 2, 3, 4, 5, 6, 7, 8, 9, 10, 11, 12, 13, 14, 15, 16, 17, 18, 19)"
            ]
          },
          "execution_count": 61,
          "metadata": {},
          "output_type": "execute_result"
        }
      ],
      "source": [
        "tuple_1"
      ]
    },
    {
      "cell_type": "markdown",
      "metadata": {
        "id": "8MHqyJr53pi-"
      },
      "source": [
        "#### How can we modify a tuple?\n",
        "Concatenating Tuples"
      ]
    },
    {
      "cell_type": "code",
      "execution_count": 62,
      "metadata": {
        "colab": {
          "base_uri": "https://localhost:8080/"
        },
        "id": "yLqU5pPn3ws7",
        "outputId": "84e4984a-414d-427e-cb85-13dded6642d2"
      },
      "outputs": [
        {
          "name": "stdout",
          "output_type": "stream",
          "text": [
            "Original tuple: (1, 2, 3)\n",
            "New tuple: (1, 2, 3, 4, 5)\n"
          ]
        }
      ],
      "source": [
        "# Original tuple\n",
        "original_tuple = (1, 2, 3)\n",
        "print(\"Original tuple:\", original_tuple)\n",
        "\n",
        "# New tuple with elements to add\n",
        "new_elements = (4, 5)\n",
        "\n",
        "# Concatenate the tuples to create a new tuple\n",
        "new_tuple = original_tuple + new_elements\n",
        "print(\"New tuple:\", new_tuple)"
      ]
    },
    {
      "cell_type": "code",
      "execution_count": 63,
      "metadata": {
        "colab": {
          "base_uri": "https://localhost:8080/"
        },
        "id": "oaeAc0jWxVnd",
        "outputId": "dad8ec74-076a-4019-9aeb-174c9c875448"
      },
      "outputs": [
        {
          "name": "stdout",
          "output_type": "stream",
          "text": [
            "Original tuple: (0, 1)\n",
            "<class 'tuple'>\n",
            "2\n",
            "3\n",
            "4\n",
            "5\n",
            "6\n",
            "7\n",
            "8\n",
            "9\n"
          ]
        },
        {
          "data": {
            "text/plain": [
              "(0, 1, 2, 3, 4, 5, 6, 7, 8, 9)"
            ]
          },
          "execution_count": 63,
          "metadata": {},
          "output_type": "execute_result"
        }
      ],
      "source": [
        "original_tuple2 = (0, 1)\n",
        "print(\"Original tuple:\", original_tuple2)\n",
        "print(type(original_tuple2))\n",
        "\n",
        "for i in range(2,10):\n",
        "  print(i)\n",
        "  original_tuple2 = original_tuple2 + (i, )\n",
        "\n",
        "original_tuple2"
      ]
    },
    {
      "cell_type": "markdown",
      "metadata": {
        "id": "uwwhHcEt4E-u"
      },
      "source": [
        "Converting to a List, Modifying, and Converting Back to a Tuple\n"
      ]
    },
    {
      "cell_type": "code",
      "execution_count": 64,
      "metadata": {
        "id": "-uPjPsKv4JRe"
      },
      "outputs": [
        {
          "name": "stdout",
          "output_type": "stream",
          "text": [
            "Original tuple: (1, 2, 3)\n",
            "New tuple: (1, 2, 3, 4, 5)\n"
          ]
        }
      ],
      "source": [
        "# Original tuple\n",
        "original_tuple = (1, 2, 3)\n",
        "print(\"Original tuple:\", original_tuple)\n",
        "\n",
        "# Convert tuple to list\n",
        "temp_list = list(original_tuple)\n",
        "\n",
        "# Add elements to the list\n",
        "temp_list.append(4)\n",
        "temp_list.append(5)\n",
        "\n",
        "# Convert list back to tuple\n",
        "new_tuple = tuple(temp_list)\n",
        "print(\"New tuple:\", new_tuple)"
      ]
    },
    {
      "cell_type": "markdown",
      "metadata": {
        "id": "y0q5X7d7yE9k"
      },
      "source": [
        "### Tuples\n",
        " - Immutable: Tuples cannot be modified after creation. This immutability makes them suitable for use as keys in dictionaries.\n",
        " - Ordered: Elements in a tuple have a defined order, and you can access elements by their index.\n",
        " - Underlying Implementation: Tuples are implemented as fixed-size arrays, providing faster access times compared to lists due to their immutability."
      ]
    },
    {
      "cell_type": "markdown",
      "metadata": {
        "id": "yU7MRe7fyLLr"
      },
      "source": [
        "# Dictionaries\n",
        "Dictionaries in Python are mutable, unordered collections of key-value pairs. They are implemented as hash tables. Keys must be immutable types (e.g., strings, numbers, tuples).\n"
      ]
    },
    {
      "cell_type": "code",
      "execution_count": 65,
      "metadata": {
        "colab": {
          "base_uri": "https://localhost:8080/"
        },
        "id": "c4nBMW5yyeZS",
        "outputId": "07bf4b4a-80dc-433c-d6d9-af442af09390"
      },
      "outputs": [
        {
          "name": "stdout",
          "output_type": "stream",
          "text": [
            "Dictionary: {'name': 'Alice', 'age': 25, 'city': 'New York'}\n"
          ]
        }
      ],
      "source": [
        "# Creating a dictionary\n",
        "person = {\"name\": \"Alice\", \"age\": 25, \"city\": \"New York\"}\n",
        "print(\"Dictionary:\", person)\n"
      ]
    },
    {
      "cell_type": "code",
      "execution_count": 66,
      "metadata": {
        "id": "uW3llxAJytQw"
      },
      "outputs": [
        {
          "name": "stdout",
          "output_type": "stream",
          "text": [
            "age: 25\n"
          ]
        }
      ],
      "source": [
        "# Accessing values\n",
        "print(\"age:\", person[\"age\"])\n"
      ]
    },
    {
      "cell_type": "code",
      "execution_count": 70,
      "metadata": {
        "colab": {
          "base_uri": "https://localhost:8080/"
        },
        "id": "H7WpDCAG1YrN",
        "outputId": "7613be0c-3484-4475-9801-1ec45c26256a"
      },
      "outputs": [
        {
          "name": "stdout",
          "output_type": "stream",
          "text": [
            "Harry Potter books:\n",
            "Title: Harry Potter and the Philosopher's Stone, Pages: 300, Editor: Salani, Author: J.K. Rowling\n",
            "Title: Harry Potter and the Chamber of Secrets, Pages: 350, Editor: Salani, Author: J.K. Rowling\n",
            "Title: Harry Potter and the Prisoner of Azkaban, Pages: 400, Editor: Salani, Author: J.K. Rowling\n",
            "Title: Harry Potter and the Goblet of Fire, Pages: 450, Editor: Salani, Author: J.K. Rowling\n",
            "Title: Harry Potter and the Order of the Phoenix, Pages: 500, Editor: Salani, Author: J.K. Rowling\n",
            "Title: Harry Potter and the Half-Blood Prince, Pages: 550, Editor: Salani, Author: J.K. Rowling\n",
            "Title: Harry Potter and the Deathly Hallows, Pages: 600, Editor: Salani, Author: J.K. Rowling\n"
          ]
        }
      ],
      "source": [
        "book = {\"title\":\"Harry Potter\", \"n. of pages\": 300, \"editor\": \"Salani\"}\n",
        "book[\"n. of pages\"] = 350\n",
        "book[\"author\"]= \"J.K. Rowling\"\n",
        "book\n",
        "\n",
        "hp_book = [{\"title\" : \"Harry Potter and the Philosopher's Stone\", \"n. of pages\": 300, \"editor\": \"Salani\", \"author\": \"J.K. Rowling\"},\n",
        "            {\"title\" : \"Harry Potter and the Chamber of Secrets\", \"n. of pages\": 350, \"editor\": \"Salani\", \"author\": \"J.K. Rowling\"},\n",
        "            {\"title\" : \"Harry Potter and the Prisoner of Azkaban\", \"n. of pages\": 400, \"editor\": \"Salani\", \"author\": \"J.K. Rowling\"},\n",
        "            {\"title\" : \"Harry Potter and the Goblet of Fire\", \"n. of pages\": 450, \"editor\": \"Salani\", \"author\": \"J.K. Rowling\"},\n",
        "            {\"title\" : \"Harry Potter and the Order of the Phoenix\", \"n. of pages\": 500, \"editor\": \"Salani\", \"author\": \"J.K. Rowling\"},\n",
        "            {\"title\" : \"Harry Potter and the Half-Blood Prince\", \"n. of pages\": 550, \"editor\": \"Salani\", \"author\": \"J.K. Rowling\"},\n",
        "            {\"title\" : \"Harry Potter and the Deathly Hallows\", \"n. of pages\": 600, \"editor\": \"Salani\", \"author\": \"J.K. Rowling\"}]\n",
        "\n",
        "print(\"Harry Potter books:\")\n",
        "for book2 in hp_book:\n",
        "    print(f\"Title: {book2['title']}, Pages: {book2['n. of pages']}, Editor: {book2['editor']}, Author: {book2['author']}\") "
      ]
    },
    {
      "cell_type": "code",
      "execution_count": null,
      "metadata": {
        "id": "4uHEU0flyxMT"
      },
      "outputs": [],
      "source": [
        "# Adding a new key-value pair\n",
        "person[\"email\"] = \"alice@example.com\"\n",
        "print(\"After adding email:\", person)\n"
      ]
    },
    {
      "cell_type": "code",
      "execution_count": null,
      "metadata": {
        "colab": {
          "base_uri": "https://localhost:8080/"
        },
        "id": "rHZdMv3ryye0",
        "outputId": "3f9dbd0a-f36b-402b-f0b5-55a5bedd0279"
      },
      "outputs": [
        {
          "name": "stdout",
          "output_type": "stream",
          "text": [
            "After removing age: {'name': 'Alice', 'city': 'New York'}\n"
          ]
        },
        {
          "data": {
            "text/plain": [
              "{'title': 'Harry Potter', 'n. of pages': 350, 'author': 'J.K. Rowling'}"
            ]
          },
          "execution_count": 46,
          "metadata": {},
          "output_type": "execute_result"
        }
      ],
      "source": [
        "# Removing a key-value pair\n",
        "del person[\"age\"]\n",
        "print(\"After removing age:\", person)\n",
        "del book[\"editor\"]\n",
        "book"
      ]
    },
    {
      "cell_type": "code",
      "execution_count": null,
      "metadata": {
        "colab": {
          "base_uri": "https://localhost:8080/"
        },
        "id": "b9Sqn7wdy2eL",
        "outputId": "b63b04c8-9469-4e6e-ad7c-0a62c12a9c63"
      },
      "outputs": [
        {
          "name": "stdout",
          "output_type": "stream",
          "text": [
            "Mixed dictionary: {'integer': 1, 'float': 3.14, 'string': 'hello', 'list': [1, 2, 3]}\n"
          ]
        }
      ],
      "source": [
        "# Dictionary with mixed data types\n",
        "mixed_dict = {\"integer\": 1, \"float\": 3.14, \"string\": \"hello\", \"list\": [1, 2, 3]}\n",
        "print(\"Mixed dictionary:\", mixed_dict)\n"
      ]
    },
    {
      "cell_type": "code",
      "execution_count": null,
      "metadata": {
        "id": "KhngkfLay3VP"
      },
      "outputs": [],
      "source": [
        "# Nested dictionaries\n",
        "nested_dict = {\n",
        "    \"person1\": {\"name\": \"Alice\", \"age\": 25},\n",
        "    \"person2\": {\"name\": \"Bob\", \"age\": 30}\n",
        "}\n",
        "print(\"Nested dictionary:\", nested_dict)\n"
      ]
    },
    {
      "cell_type": "code",
      "execution_count": null,
      "metadata": {
        "colab": {
          "base_uri": "https://localhost:8080/"
        },
        "id": "S8S31SZN4qv3",
        "outputId": "0868a821-7814-477a-945d-c3f3193de112"
      },
      "outputs": [
        {
          "data": {
            "text/plain": [
              "1090"
            ]
          },
          "execution_count": 52,
          "metadata": {},
          "output_type": "execute_result"
        }
      ],
      "source": [
        "# harry potter saga\n",
        "\n",
        "harry_potter = {\"harry1\" : {\"year of publication\" : 1997, \"n of pages\":300},\n",
        "                \"harry2\" : {\"year of publication\" : 1999, \"n of pages\":350},\n",
        "                \"harry3\" : {\"year of publication\" : 1999, \"n of pages\":390},\n",
        "                \"harry4\" : {\"year of publication\" : 2000, \"n of pages\":450},\n",
        "                \"harry5\" : {\"year of publication\" : 2003, \"n of pages\":800},\n",
        "                \"harry6\" : {\"year of publication\" : 2005, \"n of pages\":650},\n",
        "                \"harry7\" : {\"year of publication\" : 2007, \"n of pages\":700},\n",
        "}\n",
        "harry_potter[\"harry7\"][\"n of pages\"] + harry_potter[\"harry3\"][\"n of pages\"]"
      ]
    },
    {
      "cell_type": "markdown",
      "metadata": {
        "id": "o8InFzRry5Do"
      },
      "source": [
        "### Dictionaries\n",
        " - Mutable: Dictionaries can be modified by adding, removing, or changing key-value pairs.\n",
        " - Unordered: Dictionaries do not maintain the order of elements. Access to elements is based on keys, not indexes.\n",
        " - Underlying Implementation: Dictionaries are implemented as hash tables, providing fast access to values based on their keys."
      ]
    },
    {
      "cell_type": "markdown",
      "metadata": {
        "id": "ry_h_aeZ0F2e"
      },
      "source": [
        "Exercixes"
      ]
    },
    {
      "cell_type": "code",
      "execution_count": null,
      "metadata": {
        "id": "87GGqfi4yI0c"
      },
      "outputs": [],
      "source": [
        "X = 23\n",
        "x\n"
      ]
    },
    {
      "cell_type": "markdown",
      "metadata": {
        "id": "zmEj-Gn30wuG"
      },
      "source": [
        "# Python Exercises\n",
        "\n",
        "## If, Else, Elif\n",
        "\n",
        "1. **Basic If Statement**\n",
        "   - Write a program that checks if a number is negative and prints \"Negative\".\n",
        "\n",
        "2. **If-Else Statement**\n",
        "   - Write a program that checks if a number is even or odd and prints the result.\n",
        "\n",
        "3. **If-Elif-Else Statement**\n",
        "   - Write a program that assigns a letter grade (A, B, C, D, or F) based on a numeric score. Starts by defining the range of the numeric score.\n",
        "\n",
        "## For Loops\n",
        "\n",
        "4. **Simple For Loop**\n",
        "   - Write a program that prints the numbers from 1 to 10 using a for loop.\n",
        "\n",
        "5. **For Loop with List**\n",
        "   - Write a program that iterates through a list of fruits and prints each fruit.\n",
        "\n",
        "6. **Sum of List Elements**\n",
        "   - Write a program that calculates the sum of all elements in a list of numbers.\n",
        "\n",
        "## While Loops\n",
        "\n",
        "7. **Basic While Loop**\n",
        "   - Write a program that prints the numbers from 1 to 5 using a while loop.\n",
        "\n",
        "8. **While Loop with Condition**\n",
        "   - Write a program that asks the user for input until they enter \"stop\".\n",
        "\n",
        "9. **Sum of Digits**\n",
        "   - Write a program that calculates the sum of the digits of a given number using a while loop.\n",
        "\n",
        "## Dictionaries\n",
        "\n",
        "10. **Create and Access Dictionary**\n",
        "    - Write a program that creates a dictionary with keys \"name\", \"age\", and \"city\", and prints each value.\n",
        "\n",
        "11. **Add and Remove Dictionary Items**\n",
        "    - Write a program that adds a new key-value pair to a dictionary and then removes an existing key.\n",
        "\n",
        "12. **Iterate Through Dictionary**\n",
        "    - Write a program that iterates through a dictionary and prints each key-value pair. Note that you can fill the dictionary in the way you prefer.\n",
        "\n",
        "## Tuples\n",
        "\n",
        "13. **Basic Tuple Operations**\n",
        "    - Write a program that creates a tuple of colors and prints the first color.\n",
        "\n",
        "14. **Tuple Unpacking**\n",
        "    - Write a program that unpacks a tuple of three elements into three variables and prints them.\n",
        "\n",
        "15. **Nested Tuple Access**\n",
        "    - Write a program that creates a nested tuple and prints an element from the nested tuple. Let the user choose which element.\n",
        "\n",
        "## Lists\n",
        "\n",
        "16. **Basic List Operations**\n",
        "    - Write a program that creates a list of numbers, adds a number, and then removes a number.\n",
        "\n",
        "17. **List Slicing**\n",
        "    - Write a program that slices a list of numbers to get the first three elements and prints them.\n",
        "\n",
        "18. **List Comprehension**\n",
        "    - Write a program that creates a list of squares of numbers from 1 to 10.\n",
        "\n",
        "## File Reading/Writing\n",
        "\n",
        "19. **Write to a File**\n",
        "    - Write a program that writes the string \"Hello, world!\" to a file named `hello.txt`.\n",
        "\n",
        "20. **Read from a File**\n",
        "    - Write a program that reads the content of `hello.txt` and prints it.\n",
        "\n",
        "21. **Append to a File**\n",
        "    - Write a program that appends the string \"Rome is fun!\" to `hello.txt` and then reads and prints the content.\n",
        "\n",
        "## Combined Concepts\n",
        "\n",
        "22. **Filter Even Numbers**\n",
        "    - Write a program that filters even numbers from a list using a for loop and if statement, and stores them in a new list.\n",
        "\n",
        "23. **Count Words in File**\n",
        "    - Write a program that reads a text file and counts the number of words in the file.\n",
        "\n",
        "24. **Dictionary of Squares**\n",
        "    - Write a program that creates a dictionary where the keys are numbers from 1 to 10 and the values are their squares.\n",
        "\n",
        "\n"
      ]
    },
    {
      "cell_type": "code",
      "execution_count": null,
      "metadata": {
        "id": "P9ZbxNVrJwTj"
      },
      "outputs": [],
      "source": []
    }
  ],
  "metadata": {
    "colab": {
      "provenance": []
    },
    "kernelspec": {
      "display_name": "Python 3",
      "name": "python3"
    },
    "language_info": {
      "codemirror_mode": {
        "name": "ipython",
        "version": 3
      },
      "file_extension": ".py",
      "mimetype": "text/x-python",
      "name": "python",
      "nbconvert_exporter": "python",
      "pygments_lexer": "ipython3",
      "version": "3.13.2"
    }
  },
  "nbformat": 4,
  "nbformat_minor": 0
}
