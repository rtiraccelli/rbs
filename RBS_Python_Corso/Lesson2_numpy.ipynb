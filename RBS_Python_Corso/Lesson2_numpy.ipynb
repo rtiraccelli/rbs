{
 "cells": [
  {
   "cell_type": "markdown",
   "metadata": {
    "id": "SpfnIawfMng-"
   },
   "source": [
    "# NumPy and Arrays\n"
   ]
  },
  {
   "cell_type": "markdown",
   "metadata": {
    "id": "iwvZ6m-xM0db"
   },
   "source": [
    "\n",
    "## Introduction\n",
    "\n",
    "The first object we encounter in NumPy is the array. Arrays can be created from different objects.\n"
   ]
  },
  {
   "cell_type": "code",
   "execution_count": 4,
   "metadata": {
    "id": "5roVY5PHNgWk"
   },
   "outputs": [],
   "source": [
    "### Creating Arrays\n",
    "\n",
    "import numpy as np"
   ]
  },
  {
   "cell_type": "code",
   "execution_count": 2,
   "metadata": {
    "colab": {
     "base_uri": "https://localhost:8080/"
    },
    "executionInfo": {
     "elapsed": 383,
     "status": "ok",
     "timestamp": 1733937541925,
     "user": {
      "displayName": "Giacomo Scettri",
      "userId": "04764228103610248762"
     },
     "user_tz": -60
    },
    "id": "UqIGC_opOOQq",
    "outputId": "9e2e7113-d82a-4664-f0c8-82d75553646c"
   },
   "outputs": [
    {
     "data": {
      "text/plain": [
       "array([2, 4, 6])"
      ]
     },
     "execution_count": 2,
     "metadata": {},
     "output_type": "execute_result"
    }
   ],
   "source": [
    "# Creating an array from a list\n",
    "list1 = [2, 4, 6]\n",
    "np.array(list1)"
   ]
  },
  {
   "cell_type": "code",
   "execution_count": 3,
   "metadata": {
    "colab": {
     "base_uri": "https://localhost:8080/"
    },
    "executionInfo": {
     "elapsed": 440,
     "status": "ok",
     "timestamp": 1718886365033,
     "user": {
      "displayName": "Giacomo Scettri",
      "userId": "04764228103610248762"
     },
     "user_tz": -120
    },
    "id": "VStqlnjxmw5L",
    "outputId": "f0ae7520-62a6-41a8-f2bc-55d54ad06632"
   },
   "outputs": [
    {
     "data": {
      "text/plain": [
       "array(['pippo', '2', '47'], dtype='<U21')"
      ]
     },
     "execution_count": 3,
     "metadata": {},
     "output_type": "execute_result"
    }
   ],
   "source": [
    "# Creating an array from a list with mixed data types\n",
    "np.array(['pippo', 2, 47])"
   ]
  },
  {
   "cell_type": "code",
   "execution_count": 4,
   "metadata": {
    "colab": {
     "base_uri": "https://localhost:8080/"
    },
    "executionInfo": {
     "elapsed": 560,
     "status": "ok",
     "timestamp": 1718886454564,
     "user": {
      "displayName": "Giacomo Scettri",
      "userId": "04764228103610248762"
     },
     "user_tz": -120
    },
    "id": "w6xCusCinAZk",
    "outputId": "b9fc54fb-363e-47c8-c60f-f9b2e229debb"
   },
   "outputs": [
    {
     "data": {
      "text/plain": [
       "array([20, 25, 30, 35])"
      ]
     },
     "execution_count": 4,
     "metadata": {},
     "output_type": "execute_result"
    }
   ],
   "source": [
    "# Creating an array using the range function\n",
    "np.array(range(20, 40, 5))"
   ]
  },
  {
   "cell_type": "markdown",
   "metadata": {
    "id": "zFJxy5JcWvQZ"
   },
   "source": [
    "The range function generates a series of numbers of the type (start, end, step).\n",
    "\n",
    "Note: The object we define for Python is in the ndarray class, while array is the function that generates it.\n",
    "\n"
   ]
  },
  {
   "cell_type": "markdown",
   "metadata": {
    "id": "vlwlHBVVWsOq"
   },
   "source": [
    "### Using np.arange()\n",
    "We can also generate an array using the np.arange() function.\n",
    "\n",
    "  \n",
    "\n"
   ]
  },
  {
   "cell_type": "code",
   "execution_count": 5,
   "metadata": {
    "colab": {
     "base_uri": "https://localhost:8080/"
    },
    "executionInfo": {
     "elapsed": 351,
     "status": "ok",
     "timestamp": 1718886500900,
     "user": {
      "displayName": "Giacomo Scettri",
      "userId": "04764228103610248762"
     },
     "user_tz": -120
    },
    "id": "IJDyYGnkWqrJ",
    "outputId": "7b0fece0-7f06-4832-d9b7-6a0eba9682f7"
   },
   "outputs": [
    {
     "data": {
      "text/plain": [
       "array([0, 1, 2, 3])"
      ]
     },
     "execution_count": 5,
     "metadata": {},
     "output_type": "execute_result"
    }
   ],
   "source": [
    "# Creating an array with np.arange()\n",
    "np.arange(4)\n"
   ]
  },
  {
   "cell_type": "code",
   "execution_count": 6,
   "metadata": {
    "colab": {
     "base_uri": "https://localhost:8080/"
    },
    "executionInfo": {
     "elapsed": 393,
     "status": "ok",
     "timestamp": 1718886505011,
     "user": {
      "displayName": "Giacomo Scettri",
      "userId": "04764228103610248762"
     },
     "user_tz": -120
    },
    "id": "MJ0Hp2LtnkZh",
    "outputId": "976477e7-e550-4137-ea17-24b306cd036f"
   },
   "outputs": [
    {
     "data": {
      "text/plain": [
       "array([ 3,  4,  5,  6,  7,  8,  9, 10])"
      ]
     },
     "execution_count": 6,
     "metadata": {},
     "output_type": "execute_result"
    }
   ],
   "source": [
    "\n",
    "np.arange(3, 11)\n"
   ]
  },
  {
   "cell_type": "code",
   "execution_count": 7,
   "metadata": {
    "colab": {
     "base_uri": "https://localhost:8080/"
    },
    "executionInfo": {
     "elapsed": 7,
     "status": "ok",
     "timestamp": 1718886507166,
     "user": {
      "displayName": "Giacomo Scettri",
      "userId": "04764228103610248762"
     },
     "user_tz": -120
    },
    "id": "v32koPLInmU0",
    "outputId": "246894dd-c594-4273-a557-2c25337c8b22"
   },
   "outputs": [
    {
     "data": {
      "text/plain": [
       "array([3, 7])"
      ]
     },
     "execution_count": 7,
     "metadata": {},
     "output_type": "execute_result"
    }
   ],
   "source": [
    "\n",
    "np.arange(3, 11, 4)  # Syntax: (start, end, step)\n"
   ]
  },
  {
   "cell_type": "markdown",
   "metadata": {
    "id": "zqGEXy-_Wj4t"
   },
   "source": [
    "## Creating Arrays of Zeros and Ones\n",
    "We can use np.zeros and np.ones to create arrays of zeros or ones.\n"
   ]
  },
  {
   "cell_type": "code",
   "execution_count": 8,
   "metadata": {
    "colab": {
     "base_uri": "https://localhost:8080/"
    },
    "executionInfo": {
     "elapsed": 386,
     "status": "ok",
     "timestamp": 1718886550159,
     "user": {
      "displayName": "Giacomo Scettri",
      "userId": "04764228103610248762"
     },
     "user_tz": -120
    },
    "id": "5KcZmUO3Uq6w",
    "outputId": "05faf09e-9e38-42eb-9b48-0caa3ca9ab44"
   },
   "outputs": [
    {
     "data": {
      "text/plain": [
       "array([0., 0., 0., 0.])"
      ]
     },
     "execution_count": 8,
     "metadata": {},
     "output_type": "execute_result"
    }
   ],
   "source": [
    "# Array of zeros\n",
    "np.zeros(4)\n"
   ]
  },
  {
   "cell_type": "code",
   "execution_count": 9,
   "metadata": {
    "colab": {
     "base_uri": "https://localhost:8080/"
    },
    "executionInfo": {
     "elapsed": 274,
     "status": "ok",
     "timestamp": 1733937655249,
     "user": {
      "displayName": "Giacomo Scettri",
      "userId": "04764228103610248762"
     },
     "user_tz": -60
    },
    "id": "3Jq25eYb9C0j",
    "outputId": "530452c1-07c4-4eae-efbc-a2a15a36016d"
   },
   "outputs": [
    {
     "data": {
      "text/plain": [
       "array([ 5, 10, 15, 20])"
      ]
     },
     "execution_count": 9,
     "metadata": {},
     "output_type": "execute_result"
    }
   ],
   "source": [
    "list1 = [1,2,3,4]\n",
    "5 * np.array(list1)"
   ]
  },
  {
   "cell_type": "code",
   "execution_count": 10,
   "metadata": {
    "colab": {
     "base_uri": "https://localhost:8080/"
    },
    "executionInfo": {
     "elapsed": 374,
     "status": "ok",
     "timestamp": 1733937673658,
     "user": {
      "displayName": "Giacomo Scettri",
      "userId": "04764228103610248762"
     },
     "user_tz": -60
    },
    "id": "u6ns6T7OvKIs",
    "outputId": "254effc3-1c76-4198-e090-29d0c2ade409"
   },
   "outputs": [
    {
     "data": {
      "text/plain": [
       "array([6, 7, 8, 9])"
      ]
     },
     "execution_count": 10,
     "metadata": {},
     "output_type": "execute_result"
    }
   ],
   "source": [
    "np.array(list1) + 5"
   ]
  },
  {
   "cell_type": "code",
   "execution_count": 13,
   "metadata": {
    "colab": {
     "base_uri": "https://localhost:8080/"
    },
    "executionInfo": {
     "elapsed": 319,
     "status": "ok",
     "timestamp": 1733937787164,
     "user": {
      "displayName": "Giacomo Scettri",
      "userId": "04764228103610248762"
     },
     "user_tz": -60
    },
    "id": "xRyIQDq7_iPX",
    "outputId": "3a65f20c-63bf-4fc0-d281-7903bfc102a4"
   },
   "outputs": [
    {
     "name": "stdout",
     "output_type": "stream",
     "text": [
      "[3. 3. 3. 3. 3. 3.]\n"
     ]
    },
    {
     "data": {
      "text/plain": [
       "array([13., 14., 15., 16., 17., 18.])"
      ]
     },
     "execution_count": 13,
     "metadata": {},
     "output_type": "execute_result"
    }
   ],
   "source": [
    "list10_15 = [10,11,12,13,14,15]\n",
    "array3 = 3 * np.ones(6)\n",
    "print(array3)\n",
    "list10_15_array = np.array(list10_15)\n",
    "list10_15_array + array3"
   ]
  },
  {
   "cell_type": "code",
   "execution_count": 14,
   "metadata": {
    "colab": {
     "base_uri": "https://localhost:8080/",
     "height": 176
    },
    "executionInfo": {
     "elapsed": 403,
     "status": "error",
     "timestamp": 1733937942231,
     "user": {
      "displayName": "Giacomo Scettri",
      "userId": "04764228103610248762"
     },
     "user_tz": -60
    },
    "id": "kKvz_qV_wFF9",
    "outputId": "1de88207-d148-43f5-8e1f-cebed85012bd"
   },
   "outputs": [
    {
     "ename": "TypeError",
     "evalue": "'int' object is not iterable",
     "output_type": "error",
     "traceback": [
      "\u001b[31m---------------------------------------------------------------------------\u001b[39m",
      "\u001b[31mTypeError\u001b[39m                                 Traceback (most recent call last)",
      "\u001b[36mCell\u001b[39m\u001b[36m \u001b[39m\u001b[32mIn[14]\u001b[39m\u001b[32m, line 1\u001b[39m\n\u001b[32m----> \u001b[39m\u001b[32m1\u001b[39m \u001b[38;5;28;43;01mfor\u001b[39;49;00m\u001b[43m \u001b[49m\u001b[43mi\u001b[49m\u001b[43m \u001b[49m\u001b[38;5;129;43;01min\u001b[39;49;00m\u001b[43m \u001b[49m\u001b[38;5;28;43mlen\u001b[39;49m\u001b[43m(\u001b[49m\u001b[43mlist10_15\u001b[49m\u001b[43m)\u001b[49m\u001b[43m:\u001b[49m\n\u001b[32m      2\u001b[39m \u001b[43m  \u001b[49m\u001b[43mlist10_15\u001b[49m\u001b[43m[\u001b[49m\u001b[43mi\u001b[49m\u001b[43m]\u001b[49m\u001b[43m \u001b[49m\u001b[43m+\u001b[49m\u001b[43m \u001b[49m\u001b[43marray3\u001b[49m\u001b[43m[\u001b[49m\u001b[43mi\u001b[49m\u001b[43m]\u001b[49m\n",
      "\u001b[31mTypeError\u001b[39m: 'int' object is not iterable"
     ]
    }
   ],
   "source": [
    "for i in len(list10_15):\n",
    "  list10_15[i] + array3[i]\n"
   ]
  },
  {
   "cell_type": "code",
   "execution_count": 15,
   "metadata": {
    "colab": {
     "base_uri": "https://localhost:8080/"
    },
    "executionInfo": {
     "elapsed": 543,
     "status": "ok",
     "timestamp": 1718886738963,
     "user": {
      "displayName": "Giacomo Scettri",
      "userId": "04764228103610248762"
     },
     "user_tz": -120
    },
    "id": "1eA42mTrnwnd",
    "outputId": "84b1f704-0f73-4c55-80a2-fcd28fcfdb01"
   },
   "outputs": [
    {
     "data": {
      "text/plain": [
       "array([5., 5., 5., 5., 5., 5., 5., 5., 5., 5.])"
      ]
     },
     "execution_count": 15,
     "metadata": {},
     "output_type": "execute_result"
    }
   ],
   "source": [
    "# Array of ones\n",
    "5 * np.ones(10)\n",
    "\n",
    "#([5,5,5,5,5,5,5,5,5,5,5])\n"
   ]
  },
  {
   "cell_type": "markdown",
   "metadata": {
    "id": "LrYa7SbwVLtH"
   },
   "source": [
    "## Vectorized Operations\n",
    "An interesting feature of arrays is vectorized operations, meaning when you perform operations on an array, they are applied to each element.\n",
    "\n",
    "  \n",
    "\n"
   ]
  },
  {
   "cell_type": "code",
   "execution_count": 16,
   "metadata": {
    "colab": {
     "base_uri": "https://localhost:8080/"
    },
    "executionInfo": {
     "elapsed": 16,
     "status": "ok",
     "timestamp": 1718886775703,
     "user": {
      "displayName": "Giacomo Scettri",
      "userId": "04764228103610248762"
     },
     "user_tz": -120
    },
    "id": "jazYS0KTWdHp",
    "outputId": "af09434b-80d3-4aee-b2a7-04b2a2af1973"
   },
   "outputs": [
    {
     "data": {
      "text/plain": [
       "array([1, 2, 3, 4, 5, 6])"
      ]
     },
     "execution_count": 16,
     "metadata": {},
     "output_type": "execute_result"
    }
   ],
   "source": [
    "# Creating an array\n",
    "np.arange(1, 7)\n"
   ]
  },
  {
   "cell_type": "code",
   "execution_count": 17,
   "metadata": {
    "colab": {
     "base_uri": "https://localhost:8080/"
    },
    "executionInfo": {
     "elapsed": 346,
     "status": "ok",
     "timestamp": 1718886816893,
     "user": {
      "displayName": "Giacomo Scettri",
      "userId": "04764228103610248762"
     },
     "user_tz": -120
    },
    "id": "P4sJI6EsoqbI",
    "outputId": "d83acb2c-6ce5-4691-b2d0-06d26e4e7656"
   },
   "outputs": [
    {
     "data": {
      "text/plain": [
       "array([3, 4, 5, 6, 7, 8])"
      ]
     },
     "execution_count": 17,
     "metadata": {},
     "output_type": "execute_result"
    }
   ],
   "source": [
    "# Adding a scalar to an array\n",
    "np.arange(1, 7) + 2"
   ]
  },
  {
   "cell_type": "code",
   "execution_count": 18,
   "metadata": {
    "colab": {
     "base_uri": "https://localhost:8080/"
    },
    "executionInfo": {
     "elapsed": 338,
     "status": "ok",
     "timestamp": 1718886846125,
     "user": {
      "displayName": "Giacomo Scettri",
      "userId": "04764228103610248762"
     },
     "user_tz": -120
    },
    "id": "Ka6ww9AOot2g",
    "outputId": "39cb0698-d495-46fb-97ec-0884b79ee691"
   },
   "outputs": [
    {
     "data": {
      "text/plain": [
       "array([ 3,  6,  9, 12, 15, 18])"
      ]
     },
     "execution_count": 18,
     "metadata": {},
     "output_type": "execute_result"
    }
   ],
   "source": [
    "# Multiplying an array by a scalar\n",
    "np.arange(1, 7) * 3\n"
   ]
  },
  {
   "cell_type": "markdown",
   "metadata": {
    "id": "9XLFu34YWZNg"
   },
   "source": [
    "## Element-wise Operations\n",
    "  \n",
    "\n"
   ]
  },
  {
   "cell_type": "code",
   "execution_count": 19,
   "metadata": {
    "id": "0T9qEyS-WXJC"
   },
   "outputs": [],
   "source": [
    "x_array = np.array([1, 3, 4, 5, 2, 6])\n",
    "y_array = np.arange(1, 7)\n",
    "z_array = np.arange(4,10)"
   ]
  },
  {
   "cell_type": "code",
   "execution_count": 20,
   "metadata": {
    "colab": {
     "base_uri": "https://localhost:8080/"
    },
    "executionInfo": {
     "elapsed": 271,
     "status": "ok",
     "timestamp": 1733338331698,
     "user": {
      "displayName": "Giacomo Scettri",
      "userId": "04764228103610248762"
     },
     "user_tz": -60
    },
    "id": "AcRmUYLfpDdI",
    "outputId": "6822fe36-7195-444e-86d7-3285dcf07cc9"
   },
   "outputs": [
    {
     "data": {
      "text/plain": [
       "array([ 5,  8, 10, 12, 10, 15])"
      ]
     },
     "execution_count": 20,
     "metadata": {},
     "output_type": "execute_result"
    }
   ],
   "source": [
    "# Adding two arrays\n",
    "x_array + y_array\n",
    "x_array + z_array\n"
   ]
  },
  {
   "cell_type": "code",
   "execution_count": 21,
   "metadata": {
    "colab": {
     "base_uri": "https://localhost:8080/"
    },
    "executionInfo": {
     "elapsed": 342,
     "status": "ok",
     "timestamp": 1718886986550,
     "user": {
      "displayName": "Giacomo Scettri",
      "userId": "04764228103610248762"
     },
     "user_tz": -120
    },
    "id": "oF_69CawpR4g",
    "outputId": "d6bd87a5-ea37-4530-a243-ce4735eb3cbc"
   },
   "outputs": [
    {
     "data": {
      "text/plain": [
       "[1, 3, 4, 5, 2, 6, 1, 2, 3, 4, 5, 6]"
      ]
     },
     "execution_count": 21,
     "metadata": {},
     "output_type": "execute_result"
    }
   ],
   "source": [
    "x_list = [1, 3, 4, 5, 2, 6]\n",
    "y_list = [1,2,3,4,5,6]\n",
    "x_list + y_list"
   ]
  },
  {
   "cell_type": "code",
   "execution_count": 22,
   "metadata": {
    "colab": {
     "base_uri": "https://localhost:8080/"
    },
    "executionInfo": {
     "elapsed": 344,
     "status": "ok",
     "timestamp": 1718887049303,
     "user": {
      "displayName": "Giacomo Scettri",
      "userId": "04764228103610248762"
     },
     "user_tz": -120
    },
    "id": "X56agT5jpMuK",
    "outputId": "fb901e27-d102-4d3f-9ec4-5f2f6a6eaaf1"
   },
   "outputs": [
    {
     "data": {
      "text/plain": [
       "array([ 1,  6, 12, 20, 10, 36])"
      ]
     },
     "execution_count": 22,
     "metadata": {},
     "output_type": "execute_result"
    }
   ],
   "source": [
    "# Multiplying two arrays\n",
    "x_array * y_array\n",
    "\n"
   ]
  },
  {
   "cell_type": "code",
   "execution_count": 23,
   "metadata": {
    "colab": {
     "base_uri": "https://localhost:8080/"
    },
    "executionInfo": {
     "elapsed": 414,
     "status": "ok",
     "timestamp": 1733938134424,
     "user": {
      "displayName": "Giacomo Scettri",
      "userId": "04764228103610248762"
     },
     "user_tz": -60
    },
    "id": "o9k1joiIpt4h",
    "outputId": "e8254963-8c4f-4381-e774-00f470d41652"
   },
   "outputs": [
    {
     "data": {
      "text/plain": [
       "array([ 1,  9, 16, 25,  4, 36])"
      ]
     },
     "execution_count": 23,
     "metadata": {},
     "output_type": "execute_result"
    }
   ],
   "source": [
    "# Squaring each element of the array\n",
    "x_array ** 2\n"
   ]
  },
  {
   "cell_type": "code",
   "execution_count": 25,
   "metadata": {
    "colab": {
     "base_uri": "https://localhost:8080/",
     "height": 141
    },
    "executionInfo": {
     "elapsed": 321,
     "status": "error",
     "timestamp": 1733338424321,
     "user": {
      "displayName": "Giacomo Scettri",
      "userId": "04764228103610248762"
     },
     "user_tz": -60
    },
    "id": "NKw5zJIKBTFE",
    "outputId": "4bf898c8-b919-4670-e06a-19400426ec3a"
   },
   "outputs": [
    {
     "ename": "TypeError",
     "evalue": "unsupported operand type(s) for ** or pow(): 'list' and 'int'",
     "output_type": "error",
     "traceback": [
      "\u001b[31m---------------------------------------------------------------------------\u001b[39m",
      "\u001b[31mTypeError\u001b[39m                                 Traceback (most recent call last)",
      "\u001b[36mCell\u001b[39m\u001b[36m \u001b[39m\u001b[32mIn[25]\u001b[39m\u001b[32m, line 1\u001b[39m\n\u001b[32m----> \u001b[39m\u001b[32m1\u001b[39m \u001b[43m[\u001b[49m\u001b[32;43m1\u001b[39;49m\u001b[43m,\u001b[49m\u001b[32;43m2\u001b[39;49m\u001b[43m,\u001b[49m\u001b[32;43m3\u001b[39;49m\u001b[43m,\u001b[49m\u001b[32;43m4\u001b[39;49m\u001b[43m]\u001b[49m\u001b[43m*\u001b[49m\u001b[43m*\u001b[49m\u001b[32;43m2\u001b[39;49m\n",
      "\u001b[31mTypeError\u001b[39m: unsupported operand type(s) for ** or pow(): 'list' and 'int'"
     ]
    }
   ],
   "source": [
    "[1,2,3,4]**2"
   ]
  },
  {
   "cell_type": "markdown",
   "metadata": {
    "id": "tb6bFdDKWTX3"
   },
   "source": [
    "## Mathematical Operations\n",
    "NumPy provides various mathematical expressions we can use.\n",
    "\n",
    "  \n",
    "\n"
   ]
  },
  {
   "cell_type": "code",
   "execution_count": 26,
   "metadata": {
    "id": "lvbJzeTeWQor"
   },
   "outputs": [],
   "source": [
    "x_array = np.array([1, 3, 4, 5, 2])"
   ]
  },
  {
   "cell_type": "code",
   "execution_count": 27,
   "metadata": {
    "colab": {
     "base_uri": "https://localhost:8080/"
    },
    "executionInfo": {
     "elapsed": 385,
     "status": "ok",
     "timestamp": 1718887257794,
     "user": {
      "displayName": "Giacomo Scettri",
      "userId": "04764228103610248762"
     },
     "user_tz": -120
    },
    "id": "dsO_sRL0qZ3y",
    "outputId": "5b2b5a67-76a4-4ca3-b67c-ace85ed34abf"
   },
   "outputs": [
    {
     "data": {
      "text/plain": [
       "array([1.        , 1.73205081, 2.        , 2.23606798, 1.41421356])"
      ]
     },
     "execution_count": 27,
     "metadata": {},
     "output_type": "execute_result"
    }
   ],
   "source": [
    "# Square root of each element\n",
    "np.sqrt(x_array)"
   ]
  },
  {
   "cell_type": "code",
   "execution_count": 28,
   "metadata": {
    "colab": {
     "base_uri": "https://localhost:8080/"
    },
    "executionInfo": {
     "elapsed": 669,
     "status": "ok",
     "timestamp": 1733338510090,
     "user": {
      "displayName": "Giacomo Scettri",
      "userId": "04764228103610248762"
     },
     "user_tz": -60
    },
    "id": "Tvi53_JjqevS",
    "outputId": "2fa4da5f-df94-40f8-b2e5-40c0b982c918"
   },
   "outputs": [
    {
     "data": {
      "text/plain": [
       "array([1.  , 1.73, 2.  , 2.24, 1.41])"
      ]
     },
     "execution_count": 28,
     "metadata": {},
     "output_type": "execute_result"
    }
   ],
   "source": [
    "# Rounding the square roots to 5 decimal places\n",
    "np.round(np.sqrt(x_array), 2)"
   ]
  },
  {
   "cell_type": "code",
   "execution_count": 29,
   "metadata": {
    "id": "FIKoCJN1qrV5"
   },
   "outputs": [
    {
     "name": "stdout",
     "output_type": "stream",
     "text": [
      "Degrees:  180.0\n"
     ]
    }
   ],
   "source": [
    "# Exponential of each element\n",
    "np.exp(x_array)\n",
    "\n",
    "# Sine of each element (in radians)\n",
    "np.sin(x_array)\n",
    "\n",
    "# Hypotenuse given the lengths of the other two sides\n",
    "np.hypot(3, 4)\n",
    "\n",
    "# Converting radians to degrees\n",
    "print('Degrees: ', np.degrees(np.pi))\n",
    "\n"
   ]
  },
  {
   "cell_type": "code",
   "execution_count": 30,
   "metadata": {
    "colab": {
     "base_uri": "https://localhost:8080/"
    },
    "executionInfo": {
     "elapsed": 348,
     "status": "ok",
     "timestamp": 1718887419806,
     "user": {
      "displayName": "Giacomo Scettri",
      "userId": "04764228103610248762"
     },
     "user_tz": -120
    },
    "id": "_9kIZGLArFzX",
    "outputId": "d48597e9-228c-4904-e693-1cf76a46dee6"
   },
   "outputs": [
    {
     "name": "stdout",
     "output_type": "stream",
     "text": [
      "1.0\n",
      "2.0\n"
     ]
    }
   ],
   "source": [
    "# Rounding to the nearest integer\n",
    "print(np.rint(1.4))\n",
    "print(np.rint(1.5))"
   ]
  },
  {
   "cell_type": "code",
   "execution_count": 31,
   "metadata": {
    "colab": {
     "base_uri": "https://localhost:8080/"
    },
    "executionInfo": {
     "elapsed": 355,
     "status": "ok",
     "timestamp": 1718887460989,
     "user": {
      "displayName": "Giacomo Scettri",
      "userId": "04764228103610248762"
     },
     "user_tz": -120
    },
    "id": "KMXTTziArHXP",
    "outputId": "583a57f8-9c99-4877-e504-326fe5e96be0"
   },
   "outputs": [
    {
     "name": "stdout",
     "output_type": "stream",
     "text": [
      "[1 3 4 5 2]\n"
     ]
    },
    {
     "data": {
      "text/plain": [
       "array([ 1,  4,  8, 13, 15])"
      ]
     },
     "execution_count": 31,
     "metadata": {},
     "output_type": "execute_result"
    }
   ],
   "source": [
    "# Cumulative sum\n",
    "print(x_array)\n",
    "np.cumsum(x_array)"
   ]
  },
  {
   "cell_type": "code",
   "execution_count": 32,
   "metadata": {
    "colab": {
     "base_uri": "https://localhost:8080/"
    },
    "executionInfo": {
     "elapsed": 1284,
     "status": "ok",
     "timestamp": 1718887508692,
     "user": {
      "displayName": "Giacomo Scettri",
      "userId": "04764228103610248762"
     },
     "user_tz": -120
    },
    "id": "yfeHeNCprRue",
    "outputId": "3bc1e5d1-27d8-4125-d2fe-142a0314b5a7"
   },
   "outputs": [
    {
     "data": {
      "text/plain": [
       "array([ 2,  1,  1, -3])"
      ]
     },
     "execution_count": 32,
     "metadata": {},
     "output_type": "execute_result"
    }
   ],
   "source": [
    "# Consecutive differences\n",
    "np.ediff1d(x_array)"
   ]
  },
  {
   "cell_type": "code",
   "execution_count": 33,
   "metadata": {
    "colab": {
     "base_uri": "https://localhost:8080/"
    },
    "executionInfo": {
     "elapsed": 390,
     "status": "ok",
     "timestamp": 1733338658429,
     "user": {
      "displayName": "Giacomo Scettri",
      "userId": "04764228103610248762"
     },
     "user_tz": -60
    },
    "id": "xJFf26TNrbrn",
    "outputId": "ee83427c-8947-4083-ab2b-00e99412ed2c"
   },
   "outputs": [
    {
     "data": {
      "text/plain": [
       "array([ 0. ,  2.5,  5. ,  7.5, 10. ])"
      ]
     },
     "execution_count": 33,
     "metadata": {},
     "output_type": "execute_result"
    }
   ],
   "source": [
    "# Generating 4 equally spaced values between 0 and 10\n",
    "np.linspace(0, 10, 5)\n",
    "\n"
   ]
  },
  {
   "cell_type": "code",
   "execution_count": 34,
   "metadata": {
    "colab": {
     "base_uri": "https://localhost:8080/"
    },
    "executionInfo": {
     "elapsed": 368,
     "status": "ok",
     "timestamp": 1718887577209,
     "user": {
      "displayName": "Giacomo Scettri",
      "userId": "04764228103610248762"
     },
     "user_tz": -120
    },
    "id": "9QF2vFnsrdQ4",
    "outputId": "0068dced-dd6c-414b-ad1a-90d50d265dfd"
   },
   "outputs": [
    {
     "data": {
      "text/plain": [
       "array([ 1.        ,  1.47368421,  1.94736842,  2.42105263,  2.89473684,\n",
       "        3.36842105,  3.84210526,  4.31578947,  4.78947368,  5.26315789,\n",
       "        5.73684211,  6.21052632,  6.68421053,  7.15789474,  7.63157895,\n",
       "        8.10526316,  8.57894737,  9.05263158,  9.52631579, 10.        ])"
      ]
     },
     "execution_count": 34,
     "metadata": {},
     "output_type": "execute_result"
    }
   ],
   "source": [
    "# Generating 20 equally spaced values between 1 and 10\n",
    "np.linspace(1, 10, 20)\n"
   ]
  },
  {
   "cell_type": "markdown",
   "metadata": {
    "id": "WQiwIqlwWAP3"
   },
   "source": [
    "## Creating 2-D or 3-D Arrays\n",
    "The simplest way to create 2-D or 3-D arrays is by converting from lists.\n",
    "\n",
    "  \n"
   ]
  },
  {
   "cell_type": "code",
   "execution_count": 35,
   "metadata": {
    "colab": {
     "base_uri": "https://localhost:8080/"
    },
    "executionInfo": {
     "elapsed": 418,
     "status": "ok",
     "timestamp": 1718887620256,
     "user": {
      "displayName": "Giacomo Scettri",
      "userId": "04764228103610248762"
     },
     "user_tz": -120
    },
    "id": "ovao4CPTWDwu",
    "outputId": "b537a77d-abc5-4a71-ed90-73cdfbb87d4c"
   },
   "outputs": [
    {
     "data": {
      "text/plain": [
       "array([[1, 2, 3],\n",
       "       [4, 5, 6],\n",
       "       [7, 8, 9]])"
      ]
     },
     "execution_count": 35,
     "metadata": {},
     "output_type": "execute_result"
    }
   ],
   "source": [
    "\n",
    "# Creating a 2-D array from a list of lists\n",
    "my_matrix = [[1, 2, 3], [4, 5, 6], [7, 8, 9]]\n",
    "np.array(my_matrix)\n",
    "\n"
   ]
  },
  {
   "cell_type": "code",
   "execution_count": 36,
   "metadata": {
    "colab": {
     "base_uri": "https://localhost:8080/"
    },
    "executionInfo": {
     "elapsed": 327,
     "status": "ok",
     "timestamp": 1718887639456,
     "user": {
      "displayName": "Giacomo Scettri",
      "userId": "04764228103610248762"
     },
     "user_tz": -120
    },
    "id": "bFDmU05zr49V",
    "outputId": "60ecb687-5a1b-4e87-c491-d17869d96223"
   },
   "outputs": [
    {
     "data": {
      "text/plain": [
       "array([[[1. , 0. ],\n",
       "        [1. , 1. ]],\n",
       "\n",
       "       [[0.1, 0. ],\n",
       "        [0.5, 0.7]]])"
      ]
     },
     "execution_count": 36,
     "metadata": {},
     "output_type": "execute_result"
    }
   ],
   "source": [
    "# Creating a 3-D array\n",
    "np.array([[[1, 0], [1, 1]], [[0.1, 0], [0.5, 0.7]]])\n"
   ]
  },
  {
   "cell_type": "markdown",
   "metadata": {
    "id": "SVxD2pPmV74k"
   },
   "source": [
    "## Creating an Identity Matrix\n",
    "To create an identity matrix, we can use the np.eye() function.\n",
    "\n",
    "  \n",
    "\n"
   ]
  },
  {
   "cell_type": "code",
   "execution_count": 37,
   "metadata": {
    "colab": {
     "base_uri": "https://localhost:8080/"
    },
    "executionInfo": {
     "elapsed": 364,
     "status": "ok",
     "timestamp": 1718887682956,
     "user": {
      "displayName": "Giacomo Scettri",
      "userId": "04764228103610248762"
     },
     "user_tz": -120
    },
    "id": "ot0kgEYOV6TC",
    "outputId": "b6a73a43-6243-4a33-c08f-e4c9890864c9"
   },
   "outputs": [
    {
     "data": {
      "text/plain": [
       "array([[1., 0., 0., 0., 0., 0.],\n",
       "       [0., 1., 0., 0., 0., 0.],\n",
       "       [0., 0., 1., 0., 0., 0.],\n",
       "       [0., 0., 0., 1., 0., 0.],\n",
       "       [0., 0., 0., 0., 1., 0.],\n",
       "       [0., 0., 0., 0., 0., 1.]])"
      ]
     },
     "execution_count": 37,
     "metadata": {},
     "output_type": "execute_result"
    }
   ],
   "source": [
    "# Creating a 4x4 identity matrix\n",
    "np.eye(4)\n",
    "\n",
    "# Creating a 6x6 identity matrix\n",
    "np.eye(6)\n",
    "\n"
   ]
  },
  {
   "cell_type": "markdown",
   "metadata": {
    "id": "Hbmcwo1SVyG8"
   },
   "source": [
    "## Random Numbers in NumPy\n",
    "NumPy provides numerous functionalities for generating (pseudo-)random numbers.\n"
   ]
  },
  {
   "cell_type": "code",
   "execution_count": 5,
   "metadata": {
    "id": "k6ZRwAkBVzVh"
   },
   "outputs": [],
   "source": [
    "# Setting the seed for reproducibility\n",
    "np.random.seed(1502)\n"
   ]
  },
  {
   "cell_type": "code",
   "execution_count": 54,
   "metadata": {
    "colab": {
     "base_uri": "https://localhost:8080/"
    },
    "executionInfo": {
     "elapsed": 267,
     "status": "ok",
     "timestamp": 1733938648288,
     "user": {
      "displayName": "Giacomo Scettri",
      "userId": "04764228103610248762"
     },
     "user_tz": -60
    },
    "id": "c8gp2g-ttVZu",
    "outputId": "2ec970eb-bee4-4db6-93aa-00adb32602b3"
   },
   "outputs": [
    {
     "data": {
      "text/plain": [
       "array([0.63935505, 0.79030897, 0.53047393, 0.23722854, 0.09067367])"
      ]
     },
     "execution_count": 54,
     "metadata": {},
     "output_type": "execute_result"
    }
   ],
   "source": [
    "# Generating random numbers uniformly distributed in [0,1]\n",
    "np.random.rand(5)"
   ]
  },
  {
   "cell_type": "code",
   "execution_count": 46,
   "metadata": {
    "colab": {
     "base_uri": "https://localhost:8080/"
    },
    "executionInfo": {
     "elapsed": 341,
     "status": "ok",
     "timestamp": 1718888153250,
     "user": {
      "displayName": "Giacomo Scettri",
      "userId": "04764228103610248762"
     },
     "user_tz": -120
    },
    "id": "2dU0gtRmtNc4",
    "outputId": "1c2a13ad-b192-4ac7-ecdd-62e86c7bf262"
   },
   "outputs": [
    {
     "data": {
      "text/plain": [
       "array([[0.28045025, 0.48198631, 0.10486441],\n",
       "       [0.33924931, 0.69361458, 0.66447322],\n",
       "       [0.51270562, 0.72931104, 0.80151463]])"
      ]
     },
     "execution_count": 46,
     "metadata": {},
     "output_type": "execute_result"
    }
   ],
   "source": [
    "# Generating a 3x3 matrix of random numbers\n",
    "np.random.rand(3, 3)\n"
   ]
  },
  {
   "cell_type": "code",
   "execution_count": 55,
   "metadata": {
    "colab": {
     "base_uri": "https://localhost:8080/"
    },
    "executionInfo": {
     "elapsed": 392,
     "status": "ok",
     "timestamp": 1718888185791,
     "user": {
      "displayName": "Giacomo Scettri",
      "userId": "04764228103610248762"
     },
     "user_tz": -120
    },
    "id": "2XqcckUWt6op",
    "outputId": "79297abb-ca55-4dd7-89e5-493a9519c184"
   },
   "outputs": [
    {
     "data": {
      "text/plain": [
       "array([[-0.24024492, -1.07396596,  0.0479024 , -0.49332007],\n",
       "       [-1.36045708, -1.09611306,  0.12510805, -1.85598727],\n",
       "       [-2.01390746, -0.1747761 ,  2.36531021, -1.47066371]])"
      ]
     },
     "execution_count": 55,
     "metadata": {},
     "output_type": "execute_result"
    }
   ],
   "source": [
    "# Generating random numbers from a normal distribution (mean=0, variance=1)\n",
    "np.random.randn(3, 4)"
   ]
  },
  {
   "cell_type": "code",
   "execution_count": 56,
   "metadata": {
    "colab": {
     "base_uri": "https://localhost:8080/"
    },
    "executionInfo": {
     "elapsed": 361,
     "status": "ok",
     "timestamp": 1733938679393,
     "user": {
      "displayName": "Giacomo Scettri",
      "userId": "04764228103610248762"
     },
     "user_tz": -60
    },
    "id": "wW_GYQE_uA0w",
    "outputId": "5f5981e0-556a-46a6-fc7f-a87df51592c4"
   },
   "outputs": [
    {
     "data": {
      "text/plain": [
       "array([[59, 23, 63,  7, 98],\n",
       "       [63, 13,  7, 24,  2],\n",
       "       [48, 43, 37, 82, 31],\n",
       "       [12, 28, 79, 83, 66],\n",
       "       [71,  6, 10,  8, 88]], dtype=int32)"
      ]
     },
     "execution_count": 56,
     "metadata": {},
     "output_type": "execute_result"
    }
   ],
   "source": [
    "# Generating random integers within a specified range\n",
    "np.random.randint(1, 10)\n",
    "\n",
    "np.random.randint(1, 100, 10)  # start, end, shape\n",
    "\n",
    "np.random.randint(1, 100, (5, 5))\n"
   ]
  },
  {
   "cell_type": "code",
   "execution_count": 57,
   "metadata": {
    "colab": {
     "base_uri": "https://localhost:8080/"
    },
    "executionInfo": {
     "elapsed": 287,
     "status": "ok",
     "timestamp": 1733938724638,
     "user": {
      "displayName": "Giacomo Scettri",
      "userId": "04764228103610248762"
     },
     "user_tz": -60
    },
    "id": "DGUbrE2KzMBg",
    "outputId": "6d9992ca-993b-47e3-8198-7dccc69f25e6"
   },
   "outputs": [
    {
     "data": {
      "text/plain": [
       "2"
      ]
     },
     "execution_count": 57,
     "metadata": {},
     "output_type": "execute_result"
    }
   ],
   "source": [
    "np.random.randint(1, 20)\n"
   ]
  },
  {
   "cell_type": "code",
   "execution_count": 6,
   "metadata": {
    "colab": {
     "base_uri": "https://localhost:8080/"
    },
    "executionInfo": {
     "elapsed": 3059,
     "status": "ok",
     "timestamp": 1733939370688,
     "user": {
      "displayName": "Giacomo Scettri",
      "userId": "04764228103610248762"
     },
     "user_tz": -60
    },
    "id": "fLYE4zS11RjM",
    "outputId": "0442fc5b-d323-4251-d4f0-d20acb8d9d76"
   },
   "outputs": [
    {
     "name": "stdout",
     "output_type": "stream",
     "text": [
      "You lost!\n"
     ]
    }
   ],
   "source": [
    "input_variable = input()\n",
    "random_variable = np.random.randint(1, 6)\n",
    "if input_variable == random_variable:\n",
    "  print(\"You won!\")\n",
    "else:\n",
    "  print(\"You lost!\")"
   ]
  },
  {
   "cell_type": "markdown",
   "metadata": {
    "id": "ubHGQkzKVfSo"
   },
   "source": [
    "If you want to sample values with replacement, use np.random.choice.\n"
   ]
  },
  {
   "cell_type": "code",
   "execution_count": 7,
   "metadata": {
    "id": "heAsp-JCVofK"
   },
   "outputs": [],
   "source": [
    "# Setting the seed for reproducibility\n",
    "np.random.seed(1409)\n",
    "\n"
   ]
  },
  {
   "cell_type": "code",
   "execution_count": 8,
   "metadata": {
    "colab": {
     "base_uri": "https://localhost:8080/"
    },
    "executionInfo": {
     "elapsed": 518,
     "status": "ok",
     "timestamp": 1718888424218,
     "user": {
      "displayName": "Giacomo Scettri",
      "userId": "04764228103610248762"
     },
     "user_tz": -120
    },
    "id": "hIkm0UURu62p",
    "outputId": "9a195ad9-9ff2-47fa-89c2-cb96877d9401"
   },
   "outputs": [
    {
     "data": {
      "text/plain": [
       "array([9, 5, 7, 1, 3], dtype=int32)"
      ]
     },
     "execution_count": 8,
     "metadata": {},
     "output_type": "execute_result"
    }
   ],
   "source": [
    "# Sampling without replacement\n",
    "np.random.choice(10, size=5, replace=False)\n",
    "\n"
   ]
  },
  {
   "cell_type": "code",
   "execution_count": 9,
   "metadata": {
    "colab": {
     "base_uri": "https://localhost:8080/"
    },
    "executionInfo": {
     "elapsed": 549,
     "status": "ok",
     "timestamp": 1718888460621,
     "user": {
      "displayName": "Giacomo Scettri",
      "userId": "04764228103610248762"
     },
     "user_tz": -120
    },
    "id": "OI9y-tSku9Cb",
    "outputId": "cbd9f72f-e01d-4e88-f85e-6483133a0ad9"
   },
   "outputs": [
    {
     "data": {
      "text/plain": [
       "array([20, 22, 25, 27, 22])"
      ]
     },
     "execution_count": 9,
     "metadata": {},
     "output_type": "execute_result"
    }
   ],
   "source": [
    "# Sampling with replacement\n",
    "np.random.choice(np.arange(20, 30), size=5, replace=True)\n",
    "\n"
   ]
  },
  {
   "cell_type": "code",
   "execution_count": 10,
   "metadata": {
    "colab": {
     "base_uri": "https://localhost:8080/"
    },
    "executionInfo": {
     "elapsed": 757,
     "status": "ok",
     "timestamp": 1718888473533,
     "user": {
      "displayName": "Giacomo Scettri",
      "userId": "04764228103610248762"
     },
     "user_tz": -120
    },
    "id": "rqqrn-tVvGAG",
    "outputId": "eab5e93f-b5cb-4e11-cd39-37198ac1e94b"
   },
   "outputs": [
    {
     "data": {
      "text/plain": [
       "array(['pippo', 'pippo', 'topolino', 'topolino', 'topolino'], dtype='<U8')"
      ]
     },
     "execution_count": 10,
     "metadata": {},
     "output_type": "execute_result"
    }
   ],
   "source": [
    "# Sampling from a list of strings\n",
    "disney = ['pippo', 'pluto', 'topolino']\n",
    "np.random.choice(disney, size=5, replace=True)\n"
   ]
  },
  {
   "cell_type": "markdown",
   "metadata": {
    "id": "CaA_tzmpVby4"
   },
   "source": [
    "## Extending NumPy Arrays\n",
    "To extend an ndarray with new elements, we can use the append and concatenate functions.\n",
    "\n",
    "  \n",
    "\n"
   ]
  },
  {
   "cell_type": "code",
   "execution_count": 13,
   "metadata": {
    "id": "aq5XYN20VZ16"
   },
   "outputs": [
    {
     "data": {
      "text/plain": [
       "array([ 9,  7,  5,  3,  1, 12])"
      ]
     },
     "execution_count": 13,
     "metadata": {},
     "output_type": "execute_result"
    }
   ],
   "source": [
    "x_array = np.array([9, 7, 5, 3, 1])\n",
    "\n",
    "# Appending a single element\n",
    "np.append(x_array, 12)"
   ]
  },
  {
   "cell_type": "code",
   "execution_count": null,
   "metadata": {
    "id": "Ix5JRWiv0Xq7"
   },
   "outputs": [
    {
     "ename": "TypeError",
     "evalue": "descriptor 'append' for 'list' objects doesn't apply to a 'int' object",
     "output_type": "error",
     "traceback": [
      "\u001b[31m---------------------------------------------------------------------------\u001b[39m",
      "\u001b[31mTypeError\u001b[39m                                 Traceback (most recent call last)",
      "\u001b[36mCell\u001b[39m\u001b[36m \u001b[39m\u001b[32mIn[20]\u001b[39m\u001b[32m, line 2\u001b[39m\n\u001b[32m      1\u001b[39m ones = \u001b[38;5;28mlist\u001b[39m[\u001b[32m1\u001b[39m,\u001b[32m2\u001b[39m]\n\u001b[32m----> \u001b[39m\u001b[32m2\u001b[39m \u001b[43mones\u001b[49m\u001b[43m.\u001b[49m\u001b[43mappend\u001b[49m\u001b[43m(\u001b[49m\u001b[32;43m2\u001b[39;49m\u001b[43m)\u001b[49m\n",
      "\u001b[31mTypeError\u001b[39m: descriptor 'append' for 'list' objects doesn't apply to a 'int' object"
     ]
    }
   ],
   "source": [
    "ones = list[]\n",
    "ones.append()"
   ]
  },
  {
   "cell_type": "code",
   "execution_count": 21,
   "metadata": {
    "colab": {
     "base_uri": "https://localhost:8080/"
    },
    "executionInfo": {
     "elapsed": 418,
     "status": "ok",
     "timestamp": 1718889895646,
     "user": {
      "displayName": "Giacomo Scettri",
      "userId": "04764228103610248762"
     },
     "user_tz": -120
    },
    "id": "QuGBtt6S0Wk-",
    "outputId": "666a1125-dad1-4b97-a932-7919c171e1aa"
   },
   "outputs": [
    {
     "data": {
      "text/plain": [
       "array([9, 7, 5, 3, 1, 1, 2, 3, 4, 5])"
      ]
     },
     "execution_count": 21,
     "metadata": {},
     "output_type": "execute_result"
    }
   ],
   "source": [
    "# Appending multiple elements\n",
    "np.append(x_array, [12, 15])\n",
    "\n",
    "# Appending another array\n",
    "y_array = np.arange(1, 6)\n",
    "np.append(x_array, y_array)\n",
    "\n",
    "# Concatenating two arrays\n",
    "np.concatenate((x_array, y_array))\n"
   ]
  },
  {
   "cell_type": "markdown",
   "metadata": {
    "id": "brfWTcPJVVvW"
   },
   "source": [
    "When extending multidimensional arrays, you must specify the axis along which to perform the extension (0 for rows, 1 for columns).\n",
    "\n",
    "  \n"
   ]
  },
  {
   "cell_type": "code",
   "execution_count": 22,
   "metadata": {
    "colab": {
     "base_uri": "https://localhost:8080/"
    },
    "executionInfo": {
     "elapsed": 343,
     "status": "ok",
     "timestamp": 1718889962821,
     "user": {
      "displayName": "Giacomo Scettri",
      "userId": "04764228103610248762"
     },
     "user_tz": -120
    },
    "id": "q3sBSPd5VTsS",
    "outputId": "3480705a-9b47-4a68-d42b-8e4c7f3a0d02"
   },
   "outputs": [
    {
     "data": {
      "text/plain": [
       "array([[-1.13383833,  0.38431919],\n",
       "       [ 1.49655378, -0.3553823 ]])"
      ]
     },
     "execution_count": 22,
     "metadata": {},
     "output_type": "execute_result"
    }
   ],
   "source": [
    "np.random.seed(111)\n",
    "new_arr = np.random.randn(2, 2)\n",
    "\n",
    "new_arr"
   ]
  },
  {
   "cell_type": "code",
   "execution_count": 23,
   "metadata": {
    "colab": {
     "base_uri": "https://localhost:8080/"
    },
    "executionInfo": {
     "elapsed": 322,
     "status": "ok",
     "timestamp": 1718889974564,
     "user": {
      "displayName": "Giacomo Scettri",
      "userId": "04764228103610248762"
     },
     "user_tz": -120
    },
    "id": "Cvm-1c1-0w4O",
    "outputId": "9bca07a7-b8d8-4c1b-ab8b-c5f7b88e0540"
   },
   "outputs": [
    {
     "data": {
      "text/plain": [
       "array([[ 1.        ,  0.        ],\n",
       "       [ 0.        ,  1.        ],\n",
       "       [-1.13383833,  0.38431919],\n",
       "       [ 1.49655378, -0.3553823 ]])"
      ]
     },
     "execution_count": 23,
     "metadata": {},
     "output_type": "execute_result"
    }
   ],
   "source": [
    "# Appending along axis 0 (rows)\n",
    "np.append(np.eye(2), new_arr, axis=0)"
   ]
  },
  {
   "cell_type": "code",
   "execution_count": 24,
   "metadata": {
    "colab": {
     "base_uri": "https://localhost:8080/"
    },
    "executionInfo": {
     "elapsed": 345,
     "status": "ok",
     "timestamp": 1718890011833,
     "user": {
      "displayName": "Giacomo Scettri",
      "userId": "04764228103610248762"
     },
     "user_tz": -120
    },
    "id": "tcsGGkmo0x3d",
    "outputId": "0178ab48-69de-40b7-d098-f46dab9eb433"
   },
   "outputs": [
    {
     "data": {
      "text/plain": [
       "array([[ 1.        ,  0.        , -1.13383833,  0.38431919],\n",
       "       [ 0.        ,  1.        ,  1.49655378, -0.3553823 ]])"
      ]
     },
     "execution_count": 24,
     "metadata": {},
     "output_type": "execute_result"
    }
   ],
   "source": [
    "# Concatenating along axis 1 (columns)\n",
    "np.concatenate((np.eye(2), new_arr), axis=1)\n"
   ]
  },
  {
   "cell_type": "markdown",
   "metadata": {
    "id": "qKDJLJEkVQJI"
   },
   "source": [
    "## Utility Functions for Comparing/Manipulating Arrays\n",
    "NumPy defines several utilities for intersecting or merging elements of 1-D arrays as if they were \"sets\" of objects in a mathematical sense.\n",
    "\n"
   ]
  },
  {
   "cell_type": "code",
   "execution_count": 25,
   "metadata": {
    "colab": {
     "base_uri": "https://localhost:8080/"
    },
    "executionInfo": {
     "elapsed": 420,
     "status": "ok",
     "timestamp": 1718890070612,
     "user": {
      "displayName": "Giacomo Scettri",
      "userId": "04764228103610248762"
     },
     "user_tz": -120
    },
    "id": "ZvpGxdlmVNql",
    "outputId": "1216ca5d-93f0-431e-9270-75d79c6a8afe"
   },
   "outputs": [
    {
     "data": {
      "text/plain": [
       "array([1, 2, 3, 4, 5])"
      ]
     },
     "execution_count": 25,
     "metadata": {},
     "output_type": "execute_result"
    }
   ],
   "source": [
    "# Finding unique elements\n",
    "np.unique([1, 1, 2, 2, 3, 4, 5, 5, 5, 5])"
   ]
  },
  {
   "cell_type": "code",
   "execution_count": 26,
   "metadata": {
    "colab": {
     "base_uri": "https://localhost:8080/"
    },
    "executionInfo": {
     "elapsed": 324,
     "status": "ok",
     "timestamp": 1718890205067,
     "user": {
      "displayName": "Giacomo Scettri",
      "userId": "04764228103610248762"
     },
     "user_tz": -120
    },
    "id": "1zYKmiLN1OPC",
    "outputId": "8477e0ab-852f-4daf-9839-e1d0108dba92"
   },
   "outputs": [
    {
     "name": "stderr",
     "output_type": "stream",
     "text": [
      "C:\\Users\\rtira\\AppData\\Local\\Temp\\ipykernel_39544\\3568093718.py:2: DeprecationWarning: `in1d` is deprecated. Use `np.isin` instead.\n",
      "  np.sum(np.in1d([1, 2, 3, 4], np.arange(1, 9, 2)))\n"
     ]
    },
    {
     "data": {
      "text/plain": [
       "np.int64(2)"
      ]
     },
     "execution_count": 26,
     "metadata": {},
     "output_type": "execute_result"
    }
   ],
   "source": [
    "# Checking for elements in one array that are in another array\n",
    "np.sum(np.in1d([1, 2, 3, 4], np.arange(1, 9, 2)))\n",
    "\n"
   ]
  },
  {
   "cell_type": "code",
   "execution_count": 27,
   "metadata": {
    "colab": {
     "base_uri": "https://localhost:8080/"
    },
    "executionInfo": {
     "elapsed": 383,
     "status": "ok",
     "timestamp": 1718890290362,
     "user": {
      "displayName": "Giacomo Scettri",
      "userId": "04764228103610248762"
     },
     "user_tz": -120
    },
    "id": "tI60K2cl1g-v",
    "outputId": "e57e854c-f4de-43fb-c3b5-7aa83ce6798c"
   },
   "outputs": [
    {
     "data": {
      "text/plain": [
       "array([1, 2, 3, 4, 5])"
      ]
     },
     "execution_count": 27,
     "metadata": {},
     "output_type": "execute_result"
    }
   ],
   "source": [
    "# Union of two arrays\n",
    "np.union1d([1, 2, 3, 4], [5, 5, 5, 5])"
   ]
  },
  {
   "cell_type": "code",
   "execution_count": 28,
   "metadata": {
    "colab": {
     "base_uri": "https://localhost:8080/"
    },
    "executionInfo": {
     "elapsed": 355,
     "status": "ok",
     "timestamp": 1718890306579,
     "user": {
      "displayName": "Giacomo Scettri",
      "userId": "04764228103610248762"
     },
     "user_tz": -120
    },
    "id": "0uGaBtg31iV1",
    "outputId": "44439a59-8bdc-4566-c45b-17609720abb9"
   },
   "outputs": [
    {
     "data": {
      "text/plain": [
       "array([5])"
      ]
     },
     "execution_count": 28,
     "metadata": {},
     "output_type": "execute_result"
    }
   ],
   "source": [
    "# Intersection of two arrays\n",
    "np.intersect1d([1, 2, 3, 4, 5, 6], [5, 5, 5, 5])\n",
    "\n"
   ]
  },
  {
   "cell_type": "code",
   "execution_count": 29,
   "metadata": {
    "colab": {
     "base_uri": "https://localhost:8080/"
    },
    "executionInfo": {
     "elapsed": 402,
     "status": "ok",
     "timestamp": 1718890417423,
     "user": {
      "displayName": "Giacomo Scettri",
      "userId": "04764228103610248762"
     },
     "user_tz": -120
    },
    "id": "b91619DT1jOC",
    "outputId": "3e9de9d1-b310-4704-bc1e-a37d9bd697af"
   },
   "outputs": [
    {
     "data": {
      "text/plain": [
       "array([1, 2, 3, 4, 6])"
      ]
     },
     "execution_count": 29,
     "metadata": {},
     "output_type": "execute_result"
    }
   ],
   "source": [
    "# Set difference\n",
    "np.setdiff1d([1, 2, 3, 4, 5, 6], [5, 5, 5, 5])\n",
    "\n",
    "#np.setdiff1d([5, 5, 5, 5], [1, 2, 3, 4, 5, 6])\n"
   ]
  },
  {
   "cell_type": "markdown",
   "metadata": {
    "id": "o1V3GRQGVCQn"
   },
   "source": [
    "## Methods Available for NumPy Arrays\n",
    "NumPy provides numerous methods and attributes for ndarray objects. The first ones we see are related to the type of values present in the array itself.\n"
   ]
  },
  {
   "cell_type": "code",
   "execution_count": 30,
   "metadata": {
    "colab": {
     "base_uri": "https://localhost:8080/"
    },
    "executionInfo": {
     "elapsed": 424,
     "status": "ok",
     "timestamp": 1718890493609,
     "user": {
      "displayName": "Giacomo Scettri",
      "userId": "04764228103610248762"
     },
     "user_tz": -120
    },
    "id": "C9AJz-qSU_dq",
    "outputId": "38404dca-0bab-4faa-8c3c-c232ef6b3dc3"
   },
   "outputs": [
    {
     "data": {
      "text/plain": [
       "dtype('int64')"
      ]
     },
     "execution_count": 30,
     "metadata": {},
     "output_type": "execute_result"
    }
   ],
   "source": [
    "x_array = np.array([9, 7, 5, 3, 1])\n",
    "\n",
    "# Data type of the array\n",
    "x_array.dtype\n"
   ]
  },
  {
   "cell_type": "code",
   "execution_count": 31,
   "metadata": {
    "colab": {
     "base_uri": "https://localhost:8080/"
    },
    "executionInfo": {
     "elapsed": 388,
     "status": "ok",
     "timestamp": 1718890517780,
     "user": {
      "displayName": "Giacomo Scettri",
      "userId": "04764228103610248762"
     },
     "user_tz": -120
    },
    "id": "e3AHsbBX22Mr",
    "outputId": "f1d4e7ee-8f7c-4ff9-83b5-75c69ddb7ba4"
   },
   "outputs": [
    {
     "data": {
      "text/plain": [
       "array([9, 7, 5, 3, 1], dtype=int8)"
      ]
     },
     "execution_count": 31,
     "metadata": {},
     "output_type": "execute_result"
    }
   ],
   "source": [
    "# Changing the data type of the array\n",
    "x_array = x_array.astype('int8')\n",
    "x_array"
   ]
  },
  {
   "cell_type": "code",
   "execution_count": 32,
   "metadata": {
    "colab": {
     "base_uri": "https://localhost:8080/"
    },
    "executionInfo": {
     "elapsed": 317,
     "status": "ok",
     "timestamp": 1718890594933,
     "user": {
      "displayName": "Giacomo Scettri",
      "userId": "04764228103610248762"
     },
     "user_tz": -120
    },
    "id": "toEmG3Yf28D0",
    "outputId": "7ce76354-326f-4e6b-89ee-2eb76e0314cf"
   },
   "outputs": [
    {
     "ename": "AttributeError",
     "evalue": "`np.string_` was removed in the NumPy 2.0 release. Use `np.bytes_` instead.",
     "output_type": "error",
     "traceback": [
      "\u001b[31m---------------------------------------------------------------------------\u001b[39m",
      "\u001b[31mAttributeError\u001b[39m                            Traceback (most recent call last)",
      "\u001b[36mCell\u001b[39m\u001b[36m \u001b[39m\u001b[32mIn[32]\u001b[39m\u001b[32m, line 4\u001b[39m\n\u001b[32m      1\u001b[39m \u001b[38;5;66;03m# Creating an array with a specific data type\u001b[39;00m\n\u001b[32m      2\u001b[39m np.array([\u001b[33m'\u001b[39m\u001b[33m1.1\u001b[39m\u001b[33m'\u001b[39m, \u001b[33m'\u001b[39m\u001b[33m-2\u001b[39m\u001b[33m'\u001b[39m, \u001b[33m'\u001b[39m\u001b[33m4.5\u001b[39m\u001b[33m'\u001b[39m], dtype=np.double)\n\u001b[32m----> \u001b[39m\u001b[32m4\u001b[39m nstr = np.array([\u001b[33m'\u001b[39m\u001b[33m1.1\u001b[39m\u001b[33m'\u001b[39m, \u001b[33m'\u001b[39m\u001b[33m-2\u001b[39m\u001b[33m'\u001b[39m, \u001b[33m'\u001b[39m\u001b[33m4.5\u001b[39m\u001b[33m'\u001b[39m], dtype=\u001b[43mnp\u001b[49m\u001b[43m.\u001b[49m\u001b[43mstring_\u001b[49m)\n\u001b[32m      5\u001b[39m nstr.astype(np.double)\n",
      "\u001b[36mFile \u001b[39m\u001b[32m~\\AppData\\Roaming\\Python\\Python313\\site-packages\\numpy\\__init__.py:413\u001b[39m, in \u001b[36m__getattr__\u001b[39m\u001b[34m(attr)\u001b[39m\n\u001b[32m    410\u001b[39m     \u001b[38;5;28;01mraise\u001b[39;00m \u001b[38;5;167;01mAttributeError\u001b[39;00m(__former_attrs__[attr], name=\u001b[38;5;28;01mNone\u001b[39;00m)\n\u001b[32m    412\u001b[39m \u001b[38;5;28;01mif\u001b[39;00m attr \u001b[38;5;129;01min\u001b[39;00m __expired_attributes__:\n\u001b[32m--> \u001b[39m\u001b[32m413\u001b[39m     \u001b[38;5;28;01mraise\u001b[39;00m \u001b[38;5;167;01mAttributeError\u001b[39;00m(\n\u001b[32m    414\u001b[39m         \u001b[33mf\u001b[39m\u001b[33m\"\u001b[39m\u001b[33m`np.\u001b[39m\u001b[38;5;132;01m{\u001b[39;00mattr\u001b[38;5;132;01m}\u001b[39;00m\u001b[33m` was removed in the NumPy 2.0 release. \u001b[39m\u001b[33m\"\u001b[39m\n\u001b[32m    415\u001b[39m         \u001b[33mf\u001b[39m\u001b[33m\"\u001b[39m\u001b[38;5;132;01m{\u001b[39;00m__expired_attributes__[attr]\u001b[38;5;132;01m}\u001b[39;00m\u001b[33m\"\u001b[39m,\n\u001b[32m    416\u001b[39m         name=\u001b[38;5;28;01mNone\u001b[39;00m\n\u001b[32m    417\u001b[39m     )\n\u001b[32m    419\u001b[39m \u001b[38;5;28;01mif\u001b[39;00m attr == \u001b[33m\"\u001b[39m\u001b[33mchararray\u001b[39m\u001b[33m\"\u001b[39m:\n\u001b[32m    420\u001b[39m     warnings.warn(\n\u001b[32m    421\u001b[39m         \u001b[33m\"\u001b[39m\u001b[33m`np.chararray` is deprecated and will be removed from \u001b[39m\u001b[33m\"\u001b[39m\n\u001b[32m    422\u001b[39m         \u001b[33m\"\u001b[39m\u001b[33mthe main namespace in the future. Use an array with a string \u001b[39m\u001b[33m\"\u001b[39m\n\u001b[32m    423\u001b[39m         \u001b[33m\"\u001b[39m\u001b[33mor bytes dtype instead.\u001b[39m\u001b[33m\"\u001b[39m, \u001b[38;5;167;01mDeprecationWarning\u001b[39;00m, stacklevel=\u001b[32m2\u001b[39m)\n",
      "\u001b[31mAttributeError\u001b[39m: `np.string_` was removed in the NumPy 2.0 release. Use `np.bytes_` instead."
     ]
    }
   ],
   "source": [
    "# Creating an array with a specific data type\n",
    "np.array(['1.1', '-2', '4.5'], dtype=np.double)\n",
    "\n",
    "nstr = np.array(['1.1', '-2', '4.5'], dtype=np.string_)\n",
    "nstr.astype(np.double)"
   ]
  },
  {
   "cell_type": "markdown",
   "metadata": {
    "id": "MdoxuHycU4zZ"
   },
   "source": [
    "Not all values can be converted to all types!\n",
    "\n",
    "  \n",
    "\n"
   ]
  },
  {
   "cell_type": "code",
   "execution_count": 33,
   "metadata": {
    "id": "e4Q0U571U3zS"
   },
   "outputs": [
    {
     "ename": "NameError",
     "evalue": "name 'nstr' is not defined",
     "output_type": "error",
     "traceback": [
      "\u001b[31m---------------------------------------------------------------------------\u001b[39m",
      "\u001b[31mNameError\u001b[39m                                 Traceback (most recent call last)",
      "\u001b[36mCell\u001b[39m\u001b[36m \u001b[39m\u001b[32mIn[33]\u001b[39m\u001b[32m, line 1\u001b[39m\n\u001b[32m----> \u001b[39m\u001b[32m1\u001b[39m \u001b[43mnstr\u001b[49m.astype(np.int32)  \u001b[38;5;66;03m# This will raise an error because of incompatible conversion\u001b[39;00m\n",
      "\u001b[31mNameError\u001b[39m: name 'nstr' is not defined"
     ]
    }
   ],
   "source": [
    "nstr.astype(np.int32)  # This will raise an error because of incompatible conversion\n"
   ]
  },
  {
   "cell_type": "markdown",
   "metadata": {
    "id": "uoZrp0EkUyn4"
   },
   "source": [
    "Other methods are related to the size/shape of the array itself."
   ]
  },
  {
   "cell_type": "code",
   "execution_count": 34,
   "metadata": {
    "id": "HwdZIhYjUvqe"
   },
   "outputs": [
    {
     "data": {
      "text/plain": [
       "1"
      ]
     },
     "execution_count": 34,
     "metadata": {},
     "output_type": "execute_result"
    }
   ],
   "source": [
    " # Shape of the array\n",
    "x_array.shape\n",
    "\n",
    "# Number of dimensions\n",
    "x_array.ndim\n",
    "\n"
   ]
  },
  {
   "cell_type": "code",
   "execution_count": 35,
   "metadata": {
    "colab": {
     "base_uri": "https://localhost:8080/"
    },
    "executionInfo": {
     "elapsed": 387,
     "status": "ok",
     "timestamp": 1718890671639,
     "user": {
      "displayName": "Giacomo Scettri",
      "userId": "04764228103610248762"
     },
     "user_tz": -120
    },
    "id": "QnkyqkR23Ye9",
    "outputId": "02463517-874b-4096-9079-6ab0d79dca9d"
   },
   "outputs": [
    {
     "data": {
      "text/plain": [
       "2"
      ]
     },
     "execution_count": 35,
     "metadata": {},
     "output_type": "execute_result"
    }
   ],
   "source": [
    "# Creating a 2-D array\n",
    "my_matrix = [[1, 2, 3], [4, 5, 6], [7, 8, 9]]\n",
    "my_matrix\n",
    "np.array(my_matrix).shape\n",
    "np.array(my_matrix).ndim\n",
    "\n"
   ]
  },
  {
   "cell_type": "code",
   "execution_count": 36,
   "metadata": {
    "id": "qvYo6WJx3Z2N"
   },
   "outputs": [
    {
     "data": {
      "text/plain": [
       "3"
      ]
     },
     "execution_count": 36,
     "metadata": {},
     "output_type": "execute_result"
    }
   ],
   "source": [
    "# Creating a 3-D array\n",
    "ar3d = np.array([[[1, 0], [1, 1]], [[0.1, 0], [0.5, 0.7]]])\n",
    "ar3d.shape\n",
    "ar3d.ndim\n"
   ]
  },
  {
   "cell_type": "markdown",
   "metadata": {
    "id": "5KwpRqA4TjzV"
   },
   "source": [
    "NumPy also provides several summary statistics methods for arrays: min, max, argmin, argmax, mean, std, and sum.\n",
    "\n",
    "  \n",
    "\n"
   ]
  },
  {
   "cell_type": "code",
   "execution_count": 37,
   "metadata": {
    "colab": {
     "base_uri": "https://localhost:8080/"
    },
    "executionInfo": {
     "elapsed": 400,
     "status": "ok",
     "timestamp": 1733939431267,
     "user": {
      "displayName": "Giacomo Scettri",
      "userId": "04764228103610248762"
     },
     "user_tz": -60
    },
    "id": "OG07NFgaThS3",
    "outputId": "9b3f9ede-d693-42c9-8ac8-795e316aaf4f"
   },
   "outputs": [
    {
     "data": {
      "text/plain": [
       "np.int64(1)"
      ]
     },
     "execution_count": 37,
     "metadata": {},
     "output_type": "execute_result"
    }
   ],
   "source": [
    "x_array = np.array([9, 7, 5, 3, 1])\n",
    "\n",
    "# Minimum value\n",
    "x_array.min()"
   ]
  },
  {
   "cell_type": "code",
   "execution_count": 39,
   "metadata": {
    "id": "OIpdQYTA3owI"
   },
   "outputs": [
    {
     "data": {
      "text/plain": [
       "np.float64(0.42407988634218435)"
      ]
     },
     "execution_count": 39,
     "metadata": {},
     "output_type": "execute_result"
    }
   ],
   "source": [
    "# Index of minimum value\n",
    "x_array.argmin()\n",
    "\n",
    "# Maximum value\n",
    "x_array.max()\n",
    "\n",
    "# Index of maximum value\n",
    "x_array.argmax()\n",
    "\n",
    "# Mean value\n",
    "x_array.mean()\n",
    "\n",
    "# Standard deviation\n",
    "x_array.std()\n",
    "\n",
    "# Sum of all elements\n",
    "x_array.sum()\n",
    "\n",
    "# For multi-dimensional arrays, the array is first flattened into 1-D, then the method is applied.\n",
    "ar3d.std()\n"
   ]
  },
  {
   "cell_type": "markdown",
   "metadata": {
    "id": "A-hlNKdZTXhI"
   },
   "source": [
    "You can find a complete list of methods implemented for NumPy arrays at NumPy ndarray Documentation.\n",
    "\n"
   ]
  },
  {
   "cell_type": "markdown",
   "metadata": {
    "id": "_9jU1_K5TUVe"
   },
   "source": [
    "## Sorting NumPy Arrays\n",
    "The sort method sorts an array in place, while np.sort returns a sorted copy of the array.\n",
    "\n",
    "  \n",
    "\n"
   ]
  },
  {
   "cell_type": "code",
   "execution_count": 40,
   "metadata": {
    "colab": {
     "base_uri": "https://localhost:8080/"
    },
    "executionInfo": {
     "elapsed": 318,
     "status": "ok",
     "timestamp": 1718890742270,
     "user": {
      "displayName": "Giacomo Scettri",
      "userId": "04764228103610248762"
     },
     "user_tz": -120
    },
    "id": "VP5XhCVfTRZi",
    "outputId": "e67f35eb-436e-40e8-8800-687440dd600a"
   },
   "outputs": [
    {
     "data": {
      "text/plain": [
       "array([8, 4, 1, 2, 7])"
      ]
     },
     "execution_count": 40,
     "metadata": {},
     "output_type": "execute_result"
    }
   ],
   "source": [
    "tmp_array = np.array([8, 4, 1, 2, 7])\n",
    "tmp_array\n"
   ]
  },
  {
   "cell_type": "code",
   "execution_count": 41,
   "metadata": {
    "colab": {
     "base_uri": "https://localhost:8080/"
    },
    "executionInfo": {
     "elapsed": 360,
     "status": "ok",
     "timestamp": 1718890745027,
     "user": {
      "displayName": "Giacomo Scettri",
      "userId": "04764228103610248762"
     },
     "user_tz": -120
    },
    "id": "DX5JcWxUTQRE",
    "outputId": "6428602e-02d4-4000-9325-14cc91dd672d"
   },
   "outputs": [
    {
     "data": {
      "text/plain": [
       "array([1, 2, 4, 7, 8])"
      ]
     },
     "execution_count": 41,
     "metadata": {},
     "output_type": "execute_result"
    }
   ],
   "source": [
    "# Sorting the array in place\n",
    "tmp_array.sort()\n",
    "tmp_array\n"
   ]
  },
  {
   "cell_type": "code",
   "execution_count": 42,
   "metadata": {
    "colab": {
     "base_uri": "https://localhost:8080/"
    },
    "executionInfo": {
     "elapsed": 406,
     "status": "ok",
     "timestamp": 1718890756705,
     "user": {
      "displayName": "Giacomo Scettri",
      "userId": "04764228103610248762"
     },
     "user_tz": -120
    },
    "id": "E-vdoZfYTPL3",
    "outputId": "bde3aef8-8a82-478a-f567-47655dec8952"
   },
   "outputs": [
    {
     "data": {
      "text/plain": [
       "array([1, 2, 4, 7, 8])"
      ]
     },
     "execution_count": 42,
     "metadata": {},
     "output_type": "execute_result"
    }
   ],
   "source": [
    "# Sorting the array and returning a sorted copy\n",
    "tmp_array = np.array([8, 4, 1, 2, 7])\n",
    "np.sort(tmp_array)\n"
   ]
  },
  {
   "cell_type": "markdown",
   "metadata": {
    "id": "6qYcLtJwTNGa"
   },
   "source": [
    "For multi-dimensional arrays, you can choose whether to sort by rows, columns, or other dimensions.\n"
   ]
  },
  {
   "cell_type": "code",
   "execution_count": 43,
   "metadata": {
    "colab": {
     "base_uri": "https://localhost:8080/"
    },
    "executionInfo": {
     "elapsed": 386,
     "status": "ok",
     "timestamp": 1718890769331,
     "user": {
      "displayName": "Giacomo Scettri",
      "userId": "04764228103610248762"
     },
     "user_tz": -120
    },
    "id": "GE84vUeiTLgY",
    "outputId": "a93ea528-af48-4d4f-d1e7-d852c3ec0b23"
   },
   "outputs": [
    {
     "data": {
      "text/plain": [
       "array([[8, 4, 1],\n",
       "       [2, 7, 5]])"
      ]
     },
     "execution_count": 43,
     "metadata": {},
     "output_type": "execute_result"
    }
   ],
   "source": [
    "tmp_array2 = np.array([[8, 4, 1], [2, 7, 5]])\n",
    "tmp_array2\n"
   ]
  },
  {
   "cell_type": "code",
   "execution_count": 44,
   "metadata": {
    "colab": {
     "base_uri": "https://localhost:8080/"
    },
    "executionInfo": {
     "elapsed": 4,
     "status": "ok",
     "timestamp": 1718890772036,
     "user": {
      "displayName": "Giacomo Scettri",
      "userId": "04764228103610248762"
     },
     "user_tz": -120
    },
    "id": "sBVfFgZ1TKCm",
    "outputId": "fe8df5bf-ffe1-463c-e43a-9356a9b07637"
   },
   "outputs": [
    {
     "data": {
      "text/plain": [
       "array([[2, 4, 1],\n",
       "       [8, 7, 5]])"
      ]
     },
     "execution_count": 44,
     "metadata": {},
     "output_type": "execute_result"
    }
   ],
   "source": [
    "# Sorting each column\n",
    "tmp_array2.sort(0)\n",
    "tmp_array2\n"
   ]
  },
  {
   "cell_type": "code",
   "execution_count": 45,
   "metadata": {
    "colab": {
     "base_uri": "https://localhost:8080/"
    },
    "executionInfo": {
     "elapsed": 450,
     "status": "ok",
     "timestamp": 1718890775478,
     "user": {
      "displayName": "Giacomo Scettri",
      "userId": "04764228103610248762"
     },
     "user_tz": -120
    },
    "id": "A-oVtO_2TIDU",
    "outputId": "1c7c9d98-3b64-4a38-995a-3fade48a84f0"
   },
   "outputs": [
    {
     "data": {
      "text/plain": [
       "array([[1, 2, 4],\n",
       "       [5, 7, 8]])"
      ]
     },
     "execution_count": 45,
     "metadata": {},
     "output_type": "execute_result"
    }
   ],
   "source": [
    "# Sorting each row\n",
    "tmp_array2.sort(1)\n",
    "tmp_array2\n"
   ]
  },
  {
   "cell_type": "markdown",
   "metadata": {
    "id": "JCJjt-AQTDzq"
   },
   "source": [
    "The reshape method allows you to change the shape of an array.\n"
   ]
  },
  {
   "cell_type": "code",
   "execution_count": 46,
   "metadata": {
    "colab": {
     "base_uri": "https://localhost:8080/"
    },
    "executionInfo": {
     "elapsed": 610,
     "status": "ok",
     "timestamp": 1718890860226,
     "user": {
      "displayName": "Giacomo Scettri",
      "userId": "04764228103610248762"
     },
     "user_tz": -120
    },
    "id": "m4IT6RpiTCLL",
    "outputId": "74f384b4-a90f-4c05-9c17-b8c0b2da4fe6"
   },
   "outputs": [
    {
     "data": {
      "text/plain": [
       "array([[1. , 0. , 1. , 1. , 0.1, 0. , 0.5, 0.7]])"
      ]
     },
     "execution_count": 46,
     "metadata": {},
     "output_type": "execute_result"
    }
   ],
   "source": [
    "x_array.reshape(5, 1)\n",
    "ar3d = np.array([[[1, 0], [1, 1]], [[0.1, 0], [0.5, 0.7]]])\n",
    "ar3d.reshape(1, 8)\n"
   ]
  },
  {
   "cell_type": "markdown",
   "metadata": {
    "id": "5GIJHtYhS-_V"
   },
   "source": [
    "## Slicing Arrays\n",
    "Selection and slicing of arrays work exactly like they do for lists.\n"
   ]
  },
  {
   "cell_type": "code",
   "execution_count": 47,
   "metadata": {
    "colab": {
     "base_uri": "https://localhost:8080/"
    },
    "executionInfo": {
     "elapsed": 518,
     "status": "ok",
     "timestamp": 1718890876471,
     "user": {
      "displayName": "Giacomo Scettri",
      "userId": "04764228103610248762"
     },
     "user_tz": -120
    },
    "id": "0zHC71RrS7F9",
    "outputId": "b18102da-5d37-458a-c6d3-03b7930a1af6"
   },
   "outputs": [
    {
     "data": {
      "text/plain": [
       "array([ 3,  4,  5,  6,  7,  8,  9, 10])"
      ]
     },
     "execution_count": 47,
     "metadata": {},
     "output_type": "execute_result"
    }
   ],
   "source": [
    "vec = np.arange(3, 11)\n",
    "vec\n",
    "#vec[1]\n"
   ]
  },
  {
   "cell_type": "code",
   "execution_count": 48,
   "metadata": {
    "colab": {
     "base_uri": "https://localhost:8080/"
    },
    "executionInfo": {
     "elapsed": 319,
     "status": "ok",
     "timestamp": 1718890881504,
     "user": {
      "displayName": "Giacomo Scettri",
      "userId": "04764228103610248762"
     },
     "user_tz": -120
    },
    "id": "s89w_fjuS53D",
    "outputId": "0e35a25c-de05-454a-fdb3-981d8a9630ee"
   },
   "outputs": [
    {
     "data": {
      "text/plain": [
       "array([5, 6, 7, 8])"
      ]
     },
     "execution_count": 48,
     "metadata": {},
     "output_type": "execute_result"
    }
   ],
   "source": [
    "vec[2:6]\n"
   ]
  },
  {
   "cell_type": "code",
   "execution_count": 49,
   "metadata": {
    "colab": {
     "base_uri": "https://localhost:8080/"
    },
    "executionInfo": {
     "elapsed": 514,
     "status": "ok",
     "timestamp": 1718890903068,
     "user": {
      "displayName": "Giacomo Scettri",
      "userId": "04764228103610248762"
     },
     "user_tz": -120
    },
    "id": "d-L9NsCBS49V",
    "outputId": "1b7a4d84-5e53-43c5-da25-f9e85dd80ad2"
   },
   "outputs": [
    {
     "data": {
      "text/plain": [
       "array([3, 4, 5])"
      ]
     },
     "execution_count": 49,
     "metadata": {},
     "output_type": "execute_result"
    }
   ],
   "source": [
    "vec[:3]\n"
   ]
  },
  {
   "cell_type": "code",
   "execution_count": 50,
   "metadata": {
    "colab": {
     "base_uri": "https://localhost:8080/"
    },
    "executionInfo": {
     "elapsed": 6,
     "status": "ok",
     "timestamp": 1718890905464,
     "user": {
      "displayName": "Giacomo Scettri",
      "userId": "04764228103610248762"
     },
     "user_tz": -120
    },
    "id": "7mQLd_MGS2_n",
    "outputId": "aa3b6e9f-5905-4e89-dfa7-dc2585b99987"
   },
   "outputs": [
    {
     "data": {
      "text/plain": [
       "array([ 3,  4,  5,  6,  7,  8,  9, 10])"
      ]
     },
     "execution_count": 50,
     "metadata": {},
     "output_type": "execute_result"
    }
   ],
   "source": [
    "vec[:]\n"
   ]
  },
  {
   "cell_type": "code",
   "execution_count": 51,
   "metadata": {
    "colab": {
     "base_uri": "https://localhost:8080/"
    },
    "executionInfo": {
     "elapsed": 330,
     "status": "ok",
     "timestamp": 1718890913506,
     "user": {
      "displayName": "Giacomo Scettri",
      "userId": "04764228103610248762"
     },
     "user_tz": -120
    },
    "id": "CdDt6uSjS1uV",
    "outputId": "91f9a4ba-6f22-45de-b423-85bc9f96db23"
   },
   "outputs": [
    {
     "data": {
      "text/plain": [
       "np.int64(10)"
      ]
     },
     "execution_count": 51,
     "metadata": {},
     "output_type": "execute_result"
    }
   ],
   "source": [
    "vec[-1]\n"
   ]
  },
  {
   "cell_type": "code",
   "execution_count": 52,
   "metadata": {
    "colab": {
     "base_uri": "https://localhost:8080/"
    },
    "executionInfo": {
     "elapsed": 372,
     "status": "ok",
     "timestamp": 1718890951516,
     "user": {
      "displayName": "Giacomo Scettri",
      "userId": "04764228103610248762"
     },
     "user_tz": -120
    },
    "id": "bfnOPFcUS0lw",
    "outputId": "6b2c4e7f-2fd9-4a9c-958e-7e02c3d0b8ee"
   },
   "outputs": [
    {
     "data": {
      "text/plain": [
       "array([4, 6])"
      ]
     },
     "execution_count": 52,
     "metadata": {},
     "output_type": "execute_result"
    }
   ],
   "source": [
    "vec[1:5:2]\n"
   ]
  },
  {
   "cell_type": "markdown",
   "metadata": {
    "id": "kas0_sPWSyZE"
   },
   "source": [
    "A key difference from lists is the ability to redefine a range of elements in an array with a constant value.\n"
   ]
  },
  {
   "cell_type": "code",
   "execution_count": 53,
   "metadata": {
    "colab": {
     "base_uri": "https://localhost:8080/"
    },
    "executionInfo": {
     "elapsed": 334,
     "status": "ok",
     "timestamp": 1718890975872,
     "user": {
      "displayName": "Giacomo Scettri",
      "userId": "04764228103610248762"
     },
     "user_tz": -120
    },
    "id": "U_B0OUs4Sxev",
    "outputId": "b0df26a9-d887-4140-a640-e714445edd93"
   },
   "outputs": [
    {
     "data": {
      "text/plain": [
       "array([ 0,  0,  0,  6,  7,  8,  9, 10])"
      ]
     },
     "execution_count": 53,
     "metadata": {},
     "output_type": "execute_result"
    }
   ],
   "source": [
    "vec[0:3] = 0\n",
    "vec"
   ]
  },
  {
   "cell_type": "code",
   "execution_count": 54,
   "metadata": {
    "colab": {
     "base_uri": "https://localhost:8080/"
    },
    "executionInfo": {
     "elapsed": 424,
     "status": "ok",
     "timestamp": 1718890980120,
     "user": {
      "displayName": "Giacomo Scettri",
      "userId": "04764228103610248762"
     },
     "user_tz": -120
    },
    "id": "wThgfr2aSv0z",
    "outputId": "5e094f3e-35f9-4f3b-e938-b9d056adff57"
   },
   "outputs": [
    {
     "data": {
      "text/plain": [
       "array([ 1,  1,  1,  1,  7,  8,  9, 10])"
      ]
     },
     "execution_count": 54,
     "metadata": {},
     "output_type": "execute_result"
    }
   ],
   "source": [
    "vec[0:4] = 1\n",
    "vec"
   ]
  },
  {
   "cell_type": "code",
   "execution_count": 55,
   "metadata": {
    "id": "mJKCJeqSSUq-"
   },
   "outputs": [
    {
     "ename": "SyntaxError",
     "evalue": "invalid syntax (1010184765.py, line 1)",
     "output_type": "error",
     "traceback": [
      "  \u001b[36mCell\u001b[39m\u001b[36m \u001b[39m\u001b[32mIn[55]\u001b[39m\u001b[32m, line 1\u001b[39m\n\u001b[31m    \u001b[39m\u001b[31mBe careful! Changes made to a slice affect the original object.\u001b[39m\n       ^\n\u001b[31mSyntaxError\u001b[39m\u001b[31m:\u001b[39m invalid syntax\n"
     ]
    }
   ],
   "source": [
    "Be careful! Changes made to a slice affect the original object."
   ]
  },
  {
   "cell_type": "code",
   "execution_count": 56,
   "metadata": {
    "colab": {
     "base_uri": "https://localhost:8080/"
    },
    "executionInfo": {
     "elapsed": 337,
     "status": "ok",
     "timestamp": 1718891015110,
     "user": {
      "displayName": "Giacomo Scettri",
      "userId": "04764228103610248762"
     },
     "user_tz": -120
    },
    "id": "uUugB3xUR2a1",
    "outputId": "5a15e6f1-808d-4eb4-9bac-412c5096a1e5"
   },
   "outputs": [
    {
     "name": "stdout",
     "output_type": "stream",
     "text": [
      "[99 99 99 99  7  8  9 10]\n",
      "[99 99 99 99]\n"
     ]
    }
   ],
   "source": [
    "subvec = vec[0:4]\n",
    "subvec[:] = 99\n",
    "print(vec)\n",
    "print(subvec)\n"
   ]
  },
  {
   "cell_type": "code",
   "execution_count": 57,
   "metadata": {
    "id": "rpCcCqIzRzNa"
   },
   "outputs": [
    {
     "data": {
      "text/plain": [
       "array([3, 4, 5, 6])"
      ]
     },
     "execution_count": 57,
     "metadata": {},
     "output_type": "execute_result"
    }
   ],
   "source": [
    "# To avoid this effect, use the copy method of NumPy arrays.\n",
    "vec = np.arange(3, 11)\n",
    "subvec = vec[0:4].copy()\n",
    "subvec"
   ]
  },
  {
   "cell_type": "code",
   "execution_count": 58,
   "metadata": {
    "id": "EzfFtycORwJw"
   },
   "outputs": [
    {
     "data": {
      "text/plain": [
       "array([ 3,  4,  5,  6,  7,  8,  9, 10])"
      ]
     },
     "execution_count": 58,
     "metadata": {},
     "output_type": "execute_result"
    }
   ],
   "source": [
    "subvec[:] = 99\n",
    "subvec\n",
    "vec\n"
   ]
  },
  {
   "cell_type": "markdown",
   "metadata": {
    "id": "OVQ1klfZRnlf"
   },
   "source": [
    "You can also select elements of an array based on the values contained in a second array of boolean values."
   ]
  },
  {
   "cell_type": "code",
   "execution_count": null,
   "metadata": {
    "colab": {
     "base_uri": "https://localhost:8080/"
    },
    "executionInfo": {
     "elapsed": 335,
     "status": "ok",
     "timestamp": 1718891061633,
     "user": {
      "displayName": "Giacomo Scettri",
      "userId": "04764228103610248762"
     },
     "user_tz": -120
    },
    "id": "EKItrhRyRlq2",
    "outputId": "9f78af6e-3a84-4cb5-e63f-ae73de78d517"
   },
   "outputs": [
    {
     "name": "stdout",
     "output_type": "stream",
     "text": [
      "[ 3  4  5  6  7  8  9 10]\n"
     ]
    },
    {
     "data": {
      "text/plain": [
       "array([False, False, False,  True,  True,  True,  True,  True])"
      ]
     },
     "execution_count": 105,
     "metadata": {},
     "output_type": "execute_result"
    }
   ],
   "source": [
    "vec = np.arange(3, 11)\n",
    "print(vec)\n",
    "vec > 5"
   ]
  },
  {
   "cell_type": "code",
   "execution_count": null,
   "metadata": {
    "colab": {
     "base_uri": "https://localhost:8080/"
    },
    "executionInfo": {
     "elapsed": 325,
     "status": "ok",
     "timestamp": 1718891174720,
     "user": {
      "displayName": "Giacomo Scettri",
      "userId": "04764228103610248762"
     },
     "user_tz": -120
    },
    "id": "dgJinOK5Rjd5",
    "outputId": "849b6749-693c-485a-d283-56d78f61b12e"
   },
   "outputs": [
    {
     "data": {
      "text/plain": [
       "array([False, False, False,  True,  True,  True,  True,  True])"
      ]
     },
     "execution_count": 111,
     "metadata": {},
     "output_type": "execute_result"
    }
   ],
   "source": [
    "vec[vec > 5] = 99\n",
    "(vec > 5) & (vec < 800)"
   ]
  },
  {
   "cell_type": "code",
   "execution_count": null,
   "metadata": {
    "colab": {
     "base_uri": "https://localhost:8080/"
    },
    "executionInfo": {
     "elapsed": 322,
     "status": "ok",
     "timestamp": 1718891162186,
     "user": {
      "displayName": "Giacomo Scettri",
      "userId": "04764228103610248762"
     },
     "user_tz": -120
    },
    "id": "ZtNQaEVRRh20",
    "outputId": "e01309bd-4ddc-497d-8b54-d6ac5ccfeeae"
   },
   "outputs": [
    {
     "data": {
      "text/plain": [
       "array([99, 99, 99, 99, 99])"
      ]
     },
     "execution_count": 109,
     "metadata": {},
     "output_type": "execute_result"
    }
   ],
   "source": [
    "vec[(vec > 5) & (vec < 800)]\n"
   ]
  },
  {
   "cell_type": "markdown",
   "metadata": {
    "id": "3LBXWzp2Rfiu"
   },
   "source": [
    "For multi-dimensional arrays, you can access sub-blocks using the notation [interval1, interval2], choosing appropriate ranges of indices for each dimension.\n"
   ]
  },
  {
   "cell_type": "code",
   "execution_count": null,
   "metadata": {
    "colab": {
     "base_uri": "https://localhost:8080/"
    },
    "executionInfo": {
     "elapsed": 480,
     "status": "ok",
     "timestamp": 1718891201974,
     "user": {
      "displayName": "Giacomo Scettri",
      "userId": "04764228103610248762"
     },
     "user_tz": -120
    },
    "id": "-IlKkARoReHH",
    "outputId": "a539274b-9ebd-4981-bc3c-2ead6443a4b1"
   },
   "outputs": [
    {
     "data": {
      "text/plain": [
       "array([[1, 2, 3],\n",
       "       [4, 5, 6],\n",
       "       [7, 8, 9]])"
      ]
     },
     "execution_count": 112,
     "metadata": {},
     "output_type": "execute_result"
    }
   ],
   "source": [
    "mat = np.arange(1, 10).reshape(3, 3)\n",
    "mat"
   ]
  },
  {
   "cell_type": "code",
   "execution_count": null,
   "metadata": {
    "colab": {
     "base_uri": "https://localhost:8080/"
    },
    "executionInfo": {
     "elapsed": 372,
     "status": "ok",
     "timestamp": 1718891242178,
     "user": {
      "displayName": "Giacomo Scettri",
      "userId": "04764228103610248762"
     },
     "user_tz": -120
    },
    "id": "xAlxJFpbRXfZ",
    "outputId": "32db9ac8-9636-4216-d75a-9344de28c63d"
   },
   "outputs": [
    {
     "data": {
      "text/plain": [
       "array([[1],\n",
       "       [4],\n",
       "       [7]])"
      ]
     },
     "execution_count": 115,
     "metadata": {},
     "output_type": "execute_result"
    }
   ],
   "source": [
    "mat[0:, :1]"
   ]
  },
  {
   "cell_type": "markdown",
   "metadata": {
    "id": "DUyddeGoRPTF"
   },
   "source": [
    "You can select elements using lists and vectors and choose the extraction order.\n"
   ]
  },
  {
   "cell_type": "code",
   "execution_count": null,
   "metadata": {
    "colab": {
     "base_uri": "https://localhost:8080/"
    },
    "executionInfo": {
     "elapsed": 425,
     "status": "ok",
     "timestamp": 1718891298860,
     "user": {
      "displayName": "Giacomo Scettri",
      "userId": "04764228103610248762"
     },
     "user_tz": -120
    },
    "id": "osYEfz1uRNgi",
    "outputId": "783b1217-51eb-46a0-831d-de556b922691"
   },
   "outputs": [
    {
     "data": {
      "text/plain": [
       "array([7, 1])"
      ]
     },
     "execution_count": 118,
     "metadata": {},
     "output_type": "execute_result"
    }
   ],
   "source": [
    "mat[[2, 0],0]\n"
   ]
  },
  {
   "cell_type": "code",
   "execution_count": null,
   "metadata": {
    "colab": {
     "base_uri": "https://localhost:8080/"
    },
    "executionInfo": {
     "elapsed": 400,
     "status": "ok",
     "timestamp": 1718891310939,
     "user": {
      "displayName": "Giacomo Scettri",
      "userId": "04764228103610248762"
     },
     "user_tz": -120
    },
    "id": "aQQTKxGZRLxj",
    "outputId": "a34f09e2-a361-4a2e-8638-310d0e56cbf5"
   },
   "outputs": [
    {
     "data": {
      "text/plain": [
       "array([[1, 2, 3]])"
      ]
     },
     "execution_count": 119,
     "metadata": {},
     "output_type": "execute_result"
    }
   ],
   "source": [
    "mat[np.arange(0, 1)]\n"
   ]
  },
  {
   "cell_type": "code",
   "execution_count": null,
   "metadata": {
    "colab": {
     "base_uri": "https://localhost:8080/"
    },
    "executionInfo": {
     "elapsed": 428,
     "status": "ok",
     "timestamp": 1718891313436,
     "user": {
      "displayName": "Giacomo Scettri",
      "userId": "04764228103610248762"
     },
     "user_tz": -120
    },
    "id": "FdX11HfHRKZB",
    "outputId": "424b2a6a-c482-468a-8824-7f82b0afad49"
   },
   "outputs": [
    {
     "data": {
      "text/plain": [
       "array([[4, 5, 6],\n",
       "       [7, 8, 9]])"
      ]
     },
     "execution_count": 120,
     "metadata": {},
     "output_type": "execute_result"
    }
   ],
   "source": [
    "mat[[False, True, True]]\n"
   ]
  },
  {
   "cell_type": "markdown",
   "metadata": {
    "id": "U964smU7RHYj"
   },
   "source": [
    "You can also modify part of a multi-dimensional array using slicing.\n"
   ]
  },
  {
   "cell_type": "code",
   "execution_count": null,
   "metadata": {
    "id": "8ulAVXDPREgi"
   },
   "outputs": [],
   "source": [
    "mat[~(np.array([False, True, True]))] = 0\n",
    "mat\n"
   ]
  },
  {
   "cell_type": "code",
   "execution_count": null,
   "metadata": {
    "id": "sSdP6AKgRC4m"
   },
   "outputs": [],
   "source": [
    "mat[0] = np.arange(1, 4)\n",
    "mat\n"
   ]
  },
  {
   "cell_type": "markdown",
   "metadata": {
    "id": "O1fFaBoiPNC_"
   },
   "source": [
    "## The where Function\n",
    "Another common operation in data science is generating an array (multi-D) with different values based on a condition verified by another array of the same size. This operation is implemented in NumPy using the where function."
   ]
  },
  {
   "cell_type": "code",
   "execution_count": null,
   "metadata": {
    "colab": {
     "base_uri": "https://localhost:8080/"
    },
    "executionInfo": {
     "elapsed": 291,
     "status": "ok",
     "timestamp": 1718891431387,
     "user": {
      "displayName": "Giacomo Scettri",
      "userId": "04764228103610248762"
     },
     "user_tz": -120
    },
    "id": "bKA_XxnzPKti",
    "outputId": "6758cb91-6317-471b-a22d-0fcb490d9bcf"
   },
   "outputs": [
    {
     "data": {
      "text/plain": [
       "array([[ 1,  4],\n",
       "       [ 7, 10]])"
      ]
     },
     "execution_count": 121,
     "metadata": {},
     "output_type": "execute_result"
    }
   ],
   "source": [
    "z_array = np.arange(1, 13, 3).reshape(2, 2)\n",
    "z_array"
   ]
  },
  {
   "cell_type": "code",
   "execution_count": null,
   "metadata": {
    "colab": {
     "base_uri": "https://localhost:8080/"
    },
    "executionInfo": {
     "elapsed": 363,
     "status": "ok",
     "timestamp": 1718891593396,
     "user": {
      "displayName": "Giacomo Scettri",
      "userId": "04764228103610248762"
     },
     "user_tz": -120
    },
    "id": "4ThwNcQcPJFv",
    "outputId": "49fb4a81-9f29-4a24-a954-c4c6e320d982"
   },
   "outputs": [
    {
     "data": {
      "text/plain": [
       "array([[1, 0],\n",
       "       [1, 0]])"
      ]
     },
     "execution_count": 126,
     "metadata": {},
     "output_type": "execute_result"
    }
   ],
   "source": [
    "#np.where(z_array % 2, 1,0)\n",
    "z_array % 2"
   ]
  },
  {
   "cell_type": "code",
   "execution_count": null,
   "metadata": {
    "colab": {
     "base_uri": "https://localhost:8080/"
    },
    "executionInfo": {
     "elapsed": 464,
     "status": "ok",
     "timestamp": 1718891551455,
     "user": {
      "displayName": "Giacomo Scettri",
      "userId": "04764228103610248762"
     },
     "user_tz": -120
    },
    "id": "heZmb4cCPHDD",
    "outputId": "4f6ffe9d-8186-468c-9d2e-29a49d95f010"
   },
   "outputs": [
    {
     "data": {
      "text/plain": [
       "array([['here', 'there'],\n",
       "       ['here', 'there']], dtype='<U5')"
      ]
     },
     "execution_count": 124,
     "metadata": {},
     "output_type": "execute_result"
    }
   ],
   "source": [
    "np.where(z_array % 2, 'here', 'there')"
   ]
  },
  {
   "cell_type": "code",
   "execution_count": null,
   "metadata": {
    "colab": {
     "base_uri": "https://localhost:8080/"
    },
    "executionInfo": {
     "elapsed": 387,
     "status": "ok",
     "timestamp": 1718891634098,
     "user": {
      "displayName": "Giacomo Scettri",
      "userId": "04764228103610248762"
     },
     "user_tz": -120
    },
    "id": "ATtUxga8PEt7",
    "outputId": "af2a569c-f03e-4f39-acb5-9a8749d902a1"
   },
   "outputs": [
    {
     "data": {
      "text/plain": [
       "array([['a', 'y'],\n",
       "       ['c', 'z']], dtype='<U1')"
      ]
     },
     "execution_count": 127,
     "metadata": {},
     "output_type": "execute_result"
    }
   ],
   "source": [
    "c1 = [['a', 'b'], ['c', 'd']]\n",
    "c2 = [['x', 'y'], ['w', 'z']]\n",
    "np.where(z_array % 2, c1, c2)"
   ]
  },
  {
   "cell_type": "markdown",
   "metadata": {
    "id": "6woYE1xHPBL6"
   },
   "source": [
    "## Special Case of Slicing and where\n",
    "The options for slicing a NumPy array include a special use case that is not consistent with those described so far but useful in some situations. If the slicing indices are given as a pair of lists of the same length, NumPy extracts individual elements at the intersection of the specified indices, placing them in an array."
   ]
  },
  {
   "cell_type": "code",
   "execution_count": null,
   "metadata": {
    "id": "0NjuHfRzO7xv"
   },
   "outputs": [],
   "source": [
    "mat = np.arange(1, 10).reshape(3, 3)\n",
    "mat[[2, 0], [1, 2]]"
   ]
  },
  {
   "cell_type": "code",
   "execution_count": null,
   "metadata": {
    "id": "tjbwHttqO4IA"
   },
   "outputs": [],
   "source": [
    "mat[[0, 0, 1, 2], [1, 2, 2, 2]]\n"
   ]
  },
  {
   "cell_type": "markdown",
   "metadata": {
    "id": "XpqK--kCO1RA"
   },
   "source": [
    "We can use the where function to produce a pair of index lists where a specific condition is met. It is sufficient not to specify additional arguments besides the condition. In this case, the function returns a tuple of row and column indices identifying which elements of the array satisfy the boolean condition.\n",
    "\n"
   ]
  },
  {
   "cell_type": "code",
   "execution_count": null,
   "metadata": {
    "id": "E02q1qSuOv66"
   },
   "outputs": [],
   "source": [
    "z_array = np.arange(1, 13, 3).reshape(2, 2)\n",
    "z_array\n",
    "\n"
   ]
  },
  {
   "cell_type": "code",
   "execution_count": null,
   "metadata": {
    "id": "T-Pb2k2oOuRQ"
   },
   "outputs": [],
   "source": [
    "np.where(z_array % 2)"
   ]
  },
  {
   "cell_type": "code",
   "execution_count": null,
   "metadata": {
    "id": "oAQ07zocOr60"
   },
   "outputs": [],
   "source": [
    "np.where(z_array == 4)\n",
    "z_array[np.where(z_array == 4)]\n"
   ]
  },
  {
   "cell_type": "markdown",
   "metadata": {
    "id": "84Cg4r_VOa36"
   },
   "source": [
    "### Special Values in NumPy\n",
    "NumPy has some special values to handle calculations between arrays: inf and nan which have their arithmetic (and therefore often do not lead to errors).\n",
    "\n"
   ]
  },
  {
   "cell_type": "code",
   "execution_count": null,
   "metadata": {
    "colab": {
     "base_uri": "https://localhost:8080/"
    },
    "executionInfo": {
     "elapsed": 338,
     "status": "ok",
     "timestamp": 1718891702554,
     "user": {
      "displayName": "Giacomo Scettri",
      "userId": "04764228103610248762"
     },
     "user_tz": -120
    },
    "id": "oHZfARocOXiy",
    "outputId": "21410841-9c0d-4389-b441-e94929b755cc"
   },
   "outputs": [
    {
     "name": "stderr",
     "output_type": "stream",
     "text": [
      "<ipython-input-128-8daf9bc5a333>:1: RuntimeWarning: divide by zero encountered in divide\n",
      "  np.arange(1, 3) / 0\n"
     ]
    },
    {
     "data": {
      "text/plain": [
       "array([inf, inf])"
      ]
     },
     "execution_count": 128,
     "metadata": {},
     "output_type": "execute_result"
    }
   ],
   "source": [
    "np.arange(1, 3) / 0"
   ]
  },
  {
   "cell_type": "code",
   "execution_count": null,
   "metadata": {
    "colab": {
     "base_uri": "https://localhost:8080/"
    },
    "executionInfo": {
     "elapsed": 510,
     "status": "ok",
     "timestamp": 1718891722336,
     "user": {
      "displayName": "Giacomo Scettri",
      "userId": "04764228103610248762"
     },
     "user_tz": -120
    },
    "id": "gPEE_mnuOUwH",
    "outputId": "773b97b9-b418-4578-9200-98039abdd801"
   },
   "outputs": [
    {
     "data": {
      "text/plain": [
       "nan"
      ]
     },
     "execution_count": 129,
     "metadata": {},
     "output_type": "execute_result"
    }
   ],
   "source": [
    "np.inf * 0"
   ]
  },
  {
   "cell_type": "code",
   "execution_count": null,
   "metadata": {
    "colab": {
     "base_uri": "https://localhost:8080/"
    },
    "executionInfo": {
     "elapsed": 345,
     "status": "ok",
     "timestamp": 1718891738632,
     "user": {
      "displayName": "Giacomo Scettri",
      "userId": "04764228103610248762"
     },
     "user_tz": -120
    },
    "id": "T-opx8B5OT8b",
    "outputId": "041d7263-e0be-4801-b9c3-e390724ac2c5"
   },
   "outputs": [
    {
     "name": "stderr",
     "output_type": "stream",
     "text": [
      "<ipython-input-130-917f3e35a498>:1: RuntimeWarning: divide by zero encountered in divide\n",
      "  np.arange(3) / 0\n",
      "<ipython-input-130-917f3e35a498>:1: RuntimeWarning: invalid value encountered in divide\n",
      "  np.arange(3) / 0\n"
     ]
    },
    {
     "data": {
      "text/plain": [
       "array([nan, inf, inf])"
      ]
     },
     "execution_count": 130,
     "metadata": {},
     "output_type": "execute_result"
    }
   ],
   "source": [
    "np.arange(3) / 0"
   ]
  },
  {
   "cell_type": "code",
   "execution_count": null,
   "metadata": {
    "colab": {
     "base_uri": "https://localhost:8080/"
    },
    "executionInfo": {
     "elapsed": 430,
     "status": "ok",
     "timestamp": 1718891752828,
     "user": {
      "displayName": "Giacomo Scettri",
      "userId": "04764228103610248762"
     },
     "user_tz": -120
    },
    "id": "tDyuylEbOQdt",
    "outputId": "5ae87a59-dcc6-4976-9375-6df5e0a2d4a3"
   },
   "outputs": [
    {
     "data": {
      "text/plain": [
       "nan"
      ]
     },
     "execution_count": 131,
     "metadata": {},
     "output_type": "execute_result"
    }
   ],
   "source": [
    "np.nan * 2"
   ]
  },
  {
   "cell_type": "code",
   "execution_count": null,
   "metadata": {
    "colab": {
     "base_uri": "https://localhost:8080/"
    },
    "executionInfo": {
     "elapsed": 437,
     "status": "ok",
     "timestamp": 1718891756689,
     "user": {
      "displayName": "Giacomo Scettri",
      "userId": "04764228103610248762"
     },
     "user_tz": -120
    },
    "id": "8-kRfGYZOPo3",
    "outputId": "acc9c7f6-7c01-44db-8593-3e016f9e223a"
   },
   "outputs": [
    {
     "data": {
      "text/plain": [
       "nan"
      ]
     },
     "execution_count": 132,
     "metadata": {},
     "output_type": "execute_result"
    }
   ],
   "source": [
    "5. + np.nan + 8"
   ]
  },
  {
   "cell_type": "code",
   "execution_count": null,
   "metadata": {
    "colab": {
     "base_uri": "https://localhost:8080/"
    },
    "executionInfo": {
     "elapsed": 34,
     "status": "ok",
     "timestamp": 1718891758977,
     "user": {
      "displayName": "Giacomo Scettri",
      "userId": "04764228103610248762"
     },
     "user_tz": -120
    },
    "id": "GyRLS2yLM-7B",
    "outputId": "e3b7d085-b258-4730-cc37-e666d02ffe10"
   },
   "outputs": [
    {
     "data": {
      "text/plain": [
       "nan"
      ]
     },
     "execution_count": 133,
     "metadata": {},
     "output_type": "execute_result"
    }
   ],
   "source": [
    "np.nan + np.nan"
   ]
  },
  {
   "cell_type": "code",
   "execution_count": null,
   "metadata": {
    "colab": {
     "base_uri": "https://localhost:8080/"
    },
    "executionInfo": {
     "elapsed": 446,
     "status": "ok",
     "timestamp": 1718891764412,
     "user": {
      "displayName": "Giacomo Scettri",
      "userId": "04764228103610248762"
     },
     "user_tz": -120
    },
    "id": "9Kn7S54WM9fD",
    "outputId": "3cc285d3-fcf0-4af9-e823-52ec11ac9a52"
   },
   "outputs": [
    {
     "data": {
      "text/plain": [
       "inf"
      ]
     },
     "execution_count": 134,
     "metadata": {},
     "output_type": "execute_result"
    }
   ],
   "source": [
    "3 + np.inf"
   ]
  },
  {
   "cell_type": "code",
   "execution_count": null,
   "metadata": {
    "colab": {
     "base_uri": "https://localhost:8080/"
    },
    "executionInfo": {
     "elapsed": 27,
     "status": "ok",
     "timestamp": 1718891766566,
     "user": {
      "displayName": "Giacomo Scettri",
      "userId": "04764228103610248762"
     },
     "user_tz": -120
    },
    "id": "dfxRiawHM7sB",
    "outputId": "a4f1b2d0-ed45-4c08-bb9a-b0d8779b8520"
   },
   "outputs": [
    {
     "data": {
      "text/plain": [
       "nan"
      ]
     },
     "execution_count": 135,
     "metadata": {},
     "output_type": "execute_result"
    }
   ],
   "source": [
    "np.inf - np.inf"
   ]
  },
  {
   "cell_type": "code",
   "execution_count": null,
   "metadata": {
    "colab": {
     "base_uri": "https://localhost:8080/"
    },
    "executionInfo": {
     "elapsed": 354,
     "status": "ok",
     "timestamp": 1718891780792,
     "user": {
      "displayName": "Giacomo Scettri",
      "userId": "04764228103610248762"
     },
     "user_tz": -120
    },
    "id": "Ctds2k9bM6aW",
    "outputId": "ee4e7086-56af-41ca-ba51-498842e3c7cd"
   },
   "outputs": [
    {
     "data": {
      "text/plain": [
       "nan"
      ]
     },
     "execution_count": 136,
     "metadata": {},
     "output_type": "execute_result"
    }
   ],
   "source": [
    "np.inf + np.nan"
   ]
  },
  {
   "cell_type": "code",
   "execution_count": null,
   "metadata": {
    "colab": {
     "base_uri": "https://localhost:8080/"
    },
    "executionInfo": {
     "elapsed": 464,
     "status": "ok",
     "timestamp": 1718891788556,
     "user": {
      "displayName": "Giacomo Scettri",
      "userId": "04764228103610248762"
     },
     "user_tz": -120
    },
    "id": "AO4-U0gHM3KB",
    "outputId": "6481ecdb-47e1-440f-a451-3983cbcf1ee9"
   },
   "outputs": [
    {
     "data": {
      "text/plain": [
       "nan"
      ]
     },
     "execution_count": 137,
     "metadata": {},
     "output_type": "execute_result"
    }
   ],
   "source": [
    "np.inf * np.nan"
   ]
  },
  {
   "cell_type": "code",
   "execution_count": null,
   "metadata": {
    "colab": {
     "base_uri": "https://localhost:8080/"
    },
    "executionInfo": {
     "elapsed": 390,
     "status": "ok",
     "timestamp": 1718892820900,
     "user": {
      "displayName": "Giacomo Scettri",
      "userId": "04764228103610248762"
     },
     "user_tz": -120
    },
    "id": "e86HNRbZ_JKv",
    "outputId": "ae41313d-e6c0-440b-f203-27cbe213bbff"
   },
   "outputs": [
    {
     "data": {
      "text/plain": [
       "0.0065610408782958984"
      ]
     },
     "execution_count": 139,
     "metadata": {},
     "output_type": "execute_result"
    }
   ],
   "source": [
    "import time\n",
    "# Time\n",
    "a=0\n",
    "start = time.time()\n",
    "for i in range(20000):\n",
    "  a+=0\n",
    "\n",
    "end = time.time()\n",
    "\n",
    "end - start"
   ]
  },
  {
   "cell_type": "markdown",
   "metadata": {
    "id": "TCL8bydAN_Mp"
   },
   "source": [
    "# NumPy Exercises\n",
    "\n",
    "## Exercise 1\n",
    "Create a 1-D NumPy array with elements from 10 to 50 (inclusive).\n",
    "\n",
    "## Exercise 2\n",
    "Create a 1-D array of 20 equally spaced values between 1 and 10.\n",
    "\n",
    "## Exercise 3\n",
    "Create a 2x2 identity matrix.\n",
    "\n",
    "## Exercise 4\n",
    "Create a 3x3 array of all zeros and a 3x3 array of all ones.\n",
    "\n",
    "## Exercise 5\n",
    "Create a 1-D array with elements [1, 3, 5, 7, 9] and another with elements [2, 4, 6, 8, 10]. Add these two arrays.\n",
    "\n",
    "## Exercise 6\n",
    "Multiply the above two arrays element-wise.\n",
    "\n",
    "## Exercise 7\n",
    "Compute the square root of each element in the first array.\n",
    "\n",
    "## Exercise 8\n",
    "Create a 4x4 matrix with values from 0 to 15.\n",
    "\n",
    "## Exercise 9\n",
    "Slice the above matrix to get a 2x2 sub-matrix from the top left corner.\n",
    "\n",
    "## Exercise 10\n",
    "Replace all odd numbers in a 1-D array of 10 elements with -1.\n",
    "\n",
    "## Exercise 11\n",
    "Create a 3x3 matrix and find the cumulative sum along each row.\n",
    "\n",
    "## Exercise 12\n",
    "Create a 5x5 matrix with random values and find the maximum value in each row.\n",
    "\n",
    "## Exercise 13\n",
    "Normalize a 5x5 random matrix (subtract the mean and divide by the standard deviation).\n",
    "\n",
    "## Exercise 14\n",
    "Create a 5x5 matrix with values 1 to 25 and then subtract the mean of each row from the corresponding row elements.\n",
    "\n",
    "## Exercise 15\n",
    "Find the indices of the minimum and maximum values in a 1-D random array of 15 elements.\n",
    "\n",
    "\n",
    "\n",
    "\n",
    "\n"
   ]
  },
  {
   "cell_type": "code",
   "execution_count": null,
   "metadata": {
    "id": "f10tikxNhsi0"
   },
   "outputs": [],
   "source": [
    "numbers = [1, 2, 3, 4, 5, 6, 7, 8, 9, 10]\n"
   ]
  },
  {
   "cell_type": "code",
   "execution_count": null,
   "metadata": {
    "id": "NMxixOIDj03u"
   },
   "outputs": [],
   "source": [
    "even_numbers = []\n",
    "#even_numbers.append(3)\n",
    "#even_numbers"
   ]
  },
  {
   "cell_type": "code",
   "execution_count": null,
   "metadata": {
    "colab": {
     "base_uri": "https://localhost:8080/"
    },
    "executionInfo": {
     "elapsed": 340,
     "status": "ok",
     "timestamp": 1718885780581,
     "user": {
      "displayName": "Giacomo Scettri",
      "userId": "04764228103610248762"
     },
     "user_tz": -120
    },
    "id": "27Zn0_kCj23I",
    "outputId": "e5e6c396-6d51-4cfb-d641-ab3c98227c6b"
   },
   "outputs": [
    {
     "name": "stdout",
     "output_type": "stream",
     "text": [
      "1\n",
      "2\n",
      "3\n",
      "4\n",
      "5\n",
      "6\n",
      "7\n",
      "8\n",
      "9\n",
      "10\n",
      "[2, 4, 6, 8, 10]\n"
     ]
    }
   ],
   "source": [
    "for number in numbers:\n",
    "    print(number)\n",
    "    if number % 2 == 0:\n",
    "        even_numbers.append(number)\n",
    "print(even_numbers)"
   ]
  },
  {
   "cell_type": "code",
   "execution_count": null,
   "metadata": {
    "id": "NKhSvLXDkO1F"
   },
   "outputs": [],
   "source": []
  }
 ],
 "metadata": {
  "colab": {
   "provenance": [
    {
     "file_id": "1MipvLYT2BXW4qLDug7JdH4NHvoW67PCw",
     "timestamp": 1750090255877
    }
   ]
  },
  "kernelspec": {
   "display_name": "Python 3",
   "name": "python3"
  },
  "language_info": {
   "codemirror_mode": {
    "name": "ipython",
    "version": 3
   },
   "file_extension": ".py",
   "mimetype": "text/x-python",
   "name": "python",
   "nbconvert_exporter": "python",
   "pygments_lexer": "ipython3",
   "version": "3.13.2"
  }
 },
 "nbformat": 4,
 "nbformat_minor": 0
}
