{
 "cells": [
  {
   "cell_type": "markdown",
   "id": "9ef7c8f8",
   "metadata": {},
   "source": [
    "# Sidel – Anomaly Labelling Notebook\n",
    "Uses the `Efficiency` and `Produce` columns to compute energy per bottle, builds a 30‑day rolling median per recipe, flags rows > 25 % above that baseline, and merges alarms."
   ]
  },
  {
   "cell_type": "code",
   "execution_count": 1,
   "id": "0e7118df",
   "metadata": {},
   "outputs": [],
   "source": [
    "\n",
    "import pandas as pd, numpy as np\n",
    "import matplotlib.pyplot as plt\n",
    "from zoneinfo import ZoneInfo\n",
    "\n",
    "# ------------ parameters ------------\n",
    "recipe_files = {\n",
    "    'machine1': 'Data/df_recipe_performance_machine1.csv',\n",
    "    'machine2': 'Data/df_recipe_performance_machine2.csv',\n",
    "    'machine3': 'Data/df_recipe_performance_machine3.csv'\n",
    "}\n",
    "alarm_files = {\n",
    "    'machine1': 'Data/alarm_machine1.csv',\n",
    "    'machine2': 'Data/alarm_machine2.csv',\n",
    "    'machine3': 'Data/alarm_machine3.csv'\n",
    "}\n",
    "tz = ZoneInfo('Europe/Rome')\n",
    "\n",
    "energy_col  = 'Efficiency'   # kWh metric\n",
    "output_col  = 'Produce'      # bottles produced\n",
    "threshold   = 0.25           # 25 %\n"
   ]
  },
  {
   "cell_type": "code",
   "execution_count": 3,
   "id": "31f2b7ae",
   "metadata": {},
   "outputs": [],
   "source": [
    "\n",
    "# ------------ load & combine recipe data ------------\n",
    "recipes = []\n",
    "for m, fp in recipe_files.items():\n",
    "    df = pd.read_csv(fp)\n",
    "    ts_col = next(c for c in df.columns if 'time' in c.lower())\n",
    "    df[ts_col] = (pd.to_datetime(df[ts_col], utc=True).dt.tz_convert('Europe/Rome'))\n",
    "    df['machine'] = m\n",
    "    recipes.append(df)\n",
    "recipes = pd.concat(recipes, ignore_index=True)\n"
   ]
  },
  {
   "cell_type": "code",
   "execution_count": 4,
   "id": "9baff712",
   "metadata": {},
   "outputs": [
    {
     "ename": "KeyError",
     "evalue": "'Efficiency'",
     "output_type": "error",
     "traceback": [
      "\u001b[31m---------------------------------------------------------------------------\u001b[39m",
      "\u001b[31mKeyError\u001b[39m                                  Traceback (most recent call last)",
      "\u001b[36mFile \u001b[39m\u001b[32m~\\AppData\\Roaming\\Python\\Python313\\site-packages\\pandas\\core\\indexes\\base.py:3805\u001b[39m, in \u001b[36mIndex.get_loc\u001b[39m\u001b[34m(self, key)\u001b[39m\n\u001b[32m   3804\u001b[39m \u001b[38;5;28;01mtry\u001b[39;00m:\n\u001b[32m-> \u001b[39m\u001b[32m3805\u001b[39m     \u001b[38;5;28;01mreturn\u001b[39;00m \u001b[38;5;28;43mself\u001b[39;49m\u001b[43m.\u001b[49m\u001b[43m_engine\u001b[49m\u001b[43m.\u001b[49m\u001b[43mget_loc\u001b[49m\u001b[43m(\u001b[49m\u001b[43mcasted_key\u001b[49m\u001b[43m)\u001b[49m\n\u001b[32m   3806\u001b[39m \u001b[38;5;28;01mexcept\u001b[39;00m \u001b[38;5;167;01mKeyError\u001b[39;00m \u001b[38;5;28;01mas\u001b[39;00m err:\n",
      "\u001b[36mFile \u001b[39m\u001b[32mindex.pyx:167\u001b[39m, in \u001b[36mpandas._libs.index.IndexEngine.get_loc\u001b[39m\u001b[34m()\u001b[39m\n",
      "\u001b[36mFile \u001b[39m\u001b[32mindex.pyx:196\u001b[39m, in \u001b[36mpandas._libs.index.IndexEngine.get_loc\u001b[39m\u001b[34m()\u001b[39m\n",
      "\u001b[36mFile \u001b[39m\u001b[32mpandas\\\\_libs\\\\hashtable_class_helper.pxi:7081\u001b[39m, in \u001b[36mpandas._libs.hashtable.PyObjectHashTable.get_item\u001b[39m\u001b[34m()\u001b[39m\n",
      "\u001b[36mFile \u001b[39m\u001b[32mpandas\\\\_libs\\\\hashtable_class_helper.pxi:7089\u001b[39m, in \u001b[36mpandas._libs.hashtable.PyObjectHashTable.get_item\u001b[39m\u001b[34m()\u001b[39m\n",
      "\u001b[31mKeyError\u001b[39m: 'Efficiency'",
      "\nThe above exception was the direct cause of the following exception:\n",
      "\u001b[31mKeyError\u001b[39m                                  Traceback (most recent call last)",
      "\u001b[36mCell\u001b[39m\u001b[36m \u001b[39m\u001b[32mIn[4]\u001b[39m\u001b[32m, line 2\u001b[39m\n\u001b[32m      1\u001b[39m \u001b[38;5;66;03m# ------------ feature engineering ------------\u001b[39;00m\n\u001b[32m----> \u001b[39m\u001b[32m2\u001b[39m recipes[\u001b[33m'\u001b[39m\u001b[33menergy_per_bottle\u001b[39m\u001b[33m'\u001b[39m] = \u001b[43mrecipes\u001b[49m\u001b[43m[\u001b[49m\u001b[43menergy_col\u001b[49m\u001b[43m]\u001b[49m / recipes[output_col].replace(\u001b[32m0\u001b[39m, np.nan)\n\u001b[32m      4\u001b[39m recipe_id_col = \u001b[38;5;28mnext\u001b[39m((c \u001b[38;5;28;01mfor\u001b[39;00m c \u001b[38;5;129;01min\u001b[39;00m recipes.columns \u001b[38;5;28;01mif\u001b[39;00m \u001b[33m'\u001b[39m\u001b[33mrecipe\u001b[39m\u001b[33m'\u001b[39m \u001b[38;5;129;01min\u001b[39;00m c.lower()), \u001b[38;5;28;01mNone\u001b[39;00m)\n\u001b[32m      5\u001b[39m \u001b[38;5;28;01mif\u001b[39;00m \u001b[38;5;129;01mnot\u001b[39;00m recipe_id_col:\n",
      "\u001b[36mFile \u001b[39m\u001b[32m~\\AppData\\Roaming\\Python\\Python313\\site-packages\\pandas\\core\\frame.py:4102\u001b[39m, in \u001b[36mDataFrame.__getitem__\u001b[39m\u001b[34m(self, key)\u001b[39m\n\u001b[32m   4100\u001b[39m \u001b[38;5;28;01mif\u001b[39;00m \u001b[38;5;28mself\u001b[39m.columns.nlevels > \u001b[32m1\u001b[39m:\n\u001b[32m   4101\u001b[39m     \u001b[38;5;28;01mreturn\u001b[39;00m \u001b[38;5;28mself\u001b[39m._getitem_multilevel(key)\n\u001b[32m-> \u001b[39m\u001b[32m4102\u001b[39m indexer = \u001b[38;5;28;43mself\u001b[39;49m\u001b[43m.\u001b[49m\u001b[43mcolumns\u001b[49m\u001b[43m.\u001b[49m\u001b[43mget_loc\u001b[49m\u001b[43m(\u001b[49m\u001b[43mkey\u001b[49m\u001b[43m)\u001b[49m\n\u001b[32m   4103\u001b[39m \u001b[38;5;28;01mif\u001b[39;00m is_integer(indexer):\n\u001b[32m   4104\u001b[39m     indexer = [indexer]\n",
      "\u001b[36mFile \u001b[39m\u001b[32m~\\AppData\\Roaming\\Python\\Python313\\site-packages\\pandas\\core\\indexes\\base.py:3812\u001b[39m, in \u001b[36mIndex.get_loc\u001b[39m\u001b[34m(self, key)\u001b[39m\n\u001b[32m   3807\u001b[39m     \u001b[38;5;28;01mif\u001b[39;00m \u001b[38;5;28misinstance\u001b[39m(casted_key, \u001b[38;5;28mslice\u001b[39m) \u001b[38;5;129;01mor\u001b[39;00m (\n\u001b[32m   3808\u001b[39m         \u001b[38;5;28misinstance\u001b[39m(casted_key, abc.Iterable)\n\u001b[32m   3809\u001b[39m         \u001b[38;5;129;01mand\u001b[39;00m \u001b[38;5;28many\u001b[39m(\u001b[38;5;28misinstance\u001b[39m(x, \u001b[38;5;28mslice\u001b[39m) \u001b[38;5;28;01mfor\u001b[39;00m x \u001b[38;5;129;01min\u001b[39;00m casted_key)\n\u001b[32m   3810\u001b[39m     ):\n\u001b[32m   3811\u001b[39m         \u001b[38;5;28;01mraise\u001b[39;00m InvalidIndexError(key)\n\u001b[32m-> \u001b[39m\u001b[32m3812\u001b[39m     \u001b[38;5;28;01mraise\u001b[39;00m \u001b[38;5;167;01mKeyError\u001b[39;00m(key) \u001b[38;5;28;01mfrom\u001b[39;00m\u001b[38;5;250m \u001b[39m\u001b[34;01merr\u001b[39;00m\n\u001b[32m   3813\u001b[39m \u001b[38;5;28;01mexcept\u001b[39;00m \u001b[38;5;167;01mTypeError\u001b[39;00m:\n\u001b[32m   3814\u001b[39m     \u001b[38;5;66;03m# If we have a listlike key, _check_indexing_error will raise\u001b[39;00m\n\u001b[32m   3815\u001b[39m     \u001b[38;5;66;03m#  InvalidIndexError. Otherwise we fall through and re-raise\u001b[39;00m\n\u001b[32m   3816\u001b[39m     \u001b[38;5;66;03m#  the TypeError.\u001b[39;00m\n\u001b[32m   3817\u001b[39m     \u001b[38;5;28mself\u001b[39m._check_indexing_error(key)\n",
      "\u001b[31mKeyError\u001b[39m: 'Efficiency'"
     ]
    }
   ],
   "source": [
    "\n",
    "# ------------ feature engineering ------------\n",
    "recipes['energy_per_bottle'] = recipes[energy_col] / recipes[output_col].replace(0, np.nan)\n",
    "\n",
    "recipe_id_col = next((c for c in recipes.columns if 'recipe' in c.lower()), None)\n",
    "if not recipe_id_col:\n",
    "    print('⚠️  No recipe identifier found automatically.')\n",
    "\n",
    "# Compute rolling 30‑day median within each recipe & machine\n",
    "recipes = recipes.sort_values(ts_col)\n",
    "recipes['roll_median'] = recipes.groupby(['machine', recipe_id_col])['energy_per_bottle']\\\n",
    "                              .transform(lambda s: s.rolling('30D', on=ts_col).median())\n",
    "\n",
    "recipes['anomaly'] = (recipes['energy_per_bottle'] > (1 + threshold) * recipes['roll_median']).astype(int)\n",
    "print('Total anomalies:', recipes['anomaly'].sum())\n"
   ]
  },
  {
   "cell_type": "code",
   "execution_count": null,
   "id": "15b471ff",
   "metadata": {},
   "outputs": [],
   "source": [
    "\n",
    "# ------------ load & align alarms ------------\n",
    "alarms = []\n",
    "for m, fp in alarm_files.items():\n",
    "    df = pd.read_csv(fp)\n",
    "    dt_col = next(c for c in df.columns if 'time' in c.lower() or 'created' in c.lower())\n",
    "    df_a[dt_col] = (pd.to_datetime(df_a[dt_col], utc=True).dt.tz_convert('Europe/Rome'))\n",
    "    df['machine'] = m\n",
    "    alarms.append(df[[dt_col, 'machine']])\n",
    "alarms = pd.concat(alarms, ignore_index=True)\n",
    "alarms.rename(columns={dt_col: 'alarm_time'}, inplace=True)\n",
    "alarms['alarm_time_min'] = alarms['alarm_time'].dt.floor('min')\n",
    "\n",
    "recipes['timestamp_min'] = recipes[ts_col].dt.floor('min')\n",
    "recipes = recipes.merge(alarms[['alarm_time_min', 'machine']],\n",
    "                        left_on=['timestamp_min', 'machine'],\n",
    "                        right_on=['alarm_time_min', 'machine'],\n",
    "                        how='left', indicator='alarm_merge')\n",
    "\n",
    "recipes['alarm_overlap'] = (recipes['alarm_merge'] == 'both').astype(int)\n",
    "print('% of anomalies with an overlapping alarm:',\n",
    "      (recipes.query('anomaly == 1')['alarm_overlap'].mean() * 100).round(2), '%')\n"
   ]
  },
  {
   "cell_type": "code",
   "execution_count": null,
   "id": "3108752b",
   "metadata": {},
   "outputs": [],
   "source": [
    "\n",
    "# ------------ quick plot ------------\n",
    "m = 'machine1'\n",
    "sub = recipes[recipes['machine'] == m].set_index(ts_col)\n",
    "plt.figure(figsize=(12,4))\n",
    "plt.plot(sub['energy_per_bottle'], label='Energy per bottle', alpha=0.4)\n",
    "plt.scatter(sub[sub['anomaly']==1].index,\n",
    "            sub.loc[sub['anomaly']==1, 'energy_per_bottle'],\n",
    "            s=10, label='Anomaly', color='red')\n",
    "plt.title(f'Energy per bottle & anomalies – {m}')\n",
    "plt.legend()\n",
    "plt.show()\n"
   ]
  }
 ],
 "metadata": {
  "kernelspec": {
   "display_name": "Python 3",
   "name": "python3"
  },
  "language_info": {
   "codemirror_mode": {
    "name": "ipython",
    "version": 3
   },
   "file_extension": ".py",
   "mimetype": "text/x-python",
   "name": "python",
   "nbconvert_exporter": "python",
   "pygments_lexer": "ipython3",
   "version": "3.13.2"
  }
 },
 "nbformat": 4,
 "nbformat_minor": 5
}
