{
 "cells": [
  {
   "cell_type": "markdown",
   "id": "6e5f6737",
   "metadata": {},
   "source": [
    "# Sidel Energy Anomaly Detection\n",
    "### Wrangling & Exploratory Data Analysis (EDA)\n",
    "This notebook loads the provided datasets (alarms & recipe performance for three machines) and performs initial wrangling and exploratory data analysis.\n"
   ]
  },
  {
   "cell_type": "code",
   "execution_count": 2,
   "id": "f0ada71a",
   "metadata": {},
   "outputs": [
    {
     "data": {
      "text/plain": [
       "dict_keys(['alarm_machine1', 'alarm_machine2', 'alarm_machine3', 'recipe_machine1', 'recipe_machine2', 'recipe_machine3', 'description'])"
      ]
     },
     "execution_count": 2,
     "metadata": {},
     "output_type": "execute_result"
    }
   ],
   "source": [
    "import pandas as pd\n",
    "import matplotlib.pyplot as plt\n",
    "\n",
    "file_paths = {\n",
    "    'alarm_machine1': 'Data/alarm_machine1.csv',\n",
    "    'alarm_machine2': 'Data/alarm_machine2.csv',\n",
    "    'alarm_machine3': 'Data/alarm_machine3.csv',\n",
    "    'recipe_machine1': 'Data/df_recipe_performance_machine1.csv',\n",
    "    'recipe_machine2': 'Data/df_recipe_performance_machine2.csv',\n",
    "    'recipe_machine3': 'Data/df_recipe_performance_machine3.csv',\n",
    "    'description': 'Data/datasets_description.xlsx'\n",
    "}\n",
    "\n",
    "df_dict = {}\n",
    "for key, path in file_paths.items():\n",
    "    if path.endswith('.csv'):\n",
    "        df_dict[key] = pd.read_csv(path)\n",
    "    elif path.endswith('.xlsx'):\n",
    "        df_dict[key] = pd.read_excel(path)\n",
    "\n",
    "# Quick check\n",
    "df_dict.keys()"
   ]
  },
  {
   "cell_type": "code",
   "execution_count": 3,
   "id": "ff810d94",
   "metadata": {},
   "outputs": [
    {
     "data": {
      "text/html": [
       "<div>\n",
       "<style scoped>\n",
       "    .dataframe tbody tr th:only-of-type {\n",
       "        vertical-align: middle;\n",
       "    }\n",
       "\n",
       "    .dataframe tbody tr th {\n",
       "        vertical-align: top;\n",
       "    }\n",
       "\n",
       "    .dataframe thead th {\n",
       "        text-align: right;\n",
       "    }\n",
       "</style>\n",
       "<table border=\"1\" class=\"dataframe\">\n",
       "  <thead>\n",
       "    <tr style=\"text-align: right;\">\n",
       "      <th></th>\n",
       "      <th>dataset</th>\n",
       "      <th>rows</th>\n",
       "      <th>cols</th>\n",
       "      <th>missing_cells</th>\n",
       "    </tr>\n",
       "  </thead>\n",
       "  <tbody>\n",
       "    <tr>\n",
       "      <th>0</th>\n",
       "      <td>alarm_machine1</td>\n",
       "      <td>1529</td>\n",
       "      <td>7</td>\n",
       "      <td>0</td>\n",
       "    </tr>\n",
       "    <tr>\n",
       "      <th>1</th>\n",
       "      <td>alarm_machine2</td>\n",
       "      <td>1212</td>\n",
       "      <td>7</td>\n",
       "      <td>0</td>\n",
       "    </tr>\n",
       "    <tr>\n",
       "      <th>2</th>\n",
       "      <td>alarm_machine3</td>\n",
       "      <td>102</td>\n",
       "      <td>7</td>\n",
       "      <td>0</td>\n",
       "    </tr>\n",
       "    <tr>\n",
       "      <th>3</th>\n",
       "      <td>recipe_machine1</td>\n",
       "      <td>7769</td>\n",
       "      <td>32</td>\n",
       "      <td>0</td>\n",
       "    </tr>\n",
       "    <tr>\n",
       "      <th>4</th>\n",
       "      <td>recipe_machine2</td>\n",
       "      <td>5292</td>\n",
       "      <td>32</td>\n",
       "      <td>0</td>\n",
       "    </tr>\n",
       "    <tr>\n",
       "      <th>5</th>\n",
       "      <td>recipe_machine3</td>\n",
       "      <td>5523</td>\n",
       "      <td>32</td>\n",
       "      <td>0</td>\n",
       "    </tr>\n",
       "    <tr>\n",
       "      <th>6</th>\n",
       "      <td>description</td>\n",
       "      <td>31</td>\n",
       "      <td>3</td>\n",
       "      <td>0</td>\n",
       "    </tr>\n",
       "  </tbody>\n",
       "</table>\n",
       "</div>"
      ],
      "text/plain": [
       "           dataset  rows  cols  missing_cells\n",
       "0   alarm_machine1  1529     7              0\n",
       "1   alarm_machine2  1212     7              0\n",
       "2   alarm_machine3   102     7              0\n",
       "3  recipe_machine1  7769    32              0\n",
       "4  recipe_machine2  5292    32              0\n",
       "5  recipe_machine3  5523    32              0\n",
       "6      description    31     3              0"
      ]
     },
     "execution_count": 3,
     "metadata": {},
     "output_type": "execute_result"
    }
   ],
   "source": [
    "summary = []\n",
    "for key, df in df_dict.items():\n",
    "    rows, cols = df.shape\n",
    "    missing = df.isna().sum().sum()\n",
    "    summary.append({'dataset': key, 'rows': rows, 'cols': cols, 'missing_cells': missing})\n",
    "pd.DataFrame(summary)"
   ]
  },
  {
   "cell_type": "code",
   "execution_count": 4,
   "id": "bdb7b342",
   "metadata": {},
   "outputs": [
    {
     "name": "stdout",
     "output_type": "stream",
     "text": [
      "alarm_machine1: createdAt from 2024-01-13 11:00:00 to 2025-03-26 11:00:00\n",
      "alarm_machine2: createdAt from 2024-01-03 19:00:00 to 2025-03-30 22:00:00\n",
      "alarm_machine3: createdAt from 2024-01-02 13:00:00 to 2024-11-29 23:00:00\n",
      "recipe_machine1: timestamp from 2024-01-29 09:00:00+00:00 to 2025-03-31 23:00:00+00:00\n",
      "recipe_machine2: timestamp from 2024-01-25 07:00:00+00:00 to 2025-03-31 23:00:00+00:00\n",
      "recipe_machine3: timestamp from 2024-01-24 17:00:00+00:00 to 2025-03-31 23:00:00+00:00\n"
     ]
    }
   ],
   "source": [
    "# Parse datetime columns where available\n",
    "datetime_mappings = {\n",
    "    'createdAt': ['alarm_machine1', 'alarm_machine2', 'alarm_machine3'],\n",
    "    'timestamp': ['recipe_machine1', 'recipe_machine2', 'recipe_machine3']\n",
    "}\n",
    "for col, keys in datetime_mappings.items():\n",
    "    for k in keys:\n",
    "        if col in df_dict[k].columns:\n",
    "            df_dict[k][col] = pd.to_datetime(df_dict[k][col])\n",
    "            # Display range\n",
    "            print(f\"{k}: {col} from {df_dict[k][col].min()} to {df_dict[k][col].max()}\")"
   ]
  },
  {
   "cell_type": "code",
   "execution_count": 5,
   "id": "50c148cb",
   "metadata": {},
   "outputs": [
    {
     "data": {
      "image/png": "[encoded data removed]",
      "text/plain": [
       "<Figure size 640x480 with 1 Axes>"
      ]
     },
     "metadata": {},
     "output_type": "display_data"
    }
   ],
   "source": [
    "# Example histogram of OEE for machine 1 (if available)\n",
    "if 'recipe_machine1' in df_dict and 'oee' in df_dict['recipe_machine1'].columns:\n",
    "    df_dict['recipe_machine1']['oee'].hist(bins=30)\n",
    "    plt.title('Machine 1 OEE Distribution')\n",
    "    plt.xlabel('OEE')\n",
    "    plt.ylabel('Frequency')\n",
    "    plt.show()"
   ]
  }
 ],
 "metadata": {
  "kernelspec": {
   "display_name": "Python 3",
   "name": "python3"
  },
  "language_info": {
   "codemirror_mode": {
    "name": "ipython",
    "version": 3
   },
   "file_extension": ".py",
   "mimetype": "text/x-python",
   "name": "python",
   "nbconvert_exporter": "python",
   "pygments_lexer": "ipython3",
   "version": "3.13.2"
  }
 },
 "nbformat": 4,
 "nbformat_minor": 5
}
